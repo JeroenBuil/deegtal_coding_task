{
 "cells": [
  {
   "cell_type": "code",
   "execution_count": 28,
   "metadata": {},
   "outputs": [],
   "source": [
    "# Authors: Jeroen BUil\n",
    "# License: BSD-3-Clause"
   ]
  },
  {
   "cell_type": "markdown",
   "metadata": {},
   "source": [
    "# 2. Build XGBoost Models\n",
    "\n",
    "### About:\n",
    "This notebook does:\n",
    "- Feature Extraction:\n",
    "    - Further processing of the data to get it in a format ready for model training\n",
    "- Modeling:\n",
    "    - Build CNN model => high performing! =)\n",
    "    - (Experimental) Build a XGB model => low performce\n",
    "    - (Exploratory) PCA + tSNE feature exploration to explore low performance of XGB\n",
    "\n",
    "\n",
    "## Prequisistes\n",
    "1_Exploratory_Data_Analysis notebook must be run before working on **\n",
    "Essential file(s) are created in the subsequent steps."
   ]
  },
  {
   "cell_type": "markdown",
   "metadata": {},
   "source": [
    "# Init"
   ]
  },
  {
   "cell_type": "code",
   "execution_count": 39,
   "metadata": {},
   "outputs": [],
   "source": [
    "import os\n",
    "import sys\n",
    "import glob as glob\n",
    "\n",
    "import pickle\n",
    "import numpy as np\n",
    "import matplotlib.pyplot as plt\n",
    "import pandas as pd\n",
    "import mne\n",
    "from tqdm.notebook import tqdm\n",
    "\n",
    "from IPython.display import clear_output\n",
    "from PIL import Image, ImageChops\n",
    "from matplotlib.backends.backend_agg import FigureCanvasAgg as FigureCanvas\n",
    "\n",
    "from sklearn.metrics import accuracy_score, confusion_matrix, f1_score\n",
    "import seaborn as sns\n",
    "\n",
    "# Force add module to sys path as it is sometimes not recognised\n",
    "module_path = os.path.abspath(os.path.join(\"..\")) + \"/deegtal_coding_task\"\n",
    "if module_path not in sys.path:\n",
    "    sys.path.append(module_path)\n",
    "from config import *\n",
    "from dimensionality_reduction import (\n",
    "    get_tsne_df,\n",
    "    plot_dim_reduction,\n",
    "    get_pca_df,\n",
    ")\n",
    "from model_architecture import SimpleCNN"
   ]
  },
  {
   "cell_type": "markdown",
   "metadata": {},
   "source": [
    "# Load preprocessed EEG recordings"
   ]
  },
  {
   "cell_type": "code",
   "execution_count": 31,
   "metadata": {},
   "outputs": [
    {
     "name": "stdout",
     "output_type": "stream",
     "text": [
      "Loading preprocessed_eeg_dict\n",
      "Done\n"
     ]
    }
   ],
   "source": [
    "preprocessed_eeg_dict_file = \"preprocessed_eeg_dict.pkl\"\n",
    "preprocessed_eeg_dict_file_path = INTERIM_DATA_DIR / preprocessed_eeg_dict_file\n",
    "\n",
    "\n",
    "if Path.exists(preprocessed_eeg_dict_file_path):\n",
    "    print(\"Loading preprocessed_eeg_dict\")\n",
    "    with open(preprocessed_eeg_dict_file_path, \"rb\") as pkl_rb_obj:\n",
    "        preprocessed_eeg_dict = pickle.load(pkl_rb_obj)\n",
    "else:\n",
    "    ValueError(\"No file found at the following path: {preprocessed_eeg_dict_file_path}\")\n",
    "\n",
    "print(\"Done\")"
   ]
  },
  {
   "cell_type": "code",
   "execution_count": 32,
   "metadata": {},
   "outputs": [
    {
     "data": {
      "text/html": [
       "<script type=\"text/javascript\">\n",
       "    const toggleVisibility = (className) => {\n",
       "\n",
       "  const elements = document.querySelectorAll(`.${className}`)\n",
       "\n",
       "  elements.forEach(element => {\n",
       "    if (element.classList.contains('repr-section-header')) {\n",
       "      // Don't collapse the section header row.\n",
       "       return\n",
       "    }\n",
       "    if (element.classList.contains('repr-element-collapsed')) {\n",
       "      // Force a reflow to ensure the display change takes effect before removing the class\n",
       "      element.classList.remove('repr-element-collapsed')\n",
       "      element.offsetHeight // This forces the browser to recalculate layout\n",
       "      element.classList.remove('repr-element-faded')\n",
       "    } else {\n",
       "      // Start transition to hide the element\n",
       "      element.classList.add('repr-element-faded')\n",
       "      element.addEventListener('transitionend', handler = (e) => {\n",
       "        if (e.propertyName === 'opacity' && getComputedStyle(element).opacity === '0.2') {\n",
       "          element.classList.add('repr-element-collapsed')\n",
       "          element.removeEventListener('transitionend', handler)\n",
       "        }\n",
       "      });\n",
       "    }\n",
       "  });\n",
       "\n",
       "  // Take care of button (adjust caret)\n",
       "  const button = document.querySelectorAll(`.repr-section-header.${className} > th.repr-section-toggle-col > button`)[0]\n",
       "  button.classList.toggle('collapsed')\n",
       "\n",
       "  // Take care of the tooltip of the section header row\n",
       "  const sectionHeaderRow = document.querySelectorAll(`tr.repr-section-header.${className}`)[0]\n",
       "  sectionHeaderRow.classList.toggle('collapsed')\n",
       "  sectionHeaderRow.title = sectionHeaderRow.title === 'Hide section' ? 'Show section' : 'Hide section'\n",
       "}\n",
       "</script>\n",
       "\n",
       "<style type=\"text/css\">\n",
       "    table.repr.table.table-hover.table-striped.table-sm.table-responsive.small {\n",
       "  /* Don't make rows wider than they need to be. */\n",
       "  display: inline;\n",
       "}\n",
       "\n",
       "table > tbody > tr.repr-element > td {\n",
       "  /* Apply a tighter layout to the table cells. */\n",
       "  padding-top: 0.1rem;\n",
       "  padding-bottom: 0.1rem;\n",
       "  padding-right: 1rem;\n",
       "}\n",
       "\n",
       "table > tbody > tr > td.repr-section-toggle-col {\n",
       "  /* Remove background and border of the first cell in every row\n",
       "     (this row is only used for the collapse / uncollapse caret)\n",
       "\n",
       "     TODO: Need to find a good solution for VS Code that works in both\n",
       "           light and dark mode. */\n",
       "  border-color: transparent;\n",
       "  --bs-table-accent-bg: transparent;\n",
       "}\n",
       "\n",
       "tr.repr-section-header {\n",
       "  /* Remove stripes from section header rows */\n",
       "  background-color: transparent;\n",
       "  border-color: transparent;\n",
       "  --bs-table-striped-bg: transparent;\n",
       "  cursor: pointer;\n",
       "}\n",
       "\n",
       "tr.repr-section-header > th {\n",
       "  text-align: left !important;\n",
       "  vertical-align: middle;\n",
       "}\n",
       "\n",
       ".repr-element, tr.repr-element > td {\n",
       "  opacity: 1;\n",
       "  text-align: left !important;\n",
       "}\n",
       "\n",
       ".repr-element-faded {\n",
       "  transition: 0.3s ease;\n",
       "  opacity: 0.2;\n",
       "}\n",
       "\n",
       ".repr-element-collapsed {\n",
       "  display: none;\n",
       "}\n",
       "\n",
       "/* Collapse / uncollapse button and the caret it contains. */\n",
       ".repr-section-toggle-col button {\n",
       "  cursor: pointer;\n",
       "  width: 1rem;\n",
       "  background-color: transparent;\n",
       "  border-color: transparent;\n",
       "}\n",
       "\n",
       "span.collapse-uncollapse-caret {\n",
       "  width: 1rem;\n",
       "  height: 1rem;\n",
       "  display: block;\n",
       "  background-repeat: no-repeat;\n",
       "  background-position: left;\n",
       "  background-size: contain;\n",
       "}\n",
       "\n",
       "/* The collapse / uncollapse carets were copied from the free Font Awesome collection and adjusted. */\n",
       "\n",
       "/* Default to black carets for light mode */\n",
       ".repr-section-toggle-col > button.collapsed > span.collapse-uncollapse-caret {\n",
       "  background-image: url('data:image/svg+xml;charset=utf8,<svg xmlns=\"http://www.w3.org/2000/svg\" viewBox=\"0 0 256 512\"><!--!Font Awesome Free 6.5.2 by @fontawesome - https://fontawesome.com License - https://fontawesome.com/license/free Copyright 2024 Fonticons, Inc.--><path fill=\"black\" d=\"M246.6 278.6c12.5-12.5 12.5-32.8 0-45.3l-128-128c-9.2-9.2-22.9-11.9-34.9-6.9s-19.8 16.6-19.8 29.6l0 256c0 12.9 7.8 24.6 19.8 29.6s25.7 2.2 34.9-6.9l128-128z\"/></svg>');\n",
       "}\n",
       "\n",
       ".repr-section-toggle-col\n",
       "  > button:not(.collapsed)\n",
       "  > span.collapse-uncollapse-caret {\n",
       "  background-image: url('data:image/svg+xml;charset=utf8,<svg xmlns=\"http://www.w3.org/2000/svg\" viewBox=\"0 0 320 512\"><!--!Font Awesome Free 6.5.2 by @fontawesome - https://fontawesome.com License - https://fontawesome.com/license/free Copyright 2024 Fonticons, Inc.--><path fill=\"black\" d=\"M137.4 374.6c12.5 12.5 32.8 12.5 45.3 0l128-128c9.2-9.2 11.9-22.9 6.9-34.9s-16.6-19.8-29.6-19.8L32 192c-12.9 0-24.6 7.8-29.6 19.8s-2.2 25.7 6.9 34.9l128 128z\"/></svg>');\n",
       "}\n",
       "\n",
       "/* Use white carets for dark mode */\n",
       "@media (prefers-color-scheme: dark) {\n",
       "  .repr-section-toggle-col > button.collapsed > span.collapse-uncollapse-caret {\n",
       "    background-image: url('data:image/svg+xml;charset=utf8,<svg xmlns=\"http://www.w3.org/2000/svg\" viewBox=\"0 0 256 512\"><!--!Font Awesome Free 6.5.2 by @fontawesome - https://fontawesome.com License - https://fontawesome.com/license/free Copyright 2024 Fonticons, Inc.--><path fill=\"white\" d=\"M246.6 278.6c12.5-12.5 12.5-32.8 0-45.3l-128-128c-9.2-9.2-22.9-11.9-34.9-6.9s-19.8 16.6-19.8 29.6l0 256c0 12.9 7.8 24.6 19.8 29.6s25.7 2.2 34.9-6.9l128-128z\"/></svg>');\n",
       "  }\n",
       "\n",
       "  .repr-section-toggle-col\n",
       "    > button:not(.collapsed)\n",
       "    > span.collapse-uncollapse-caret {\n",
       "    background-image: url('data:image/svg+xml;charset=utf8,<svg xmlns=\"http://www.w3.org/2000/svg\" viewBox=\"0 0 320 512\"><!--!Font Awesome Free 6.5.2 by @fontawesome - https://fontawesome.com License - https://fontawesome.com/license/free Copyright 2024 Fonticons, Inc.--><path fill=\"white\" d=\"M137.4 374.6c12.5 12.5 32.8 12.5 45.3 0l128-128c9.2-9.2 11.9-22.9 6.9-34.9s-16.6-19.8-29.6-19.8L32 192c-12.9 0-24.6 7.8-29.6 19.8s-2.2 25.7 6.9 34.9l128 128z\"/></svg>');\n",
       "  }\n",
       "}\n",
       "\n",
       ".channel-names-btn {\n",
       "  padding: 0;\n",
       "  border: none;\n",
       "  background: none;\n",
       "  text-decoration: underline;\n",
       "  text-decoration-style: dashed;\n",
       "  cursor: pointer;\n",
       "  color: #0d6efd;\n",
       "}\n",
       "\n",
       ".channel-names-btn:hover {\n",
       "  color: #0a58ca;\n",
       "}\n",
       "</style>\n",
       "\n",
       "\n",
       "\n",
       "<table class=\"repr table table-hover table-striped table-sm table-responsive small\">\n",
       "    \n",
       "\n",
       "\n",
       "\n",
       "\n",
       "\n",
       "\n",
       "\n",
       "<tr class=\"repr-section-header general-637ca73a-5d93-4af1-8716-6497ed33b4a0\"  title=\"Hide section\" \n",
       "    onclick=\"toggleVisibility('general-637ca73a-5d93-4af1-8716-6497ed33b4a0')\">\n",
       "    <th class=\"repr-section-toggle-col\">\n",
       "        <button>\n",
       "            \n",
       "            <span class=\"collapse-uncollapse-caret\"></span>\n",
       "        </button>\n",
       "    </th>\n",
       "    <th colspan=\"2\">\n",
       "        <strong>General</strong>\n",
       "    </th>\n",
       "</tr>\n",
       "\n",
       "<tr class=\"repr-element general-637ca73a-5d93-4af1-8716-6497ed33b4a0 \">\n",
       "    <td class=\"repr-section-toggle-col\"></td>\n",
       "    <td>Filename(s)</td>\n",
       "    <td>\n",
       "        \n",
       "        1_1.edf\n",
       "        \n",
       "        \n",
       "    </td>\n",
       "</tr>\n",
       "\n",
       "<tr class=\"repr-element general-637ca73a-5d93-4af1-8716-6497ed33b4a0 \">\n",
       "    <td class=\"repr-section-toggle-col\"></td>\n",
       "    <td>MNE object type</td>\n",
       "    <td>RawEDF</td>\n",
       "</tr>\n",
       "<tr class=\"repr-element general-637ca73a-5d93-4af1-8716-6497ed33b4a0 \">\n",
       "    <td class=\"repr-section-toggle-col\"></td>\n",
       "    <td>Measurement date</td>\n",
       "    \n",
       "    <td>2012-01-01 at 00:00:00 UTC</td>\n",
       "    \n",
       "</tr>\n",
       "<tr class=\"repr-element general-637ca73a-5d93-4af1-8716-6497ed33b4a0 \">\n",
       "    <td class=\"repr-section-toggle-col\"></td>\n",
       "    <td>Participant</td>\n",
       "    \n",
       "    \n",
       "    <td>aaaaanmf</td>\n",
       "    \n",
       "    \n",
       "</tr>\n",
       "<tr class=\"repr-element general-637ca73a-5d93-4af1-8716-6497ed33b4a0 \">\n",
       "    <td class=\"repr-section-toggle-col\"></td>\n",
       "    <td>Experimenter</td>\n",
       "    \n",
       "    <td>Unknown</td>\n",
       "    \n",
       "</tr>\n",
       "    \n",
       "\n",
       "\n",
       "\n",
       "\n",
       "\n",
       "\n",
       "\n",
       "<tr class=\"repr-section-header acquisition-61bf06ab-bbcf-46f4-834d-0154ad6b387e\" \n",
       "    title=\"Hide section\"  onclick=\"toggleVisibility('acquisition-61bf06ab-bbcf-46f4-834d-0154ad6b387e')\">\n",
       "    <th class=\"repr-section-toggle-col\">\n",
       "        <button>\n",
       "            \n",
       "            <span class=\"collapse-uncollapse-caret\"></span>\n",
       "        </button>\n",
       "    </th>\n",
       "    <th colspan=\"2\">\n",
       "        <strong>Acquisition</strong>\n",
       "    </th>\n",
       "</tr>\n",
       "\n",
       "<tr class=\"repr-element acquisition-61bf06ab-bbcf-46f4-834d-0154ad6b387e \">\n",
       "    <td class=\"repr-section-toggle-col\"></td>\n",
       "    <td>Duration</td>\n",
       "    <td>00:23:45 (HH:MM:SS)</td>\n",
       "</tr>\n",
       "\n",
       "\n",
       "\n",
       "\n",
       "\n",
       "\n",
       "\n",
       "\n",
       "<tr class=\"repr-element acquisition-61bf06ab-bbcf-46f4-834d-0154ad6b387e \">\n",
       "    <td class=\"repr-section-toggle-col\"></td>\n",
       "    <td>Sampling frequency</td>\n",
       "    <td>250.00 Hz</td>\n",
       "</tr>\n",
       "\n",
       "\n",
       "<tr class=\"repr-element acquisition-61bf06ab-bbcf-46f4-834d-0154ad6b387e \">\n",
       "    <td class=\"repr-section-toggle-col\"></td>\n",
       "    <td>Time points</td>\n",
       "    <td>356,250</td>\n",
       "</tr>\n",
       "\n",
       "\n",
       "    \n",
       "\n",
       "\n",
       "\n",
       "\n",
       "\n",
       "\n",
       "\n",
       "<tr class=\"repr-section-header channels-6e603110-f157-4ee9-a9e3-26ffd7519d8a\"  title=\"Hide section\" \n",
       "    onclick=\"toggleVisibility('channels-6e603110-f157-4ee9-a9e3-26ffd7519d8a')\">\n",
       "    <th class=\"repr-section-toggle-col\">\n",
       "        <button>\n",
       "            \n",
       "            <span class=\"collapse-uncollapse-caret\"></span>\n",
       "        </button>\n",
       "    </th>\n",
       "    <th colspan=\"2\">\n",
       "        <strong>Channels</strong>\n",
       "    </th>\n",
       "</tr>\n",
       "\n",
       "\n",
       "<tr class=\"repr-element channels-6e603110-f157-4ee9-a9e3-26ffd7519d8a \">\n",
       "    <td class=\"repr-section-toggle-col\"></td>\n",
       "    <td>EEG</td>\n",
       "    <td>\n",
       "        <button class=\"channel-names-btn\" onclick=\"alert('Good EEG:\\n\\nFp1, Fp2, F3, F4, C3, C4, P3, P4, O1, O2, F7, F8, T3, T4, T5, T6, A1, A2, Fz, Pz')\" title=\"(Click to open in popup)&#13;&#13;Fp1, Fp2, F3, F4, C3, C4, P3, P4, O1, O2, F7, F8, T3, T4, T5, T6, A1, A2, Fz, Pz\">\n",
       "            20\n",
       "        </button>\n",
       "\n",
       "        \n",
       "        \n",
       "        and <button class=\"channel-names-btn\" onclick=\"alert('Bad EEG:\\n\\nCz')\" title=\"(Click to open in popup)&#13;&#13;Cz\">\n",
       "            1 bad\n",
       "        </button>\n",
       "        \n",
       "    </td>\n",
       "</tr>\n",
       "\n",
       "\n",
       "<tr class=\"repr-element channels-6e603110-f157-4ee9-a9e3-26ffd7519d8a \">\n",
       "    <td class=\"repr-section-toggle-col\"></td>\n",
       "    <td>EOG</td>\n",
       "    <td>\n",
       "        <button class=\"channel-names-btn\" onclick=\"alert('Good EOG:\\n\\nEEG&nbsp;ROC-REF, EEG&nbsp;LOC-REF, EEG&nbsp;T1-REF, EEG&nbsp;T2-REF')\" title=\"(Click to open in popup)&#13;&#13;EEG&nbsp;ROC-REF, EEG&nbsp;LOC-REF, EEG&nbsp;T1-REF, EEG&nbsp;T2-REF\">\n",
       "            4\n",
       "        </button>\n",
       "\n",
       "        \n",
       "    </td>\n",
       "</tr>\n",
       "\n",
       "\n",
       "<tr class=\"repr-element channels-6e603110-f157-4ee9-a9e3-26ffd7519d8a \">\n",
       "    <td class=\"repr-section-toggle-col\"></td>\n",
       "    <td>ECG</td>\n",
       "    <td>\n",
       "        <button class=\"channel-names-btn\" onclick=\"alert('Good ECG:\\n\\nEEG&nbsp;EKG1-REF')\" title=\"(Click to open in popup)&#13;&#13;EEG&nbsp;EKG1-REF\">\n",
       "            1\n",
       "        </button>\n",
       "\n",
       "        \n",
       "    </td>\n",
       "</tr>\n",
       "\n",
       "\n",
       "<tr class=\"repr-element channels-6e603110-f157-4ee9-a9e3-26ffd7519d8a \">\n",
       "    <td class=\"repr-section-toggle-col\"></td>\n",
       "    <td>Stimulus</td>\n",
       "    <td>\n",
       "        <button class=\"channel-names-btn\" onclick=\"alert('Good Stimulus:\\n\\nPHOTIC-REF, IBI, BURSTS, SUPPR')\" title=\"(Click to open in popup)&#13;&#13;PHOTIC-REF, IBI, BURSTS, SUPPR\">\n",
       "            4\n",
       "        </button>\n",
       "\n",
       "        \n",
       "    </td>\n",
       "</tr>\n",
       "\n",
       "\n",
       "<tr class=\"repr-element channels-6e603110-f157-4ee9-a9e3-26ffd7519d8a \">\n",
       "    <td class=\"repr-section-toggle-col\"></td>\n",
       "    <td>Head & sensor digitization</td>\n",
       "    \n",
       "    <td>24 points</td>\n",
       "    \n",
       "</tr>\n",
       "    \n",
       "\n",
       "\n",
       "\n",
       "\n",
       "\n",
       "\n",
       "\n",
       "<tr class=\"repr-section-header filters-f32b0173-f5d6-4939-a393-2496125f1676\"  title=\"Hide section\" \n",
       "    onclick=\"toggleVisibility('filters-f32b0173-f5d6-4939-a393-2496125f1676')\">\n",
       "    <th class=\"repr-section-toggle-col\">\n",
       "        <button>\n",
       "            \n",
       "            <span class=\"collapse-uncollapse-caret\"></span>\n",
       "        </button>\n",
       "    </th>\n",
       "    <th colspan=\"2\">\n",
       "        <strong>Filters</strong>\n",
       "    </th>\n",
       "</tr>\n",
       "\n",
       "<tr class=\"repr-element filters-f32b0173-f5d6-4939-a393-2496125f1676 \">\n",
       "    <td class=\"repr-section-toggle-col\"></td>\n",
       "    <td>Highpass</td>\n",
       "    <td>0.50 Hz</td>\n",
       "</tr>\n",
       "\n",
       "\n",
       "<tr class=\"repr-element filters-f32b0173-f5d6-4939-a393-2496125f1676 \">\n",
       "    <td class=\"repr-section-toggle-col\"></td>\n",
       "    <td>Lowpass</td>\n",
       "    <td>100.00 Hz</td>\n",
       "</tr>\n",
       "\n",
       "\n",
       "</table>"
      ],
      "text/plain": [
       "<RawEDF | 1_1.edf, 30 x 356250 (1425.0 s), ~81.6 MB, data loaded>"
      ]
     },
     "execution_count": 32,
     "metadata": {},
     "output_type": "execute_result"
    }
   ],
   "source": [
    "recording = preprocessed_eeg_dict[0]\n",
    "recording[\"raw\"]"
   ]
  },
  {
   "cell_type": "markdown",
   "metadata": {},
   "source": [
    "# Generate Features\n",
    "\n",
    "The following cell further processes each preprocessed EEG recording and extracts features from them:\n",
    "The features are the images of the spectogram of the selected channels (no still 1 channel)"
   ]
  },
  {
   "cell_type": "code",
   "execution_count": 33,
   "metadata": {},
   "outputs": [],
   "source": [
    "# User parameters: (recommended to leave default)\n",
    "recording_start = 10 * 60  # [s] start 10 min in the recording to avoid startup noise\n",
    "recording_end = 15 * 60  # [s] end 15 min in the recording to avoid end recording noise\n",
    "win_len = 10  # [s] window length\n",
    "stepsize = 4  # [s] how far each window is spaced apart. Note: if stepsize < win_len, then there is overlap between the windows!\n",
    "\n",
    "n_windows = int(\n",
    "    np.floor((((recording_end - recording_start) - win_len) / stepsize))\n",
    ")  # the maximum amount of windows that can be fitted in the recordingstart-end period\n",
    "n_channels = 1  # len(mne.pick_types(raw.info, eeg=True, exclude='bads')) # currently\n",
    "\n",
    "# Create an empty DataFrame with the required columns\n",
    "df = pd.DataFrame(columns=[\"Group\", \"Recording\", \"Snippet\"])\n",
    "n_recordings = len(preprocessed_eeg_dict)\n",
    "\n",
    "# Initialize an empty list to store dictionaries for each row\n",
    "dict_list = []\n",
    "mne.set_log_level(\"WARNING\")\n",
    "\n",
    "df_file_name = \"df_feature_1_channels_5min.pkl\"\n",
    "df_file_path = INTERIM_DATA_DIR / df_file_name\n",
    "\n",
    "\n",
    "if Path.exists(df_file_path):\n",
    "    print(\"Loading df from storage\")\n",
    "    df = pd.read_pickle(df_file_path)\n",
    "else:\n",
    "    for iRecord in tqdm(range(n_recordings), desc=\" Recording\", position=tqdm._get_free_pos()):\n",
    "        recording = preprocessed_eeg_dict[iRecord]\n",
    "        raw = recording[\"raw\"].copy()\n",
    "        Fs = raw.info[\"sfreq\"]\n",
    "\n",
    "        # Crop windows of data somewhere in the middle of the recording to avoid recording start and end noise\n",
    "        raw.crop(recording_start, recording_end)\n",
    "        for iWindow in range(n_windows):\n",
    "            # print(f\"iRecord: {iRecord}, iWindow: {iWindow}\")\n",
    "            # Loop over recording and cut segements out of it with overlap\n",
    "            window_start = iWindow * stepsize\n",
    "            window_end = window_start + win_len\n",
    "            window_copy = raw.copy().crop(window_start, window_end)\n",
    "\n",
    "            # Copy data channels and time vector\n",
    "            picks = mne.pick_types(window_copy.info, eeg=True, exclude=\"bads\")\n",
    "            data, times = window_copy[picks, :]\n",
    "\n",
    "            # Loop over channels to calc spectogram for each\n",
    "            spectogram_list = []  # store spectograms in here\n",
    "\n",
    "            for iChannel in range(data.shape[0]):\n",
    "                x = data[iChannel]\n",
    "                # Create spectogram\n",
    "                spectogram, freqs, t, im = plt.specgram(x, Fs=Fs)\n",
    "                # Store in list\n",
    "                spectogram_list.append(spectogram)\n",
    "\n",
    "            # Store spectogoram + metadata as dataframe row\n",
    "            # Step 1: Flatten each spectrogram\n",
    "            flattened_spectrograms = [spectrogram.flatten() for spectrogram in spectogram_list]\n",
    "\n",
    "            # Step 2: Concatenate all flattened arrays into a single 1D array\n",
    "            concatenated_spectrogram = np.concatenate(flattened_spectrograms)\n",
    "\n",
    "            # Step 3: Create dictionary and add metadata\n",
    "            row_dict = {\n",
    "                \"Group\": str(recording[\"Group\"]),\n",
    "                \"Recording\": str(recording[\"Recording\"]),\n",
    "                \"Window\": str(iWindow),\n",
    "            }\n",
    "            # \"Spectogram\": im,\n",
    "\n",
    "            # Step 4: Add the flattened array values to the dictionary\n",
    "            for idx, val in enumerate(concatenated_spectrogram):\n",
    "                row_dict[f\"Feature_{idx}\"] = val\n",
    "\n",
    "            # Step 5: Append the dictionary to the list\n",
    "            dict_list.append(row_dict)\n",
    "\n",
    "    # Convert the list of dictionaries into a DataFrame\n",
    "    print(\"Converting to df\")\n",
    "    df = pd.DataFrame(dict_list)\n",
    "    print(\"Saving to df\")\n",
    "    df.to_pickle(df_file_path)\n",
    "\n",
    "print(\"Done\")\n",
    "# print(df.shape)\n",
    "\n",
    "# df.head(2)"
   ]
  },
  {
   "cell_type": "markdown",
   "metadata": {},
   "source": [
    "# XGBoost"
   ]
  },
  {
   "cell_type": "code",
   "execution_count": 82,
   "metadata": {},
   "outputs": [],
   "source": [
    "import xgboost as xgb\n",
    "\n",
    "from sklearn.model_selection import train_test_split\n",
    "\n",
    "data = df.copy().drop([\"Group\", \"Recording\", \"Window\"], axis=1)\n",
    "label = df[[\"Group\"]].astype(float)\n",
    "\n",
    "# Extract feature and target arrays\n",
    "X_train, X_test, y_train, y_test = train_test_split(data, label, test_size=0.2, random_state=42)\n",
    "\n",
    "# Create regression matrices\n",
    "dtrain_reg = xgb.DMatrix(X_train, y_train, enable_categorical=False)\n",
    "dtest_reg = xgb.DMatrix(X_test, y_test, enable_categorical=False)"
   ]
  },
  {
   "cell_type": "code",
   "execution_count": 48,
   "metadata": {},
   "outputs": [
    {
     "ename": "NameError",
     "evalue": "name 'xgb' is not defined",
     "output_type": "error",
     "traceback": [
      "\u001b[1;31m---------------------------------------------------------------------------\u001b[0m",
      "\u001b[1;31mNameError\u001b[0m                                 Traceback (most recent call last)",
      "Cell \u001b[1;32mIn[48], line 5\u001b[0m\n\u001b[0;32m      2\u001b[0m params \u001b[38;5;241m=\u001b[39m {\u001b[38;5;124m\"\u001b[39m\u001b[38;5;124mobjective\u001b[39m\u001b[38;5;124m\"\u001b[39m: \u001b[38;5;124m\"\u001b[39m\u001b[38;5;124mreg:squarederror\u001b[39m\u001b[38;5;124m\"\u001b[39m}\n\u001b[0;32m      4\u001b[0m n \u001b[38;5;241m=\u001b[39m \u001b[38;5;241m2\u001b[39m\n\u001b[1;32m----> 5\u001b[0m model \u001b[38;5;241m=\u001b[39m \u001b[43mxgb\u001b[49m\u001b[38;5;241m.\u001b[39mtrain(\n\u001b[0;32m      6\u001b[0m     params\u001b[38;5;241m=\u001b[39mparams,\n\u001b[0;32m      7\u001b[0m     dtrain\u001b[38;5;241m=\u001b[39mdtrain_reg,\n\u001b[0;32m      8\u001b[0m     num_boost_round\u001b[38;5;241m=\u001b[39mn,\n\u001b[0;32m      9\u001b[0m )\n",
      "\u001b[1;31mNameError\u001b[0m: name 'xgb' is not defined"
     ]
    }
   ],
   "source": [
    "# Define hyperparameters\n",
    "params = {\"objective\": \"reg:squarederror\"}\n",
    "\n",
    "n = 2\n",
    "model = xgb.train(\n",
    "    params=params,\n",
    "    dtrain=dtrain_reg,\n",
    "    num_boost_round=n,\n",
    ")"
   ]
  },
  {
   "cell_type": "code",
   "execution_count": 89,
   "metadata": {},
   "outputs": [
    {
     "name": "stdout",
     "output_type": "stream",
     "text": [
      "RMSE of the base model: 0.321\n"
     ]
    }
   ],
   "source": [
    "from sklearn.metrics import root_mean_squared_error\n",
    "\n",
    "y_preds = model.predict(dtest_reg)\n",
    "rmse = root_mean_squared_error(y_test, y_preds)\n",
    "\n",
    "print(f\"RMSE of the base model: {rmse:.3f}\")"
   ]
  },
  {
   "cell_type": "code",
   "execution_count": 101,
   "metadata": {},
   "outputs": [
    {
     "name": "stdout",
     "output_type": "stream",
     "text": [
      "[0]\ttrain-rmse:0.35178\tvalidation-rmse:0.39266\n",
      "[10]\ttrain-rmse:0.01227\tvalidation-rmse:0.20104\n",
      "[20]\ttrain-rmse:0.00153\tvalidation-rmse:0.19891\n",
      "[30]\ttrain-rmse:0.00042\tvalidation-rmse:0.19866\n",
      "[40]\ttrain-rmse:0.00023\tvalidation-rmse:0.19865\n",
      "RMSE of the base model: 0.199\n"
     ]
    }
   ],
   "source": [
    "params = {\"objective\": \"reg:squarederror\"}\n",
    "n = 100\n",
    "\n",
    "evals = [(dtrain_reg, \"train\"), (dtest_reg, \"validation\")]\n",
    "\n",
    "model = xgb.train(\n",
    "    params=params,\n",
    "    dtrain=dtrain_reg,\n",
    "    num_boost_round=n,\n",
    "    evals=evals,\n",
    "    verbose_eval=10,\n",
    "    # Activate early stopping\n",
    "    early_stopping_rounds=10,\n",
    ")\n",
    "\n",
    "y_preds = model.predict(dtest_reg)\n",
    "rmse = root_mean_squared_error(y_test, y_preds)\n",
    "print(f\"RMSE of the base model: {rmse:.3f}\")"
   ]
  },
  {
   "cell_type": "code",
   "execution_count": 127,
   "metadata": {},
   "outputs": [],
   "source": [
    "from sklearn.metrics import (\n",
    "    confusion_matrix,\n",
    "    roc_curve,\n",
    "    roc_auc_score,\n",
    "    f1_score,\n",
    "    precision_recall_curve,\n",
    ")\n",
    "import itertools\n",
    "\n",
    "\n",
    "def plot_confusion_matrix(\n",
    "    cm, classes, normalize=False, title=\"Confusion matrix\", cmap=plt.cm.Blues\n",
    "):\n",
    "    \"\"\"\n",
    "    This function prints and plots the confusion matrix.\n",
    "    Normalization can be applied by setting `normalize=True`.\n",
    "    \"\"\"\n",
    "\n",
    "    plt.imshow(cm, interpolation=\"nearest\", cmap=cmap)\n",
    "    plt.title(title)\n",
    "    plt.colorbar()\n",
    "\n",
    "    tick_marks = np.arange(len(classes))\n",
    "    plt.xticks(tick_marks, classes, rotation=45)\n",
    "    plt.yticks(tick_marks, classes)\n",
    "\n",
    "    if normalize:\n",
    "        cm = cm.astype(\"float\") / cm.sum(axis=1)[:, np.newaxis]\n",
    "    thresh = cm.max() / 2.0\n",
    "\n",
    "    for i, j in itertools.product(range(cm.shape[0]), range(cm.shape[1])):\n",
    "        plt.text(\n",
    "            j,\n",
    "            i,\n",
    "            cm[i, j],\n",
    "            horizontalalignment=\"center\",\n",
    "            color=\"white\" if cm[i, j] > thresh else \"black\",\n",
    "        )\n",
    "\n",
    "    plt.tight_layout()\n",
    "    plt.ylabel(\"True label\")\n",
    "    plt.xlabel(\"Predicted label\")\n",
    "    plt.show()\n",
    "\n",
    "\n",
    "def show_data(cm, print_res=0):\n",
    "    tp = cm[1, 1]\n",
    "    fn = cm[1, 0]\n",
    "    fp = cm[0, 1]\n",
    "    tn = cm[0, 0]\n",
    "\n",
    "    precision = tp / (tp + fp)\n",
    "    recall = tp / (tp + fn)\n",
    "    f1 = 2 * (precision * recall) / (precision + recall)\n",
    "\n",
    "    if print_res == 1:\n",
    "        print(\"Precision =     {:.3f}\".format(precision))\n",
    "        print(\"Recall =  {:.3f}\".format(recall))\n",
    "        print(\"F1 = {:.3e}\".format(f1))\n",
    "    return precision, recall, f1"
   ]
  },
  {
   "cell_type": "code",
   "execution_count": 128,
   "metadata": {},
   "outputs": [
    {
     "data": {
      "image/png": "[encoded data removed]",
      "text/plain": [
       "<Figure size 640x480 with 2 Axes>"
      ]
     },
     "metadata": {},
     "output_type": "display_data"
    },
    {
     "name": "stdout",
     "output_type": "stream",
     "text": [
      "Precision =     nan\n",
      "Recall =  0.000\n",
      "F1 = nan\n"
     ]
    },
    {
     "name": "stderr",
     "output_type": "stream",
     "text": [
      "C:\\Users\\buil003\\AppData\\Local\\Temp\\ipykernel_21100\\510456047.py:38: RuntimeWarning:\n",
      "\n",
      "invalid value encountered in scalar divide\n",
      "\n"
     ]
    }
   ],
   "source": [
    "thresh = 0.5\n",
    "y_pred[y_pred > thresh] = 1\n",
    "y_pred[y_pred <= thresh] = 0\n",
    "cm = confusion_matrix(y_test, y_pred)\n",
    "plot_confusion_matrix(\n",
    "    cm,\n",
    "    [\"0\", \"1\"],\n",
    ")\n",
    "precision, recall, f1 = show_data(cm, print_res=1)"
   ]
  },
  {
   "cell_type": "code",
   "execution_count": 103,
   "metadata": {},
   "outputs": [],
   "source": [
    "def plot_roc(X_, y_, par, name_par, list_par):\n",
    "    f, (ax1, ax2) = plt.subplots(1, 2, figsize=(18, 7))\n",
    "    for l in list_par:\n",
    "        par[name_par] = l\n",
    "        print(par)\n",
    "        mean_fpr, mean_tpr, mean_prec, mean_rec = gen_curves(X_, y_, par)\n",
    "        ax1.plot(mean_fpr, mean_tpr, label=name_par + \" = \" + str(l))\n",
    "        ax2.plot(mean_rec, mean_prec, label=name_par + \" = \" + str(l))\n",
    "    ax1.set_xlim([0, 0.0005])\n",
    "    ax1.set_ylim([0.5, 0.95])\n",
    "    ax1.axvline(2e-4, color=\"b\", linestyle=\"dashed\", linewidth=2)\n",
    "    ax1.legend(loc=\"lower right\")\n",
    "    ax1.set_xlabel(\"FPR/Fallout\")\n",
    "    ax1.set_ylabel(\"TPR/Recall\")\n",
    "    ax2.set_xlabel(\"Recall\")\n",
    "    ax2.set_ylabel(\"Precision\")\n",
    "    ax1.set_title(\"ROC\")\n",
    "    ax2.set_title(\"PR\")\n",
    "    ax2.legend(loc=\"lower left\")\n",
    "    ax2.set_xlim([0.5, 1])\n",
    "    plt.show()"
   ]
  },
  {
   "cell_type": "code",
   "execution_count": 114,
   "metadata": {},
   "outputs": [
    {
     "data": {
      "text/plain": [
       "<Axes: title={'center': 'Feature Importance'}>"
      ]
     },
     "execution_count": 114,
     "metadata": {},
     "output_type": "execute_result"
    },
    {
     "data": {
      "image/png": "[encoded data removed]",
      "text/plain": [
       "<Figure size 500x500 with 1 Axes>"
      ]
     },
     "metadata": {},
     "output_type": "display_data"
    }
   ],
   "source": [
    "feature_important = model.get_score(importance_type=\"weight\")\n",
    "keys = list(feature_important.keys())\n",
    "values = list(feature_important.values())\n",
    "\n",
    "df_feature_importance = pd.DataFrame(data=values, index=keys, columns=[\"score\"])\n",
    "df_feature_importance.nlargest(10, columns=\"score\").sort_values(by=\"score\", ascending=True).plot(\n",
    "    kind=\"barh\", figsize=(5, 5), title=\"Feature Importance\"\n",
    ")  ## plot top 40 features"
   ]
  },
  {
   "cell_type": "markdown",
   "metadata": {},
   "source": [
    "# Dimensionality Reduction"
   ]
  },
  {
   "cell_type": "markdown",
   "metadata": {},
   "source": [
    "# tSNE"
   ]
  },
  {
   "cell_type": "code",
   "execution_count": 61,
   "metadata": {},
   "outputs": [
    {
     "data": {
      "application/vnd.plotly.v1+json": {
       "config": {
        "plotlyServerURL": "https://plot.ly"
       },
       "data": [
        {
         "customdata": [
          [
           "1",
           "1"
          ],
          [
           "1",
           "2"
          ],
          [
           "1",
           "3"
          ],
          [
           "1",
           "4"
          ],
          [
           "1",
           "5"
          ]
         ],
         "hovertemplate": "%{customdata}",
         "marker": {
          "color": "rgb(48, 18, 59)",
          "size": 10
         },
         "mode": "markers",
         "name": "1",
         "text": [
          [
           "1",
           "1"
          ],
          [
           "1",
           "2"
          ],
          [
           "1",
           "3"
          ],
          [
           "1",
           "4"
          ],
          [
           "1",
           "5"
          ]
         ],
         "type": "scatter",
         "x": [
          -11.831843963945282,
          -7.704203825185551,
          20.328172556862025,
          -12.771379866022716,
          -10.139483141246203
         ],
         "y": [
          2.1614466246087547,
          -5.673361793032526,
          3.218680784367269,
          -0.030085828385413377,
          -0.07799457509257261
         ]
        },
        {
         "customdata": [
          [
           "2",
           "1"
          ],
          [
           "2",
           "2"
          ],
          [
           "2",
           "3"
          ],
          [
           "2",
           "4"
          ],
          [
           "2",
           "5"
          ]
         ],
         "hovertemplate": "%{customdata}",
         "marker": {
          "color": "rgb(122, 4, 2)",
          "size": 10
         },
         "mode": "markers",
         "name": "2",
         "text": [
          [
           "2",
           "1"
          ],
          [
           "2",
           "2"
          ],
          [
           "2",
           "3"
          ],
          [
           "2",
           "4"
          ],
          [
           "2",
           "5"
          ]
         ],
         "type": "scatter",
         "x": [
          -7.10155676689347,
          17.629357382845956,
          -0.6966711274406929,
          -3.7158309918199035,
          16.00343974284583
         ],
         "y": [
          -2.4257938856649117,
          2.923745981853796,
          -0.8282876235434193,
          -1.2286554827941787,
          1.9603057976832017
         ]
        }
       ],
       "layout": {
        "font": {
         "size": 17
        },
        "height": 700,
        "plot_bgcolor": "white",
        "shapes": [
         {
          "line": {
           "color": "rgb(48, 18, 59)",
           "dash": "dot",
           "width": 3
          },
          "opacity": 0.5,
          "path": "M 18.747378633734606, 5.616917487746447L17.77544126403304, 5.832951205116054L16.71411559564848, 6.025174496084871L15.56767521245924, 6.192813345304177L14.340736425259434, 6.335192730295257L13.038239683504711, 6.451739339526667L11.665429681866007, 6.54198388093743L10.227834241695195, 6.605562971610535L8.731242052439477, 6.642220600987685L7.18167936263211, 6.6518091617334605L5.585385714316441, 6.634290044097959L3.9487888186123516, 6.5897337913846386L2.2784786735921614, 6.518319815897322L0.5811810286843055, 6.420335676510178L-1.136269697545793, 6.29617592076963L-2.8669579371871423, 6.146340496190631L-4.603914819534334, 5.971432737144481L-6.340146232270264, 5.772156935444257L-8.068660984287906, 5.549315504410252L-9.782498956749393, 5.303805747834747L-11.474759129028056, 5.03661624685633L-13.138627366682814, 4.748822879292573L-14.767403859572555, 4.441584487459779L-16.354530099626928, 4.116138211923984L-17.89361528964356, 3.7737945099725345L-19.37846207677276, 3.4159318788651136L-20.803091507070192, 3.043991305111805L-22.16176710063413, 2.6594704621290037L-23.449017950385375, 2.2639176796371685L-24.659660751479144, 1.8589257090835025L-25.788820672644263, 1.446125310194033L-26.831950985408163, 1.0271786844797595L-27.784851372167694, 0.6037727821378336L-28.643684839385614, 0.1776125092985085L-29.40499316780935, -0.2495861370301001L-30.065710837499402, -0.6761029786763333L-30.623177371596093, -1.1002205828553364L-31.075148049120955, -1.5202311776647532L-31.419802943675826, -1.9344435286794013L-31.655754251644147, -2.341189748955419L-31.782051880386256, -2.7388320150222936L-31.798187273927176, -3.1257691618199397L-31.704095460732006, -3.500443130025252L-31.50015531532336, -3.861345239807115L-31.18718803268741, -4.207022265747585L-30.766453821611456, -4.536082288467754L-30.239646830267993, -4.8472002993958085L-29.608888324477917, -5.139123536108911L-28.87671814612176, -5.410676526765299L-28.046084486092866, -5.660765823314539L-27.120332012973186, -5.888384404426885L-26.10318840523341, -6.092615730412755L-24.998749341187413, -6.272637433804583L-23.811462007141216, -6.427724630740343L-22.54610719014336, -6.557252839815039L-21.2077800274428, -6.660700496646899L-19.80186949016948, -6.7376510540330665L-18.334036683849668, -6.787794659238169L-16.810192053131942, -6.810929401661918L-15.23647158251276, -6.806962125861836L-13.619212088892448, -6.775908806657345L-11.964925705450177, -6.7178944848048046L-10.280273659581974, -6.633152763502523L-8.572039450489134, -6.522024867753122L-6.847101534421025, -6.384958270370884L-5.112405627559595, -6.222504890166671L-3.374936738071624, -6.035318869565649L-1.6416910399463123, -5.824153940606646L0.08035229812828337, -5.589860389929232L1.784259215414206, -5.333381634969536L3.4631686801388915, -5.0557504251511975L5.110320316448487, -4.758084683367958L6.719081626055496, -4.441583004502705L8.282974694968418, -4.107519829108935L9.79570227776507, -3.7572403116884368L11.251173154377268, -3.3921549042289L12.643526657284285, -3.013733676811538L13.96715627035241, -2.623500398157749L15.216732204296664, -2.22302639995026L16.387222857861055, -1.8139242496350618L17.473915078301076, -1.397841257181414L18.47243313958628, -0.9764528419460229L19.37875636190457, -0.5514557863506356L20.18923530152081, -0.1245614035380675L20.90060644579868, 0.30251135348180747L21.510005354214172, 0.7280428134491449L22.01497819244664, 1.1503195113633218L22.413491613103538, 1.5676410880017715L22.703940943292714, 1.9783271366664232L22.88515664607378, 2.3807239695883906L22.95640902977059, 2.7732112767449424L22.917411186182065, 3.1542086502761095L22.768320145860315, 3.5221819482293353L22.509736245803943, 3.875649472007648L22.142700712112912, 4.213187932646943L21.668691467338483, 4.533438181898326L21.08961717941075, 4.835110685038397L20.40780957610655, 5.1169907133704315L19.626014056004642, 5.377943235508143L18.747378633734613, 5.616917487746447 Z",
          "type": "path"
         },
         {
          "fillcolor": "rgb(48, 18, 59)",
          "line": {
           "color": "rgb(48, 18, 59)",
           "dash": "dot"
          },
          "opacity": 0.03,
          "path": "M 18.747378633734606, 5.616917487746447L17.77544126403304, 5.832951205116054L16.71411559564848, 6.025174496084871L15.56767521245924, 6.192813345304177L14.340736425259434, 6.335192730295257L13.038239683504711, 6.451739339526667L11.665429681866007, 6.54198388093743L10.227834241695195, 6.605562971610535L8.731242052439477, 6.642220600987685L7.18167936263211, 6.6518091617334605L5.585385714316441, 6.634290044097959L3.9487888186123516, 6.5897337913846386L2.2784786735921614, 6.518319815897322L0.5811810286843055, 6.420335676510178L-1.136269697545793, 6.29617592076963L-2.8669579371871423, 6.146340496190631L-4.603914819534334, 5.971432737144481L-6.340146232270264, 5.772156935444257L-8.068660984287906, 5.549315504410252L-9.782498956749393, 5.303805747834747L-11.474759129028056, 5.03661624685633L-13.138627366682814, 4.748822879292573L-14.767403859572555, 4.441584487459779L-16.354530099626928, 4.116138211923984L-17.89361528964356, 3.7737945099725345L-19.37846207677276, 3.4159318788651136L-20.803091507070192, 3.043991305111805L-22.16176710063413, 2.6594704621290037L-23.449017950385375, 2.2639176796371685L-24.659660751479144, 1.8589257090835025L-25.788820672644263, 1.446125310194033L-26.831950985408163, 1.0271786844797595L-27.784851372167694, 0.6037727821378336L-28.643684839385614, 0.1776125092985085L-29.40499316780935, -0.2495861370301001L-30.065710837499402, -0.6761029786763333L-30.623177371596093, -1.1002205828553364L-31.075148049120955, -1.5202311776647532L-31.419802943675826, -1.9344435286794013L-31.655754251644147, -2.341189748955419L-31.782051880386256, -2.7388320150222936L-31.798187273927176, -3.1257691618199397L-31.704095460732006, -3.500443130025252L-31.50015531532336, -3.861345239807115L-31.18718803268741, -4.207022265747585L-30.766453821611456, -4.536082288467754L-30.239646830267993, -4.8472002993958085L-29.608888324477917, -5.139123536108911L-28.87671814612176, -5.410676526765299L-28.046084486092866, -5.660765823314539L-27.120332012973186, -5.888384404426885L-26.10318840523341, -6.092615730412755L-24.998749341187413, -6.272637433804583L-23.811462007141216, -6.427724630740343L-22.54610719014336, -6.557252839815039L-21.2077800274428, -6.660700496646899L-19.80186949016948, -6.7376510540330665L-18.334036683849668, -6.787794659238169L-16.810192053131942, -6.810929401661918L-15.23647158251276, -6.806962125861836L-13.619212088892448, -6.775908806657345L-11.964925705450177, -6.7178944848048046L-10.280273659581974, -6.633152763502523L-8.572039450489134, -6.522024867753122L-6.847101534421025, -6.384958270370884L-5.112405627559595, -6.222504890166671L-3.374936738071624, -6.035318869565649L-1.6416910399463123, -5.824153940606646L0.08035229812828337, -5.589860389929232L1.784259215414206, -5.333381634969536L3.4631686801388915, -5.0557504251511975L5.110320316448487, -4.758084683367958L6.719081626055496, -4.441583004502705L8.282974694968418, -4.107519829108935L9.79570227776507, -3.7572403116884368L11.251173154377268, -3.3921549042289L12.643526657284285, -3.013733676811538L13.96715627035241, -2.623500398157749L15.216732204296664, -2.22302639995026L16.387222857861055, -1.8139242496350618L17.473915078301076, -1.397841257181414L18.47243313958628, -0.9764528419460229L19.37875636190457, -0.5514557863506356L20.18923530152081, -0.1245614035380675L20.90060644579868, 0.30251135348180747L21.510005354214172, 0.7280428134491449L22.01497819244664, 1.1503195113633218L22.413491613103538, 1.5676410880017715L22.703940943292714, 1.9783271366664232L22.88515664607378, 2.3807239695883906L22.95640902977059, 2.7732112767449424L22.917411186182065, 3.1542086502761095L22.768320145860315, 3.5221819482293353L22.509736245803943, 3.875649472007648L22.142700712112912, 4.213187932646943L21.668691467338483, 4.533438181898326L21.08961717941075, 4.835110685038397L20.40780957610655, 5.1169907133704315L19.626014056004642, 5.377943235508143L18.747378633734613, 5.616917487746447 Z",
          "type": "path"
         },
         {
          "line": {
           "color": "rgb(122, 4, 2)",
           "dash": "dot",
           "width": 3
          },
          "opacity": 0.5,
          "path": "M 27.014318164529506, 4.500803459689639L26.872443242584456, 4.5107656989473L26.64017534660687, 4.5028878673835155L26.318449737436342, 4.477201686245561L25.90856189054995, 4.433810584719103L25.41216227963975, 4.372889283455367L24.831249730737724, 4.294683091032751L24.168163373648845, 4.199506916185752L23.4255732231009, 4.08774399977864L22.60646942753758, 3.9598443716297624L21.714150228846048, 3.816323038400298L20.75220868150092, 3.6577579098442L19.724518184602097, 3.484787471769592L18.635216885063613, 3.2981082150817604L17.488691014756622, 3.0984718312601083L16.28955722870168, 2.8866821855618667L15.042644015428426, 2.6635920801404254L13.752972254356475, 2.4300998201120576L12.425734998486046, 2.187145596398256L11.066276563806412, 1.9357076999087381L9.68007100962164, 1.676798582309228L8.272700096445824, 1.4114607792359393L6.849830810223529, 1.140762712372524L5.417192543377522, 0.8657943872930451L3.9805540245676365, 0.5876630043942399L2.5457000900565188, 0.3074885005903052L1.1184083902156834, 0.026399039722212962L-0.29557387503332055, -0.2544735301598944L-1.6905530981645676, -0.5339982343493251L-3.0609121901957286, -0.8110495255188107L-4.401133198722902, -1.084511815902339L-5.705819526767399, -1.3532839693733467L-6.969717662967093, -1.6162837353312622L-8.187738335612487, -1.8724521065427038L-9.354977005347628, -2.1207575833898287L-10.46673361401913, -2.3602003273552503L-11.51853151015142, -2.589816187018839L-12.506135474842306, -2.808680580355221L-13.425568775494622, -3.0159122176992508L-14.27312917871491, -3.2106766503884616L-15.04540385790056, -3.392189630793304L-15.73928313548803, -3.5597202702055672L-16.35197300452684, -3.7125939818692295L-16.881006379159444, -3.8501951973032478L-17.324253028705233, -3.971969844978559L-17.679928155347618, -4.07742758136858L-17.94659958088494, -4.166143765389516L-18.123193513606573, -4.237761168280142L-18.208998872073174, -4.291991412035931L-18.20367014839067, -4.328616130605507L-18.10722879944859, -4.347487849173656L-17.920063160520748, -4.348530577990359L-17.642926881576162, -4.331740118354697L-17.276935892596615, -4.297184079521533L-16.823563910120495, -4.245001606462911L-16.284636503106412, -4.175402819580358L-15.662323742011342, -4.088667968624193L-14.959131460682809, -3.985146304226691L-14.177891166250383, -3.865254671593054L-13.321748637645854, -3.729475832012894L-12.39415125866173, -3.578356518950904L-11.398834136553486, -3.412505236544165L-10.339805062080856, -3.2325898093707517L-9.221328371549045, -3.0393346933558645L-8.04790777583143, -2.833518058643503L-6.824268225515499, -2.6159686561799598L-5.555336885194381, -2.387562480626242L-4.24622329351419, -2.1492192430367774L-2.902198788865112, -1.9018986675075735L-1.5286752835622943, -1.6465966267060301L-0.131183471985012, -1.384341131843188L1.2846494395775014, -1.1161881932354236L2.7131223916998097, -0.8432175681235983L4.148483427974339, -0.5665284128717563L5.58495285610977, -0.28723485705237917L7.016746520711893, -0.0064615172398394954L8.438099094036026, 0.27466103142364234L9.84328729092693, 0.5550008076550502L11.226652914468161, 0.8334289821196814L12.582625639543956, 1.1088244228284485L13.90574544257258, 1.3800782095407256L15.19068458709414, 1.6460980989947598L16.432269076684882, 1.905812922985775L17.625499488814746, 2.158176901582291L18.765571105757328, 2.402173854112795L19.84789326149239, 2.6368212909666533L20.86810782669761, 2.8611743697329985L21.8221067573973, 3.074329699747664L22.70604863660551, 3.2754289797285256L23.516374142356458, 3.4636624538518412L24.249820379837796, 3.6382721723531426L24.903434019916485, 3.7985550435234408L25.474583191152792, 3.943865664811373L25.960968077417686, 4.073618921631491L26.36063017844068, 4.187292343414182L26.67196019599922, 4.284428207410254L26.893704513994578, 4.364635381778895L27.024970246321462, 4.427590900537543L27.06522883220522, 4.473041264031914L27.014318164529506, 4.500803459689639 Z",
          "type": "path"
         },
         {
          "fillcolor": "rgb(122, 4, 2)",
          "line": {
           "color": "rgb(122, 4, 2)",
           "dash": "dot"
          },
          "opacity": 0.03,
          "path": "M 27.014318164529506, 4.500803459689639L26.872443242584456, 4.5107656989473L26.64017534660687, 4.5028878673835155L26.318449737436342, 4.477201686245561L25.90856189054995, 4.433810584719103L25.41216227963975, 4.372889283455367L24.831249730737724, 4.294683091032751L24.168163373648845, 4.199506916185752L23.4255732231009, 4.08774399977864L22.60646942753758, 3.9598443716297624L21.714150228846048, 3.816323038400298L20.75220868150092, 3.6577579098442L19.724518184602097, 3.484787471769592L18.635216885063613, 3.2981082150817604L17.488691014756622, 3.0984718312601083L16.28955722870168, 2.8866821855618667L15.042644015428426, 2.6635920801404254L13.752972254356475, 2.4300998201120576L12.425734998486046, 2.187145596398256L11.066276563806412, 1.9357076999087381L9.68007100962164, 1.676798582309228L8.272700096445824, 1.4114607792359393L6.849830810223529, 1.140762712372524L5.417192543377522, 0.8657943872930451L3.9805540245676365, 0.5876630043942399L2.5457000900565188, 0.3074885005903052L1.1184083902156834, 0.026399039722212962L-0.29557387503332055, -0.2544735301598944L-1.6905530981645676, -0.5339982343493251L-3.0609121901957286, -0.8110495255188107L-4.401133198722902, -1.084511815902339L-5.705819526767399, -1.3532839693733467L-6.969717662967093, -1.6162837353312622L-8.187738335612487, -1.8724521065427038L-9.354977005347628, -2.1207575833898287L-10.46673361401913, -2.3602003273552503L-11.51853151015142, -2.589816187018839L-12.506135474842306, -2.808680580355221L-13.425568775494622, -3.0159122176992508L-14.27312917871491, -3.2106766503884616L-15.04540385790056, -3.392189630793304L-15.73928313548803, -3.5597202702055672L-16.35197300452684, -3.7125939818692295L-16.881006379159444, -3.8501951973032478L-17.324253028705233, -3.971969844978559L-17.679928155347618, -4.07742758136858L-17.94659958088494, -4.166143765389516L-18.123193513606573, -4.237761168280142L-18.208998872073174, -4.291991412035931L-18.20367014839067, -4.328616130605507L-18.10722879944859, -4.347487849173656L-17.920063160520748, -4.348530577990359L-17.642926881576162, -4.331740118354697L-17.276935892596615, -4.297184079521533L-16.823563910120495, -4.245001606462911L-16.284636503106412, -4.175402819580358L-15.662323742011342, -4.088667968624193L-14.959131460682809, -3.985146304226691L-14.177891166250383, -3.865254671593054L-13.321748637645854, -3.729475832012894L-12.39415125866173, -3.578356518950904L-11.398834136553486, -3.412505236544165L-10.339805062080856, -3.2325898093707517L-9.221328371549045, -3.0393346933558645L-8.04790777583143, -2.833518058643503L-6.824268225515499, -2.6159686561799598L-5.555336885194381, -2.387562480626242L-4.24622329351419, -2.1492192430367774L-2.902198788865112, -1.9018986675075735L-1.5286752835622943, -1.6465966267060301L-0.131183471985012, -1.384341131843188L1.2846494395775014, -1.1161881932354236L2.7131223916998097, -0.8432175681235983L4.148483427974339, -0.5665284128717563L5.58495285610977, -0.28723485705237917L7.016746520711893, -0.0064615172398394954L8.438099094036026, 0.27466103142364234L9.84328729092693, 0.5550008076550502L11.226652914468161, 0.8334289821196814L12.582625639543956, 1.1088244228284485L13.90574544257258, 1.3800782095407256L15.19068458709414, 1.6460980989947598L16.432269076684882, 1.905812922985775L17.625499488814746, 2.158176901582291L18.765571105757328, 2.402173854112795L19.84789326149239, 2.6368212909666533L20.86810782669761, 2.8611743697329985L21.8221067573973, 3.074329699747664L22.70604863660551, 3.2754289797285256L23.516374142356458, 3.4636624538518412L24.249820379837796, 3.6382721723531426L24.903434019916485, 3.7985550435234408L25.474583191152792, 3.943865664811373L25.960968077417686, 4.073618921631491L26.36063017844068, 4.187292343414182L26.67196019599922, 4.284428207410254L26.893704513994578, 4.364635381778895L27.024970246321462, 4.427590900537543L27.06522883220522, 4.473041264031914L27.014318164529506, 4.500803459689639 Z",
          "type": "path"
         }
        ],
        "showlegend": true,
        "template": {
         "data": {
          "bar": [
           {
            "error_x": {
             "color": "#2a3f5f"
            },
            "error_y": {
             "color": "#2a3f5f"
            },
            "marker": {
             "line": {
              "color": "#E5ECF6",
              "width": 0.5
             },
             "pattern": {
              "fillmode": "overlay",
              "size": 10,
              "solidity": 0.2
             }
            },
            "type": "bar"
           }
          ],
          "barpolar": [
           {
            "marker": {
             "line": {
              "color": "#E5ECF6",
              "width": 0.5
             },
             "pattern": {
              "fillmode": "overlay",
              "size": 10,
              "solidity": 0.2
             }
            },
            "type": "barpolar"
           }
          ],
          "carpet": [
           {
            "aaxis": {
             "endlinecolor": "#2a3f5f",
             "gridcolor": "white",
             "linecolor": "white",
             "minorgridcolor": "white",
             "startlinecolor": "#2a3f5f"
            },
            "baxis": {
             "endlinecolor": "#2a3f5f",
             "gridcolor": "white",
             "linecolor": "white",
             "minorgridcolor": "white",
             "startlinecolor": "#2a3f5f"
            },
            "type": "carpet"
           }
          ],
          "choropleth": [
           {
            "colorbar": {
             "outlinewidth": 0,
             "ticks": ""
            },
            "type": "choropleth"
           }
          ],
          "contour": [
           {
            "colorbar": {
             "outlinewidth": 0,
             "ticks": ""
            },
            "colorscale": [
             [
              0,
              "#0d0887"
             ],
             [
              0.1111111111111111,
              "#46039f"
             ],
             [
              0.2222222222222222,
              "#7201a8"
             ],
             [
              0.3333333333333333,
              "#9c179e"
             ],
             [
              0.4444444444444444,
              "#bd3786"
             ],
             [
              0.5555555555555556,
              "#d8576b"
             ],
             [
              0.6666666666666666,
              "#ed7953"
             ],
             [
              0.7777777777777778,
              "#fb9f3a"
             ],
             [
              0.8888888888888888,
              "#fdca26"
             ],
             [
              1,
              "#f0f921"
             ]
            ],
            "type": "contour"
           }
          ],
          "contourcarpet": [
           {
            "colorbar": {
             "outlinewidth": 0,
             "ticks": ""
            },
            "type": "contourcarpet"
           }
          ],
          "heatmap": [
           {
            "colorbar": {
             "outlinewidth": 0,
             "ticks": ""
            },
            "colorscale": [
             [
              0,
              "#0d0887"
             ],
             [
              0.1111111111111111,
              "#46039f"
             ],
             [
              0.2222222222222222,
              "#7201a8"
             ],
             [
              0.3333333333333333,
              "#9c179e"
             ],
             [
              0.4444444444444444,
              "#bd3786"
             ],
             [
              0.5555555555555556,
              "#d8576b"
             ],
             [
              0.6666666666666666,
              "#ed7953"
             ],
             [
              0.7777777777777778,
              "#fb9f3a"
             ],
             [
              0.8888888888888888,
              "#fdca26"
             ],
             [
              1,
              "#f0f921"
             ]
            ],
            "type": "heatmap"
           }
          ],
          "heatmapgl": [
           {
            "colorbar": {
             "outlinewidth": 0,
             "ticks": ""
            },
            "colorscale": [
             [
              0,
              "#0d0887"
             ],
             [
              0.1111111111111111,
              "#46039f"
             ],
             [
              0.2222222222222222,
              "#7201a8"
             ],
             [
              0.3333333333333333,
              "#9c179e"
             ],
             [
              0.4444444444444444,
              "#bd3786"
             ],
             [
              0.5555555555555556,
              "#d8576b"
             ],
             [
              0.6666666666666666,
              "#ed7953"
             ],
             [
              0.7777777777777778,
              "#fb9f3a"
             ],
             [
              0.8888888888888888,
              "#fdca26"
             ],
             [
              1,
              "#f0f921"
             ]
            ],
            "type": "heatmapgl"
           }
          ],
          "histogram": [
           {
            "marker": {
             "pattern": {
              "fillmode": "overlay",
              "size": 10,
              "solidity": 0.2
             }
            },
            "type": "histogram"
           }
          ],
          "histogram2d": [
           {
            "colorbar": {
             "outlinewidth": 0,
             "ticks": ""
            },
            "colorscale": [
             [
              0,
              "#0d0887"
             ],
             [
              0.1111111111111111,
              "#46039f"
             ],
             [
              0.2222222222222222,
              "#7201a8"
             ],
             [
              0.3333333333333333,
              "#9c179e"
             ],
             [
              0.4444444444444444,
              "#bd3786"
             ],
             [
              0.5555555555555556,
              "#d8576b"
             ],
             [
              0.6666666666666666,
              "#ed7953"
             ],
             [
              0.7777777777777778,
              "#fb9f3a"
             ],
             [
              0.8888888888888888,
              "#fdca26"
             ],
             [
              1,
              "#f0f921"
             ]
            ],
            "type": "histogram2d"
           }
          ],
          "histogram2dcontour": [
           {
            "colorbar": {
             "outlinewidth": 0,
             "ticks": ""
            },
            "colorscale": [
             [
              0,
              "#0d0887"
             ],
             [
              0.1111111111111111,
              "#46039f"
             ],
             [
              0.2222222222222222,
              "#7201a8"
             ],
             [
              0.3333333333333333,
              "#9c179e"
             ],
             [
              0.4444444444444444,
              "#bd3786"
             ],
             [
              0.5555555555555556,
              "#d8576b"
             ],
             [
              0.6666666666666666,
              "#ed7953"
             ],
             [
              0.7777777777777778,
              "#fb9f3a"
             ],
             [
              0.8888888888888888,
              "#fdca26"
             ],
             [
              1,
              "#f0f921"
             ]
            ],
            "type": "histogram2dcontour"
           }
          ],
          "mesh3d": [
           {
            "colorbar": {
             "outlinewidth": 0,
             "ticks": ""
            },
            "type": "mesh3d"
           }
          ],
          "parcoords": [
           {
            "line": {
             "colorbar": {
              "outlinewidth": 0,
              "ticks": ""
             }
            },
            "type": "parcoords"
           }
          ],
          "pie": [
           {
            "automargin": true,
            "type": "pie"
           }
          ],
          "scatter": [
           {
            "fillpattern": {
             "fillmode": "overlay",
             "size": 10,
             "solidity": 0.2
            },
            "type": "scatter"
           }
          ],
          "scatter3d": [
           {
            "line": {
             "colorbar": {
              "outlinewidth": 0,
              "ticks": ""
             }
            },
            "marker": {
             "colorbar": {
              "outlinewidth": 0,
              "ticks": ""
             }
            },
            "type": "scatter3d"
           }
          ],
          "scattercarpet": [
           {
            "marker": {
             "colorbar": {
              "outlinewidth": 0,
              "ticks": ""
             }
            },
            "type": "scattercarpet"
           }
          ],
          "scattergeo": [
           {
            "marker": {
             "colorbar": {
              "outlinewidth": 0,
              "ticks": ""
             }
            },
            "type": "scattergeo"
           }
          ],
          "scattergl": [
           {
            "marker": {
             "colorbar": {
              "outlinewidth": 0,
              "ticks": ""
             }
            },
            "type": "scattergl"
           }
          ],
          "scattermapbox": [
           {
            "marker": {
             "colorbar": {
              "outlinewidth": 0,
              "ticks": ""
             }
            },
            "type": "scattermapbox"
           }
          ],
          "scatterpolar": [
           {
            "marker": {
             "colorbar": {
              "outlinewidth": 0,
              "ticks": ""
             }
            },
            "type": "scatterpolar"
           }
          ],
          "scatterpolargl": [
           {
            "marker": {
             "colorbar": {
              "outlinewidth": 0,
              "ticks": ""
             }
            },
            "type": "scatterpolargl"
           }
          ],
          "scatterternary": [
           {
            "marker": {
             "colorbar": {
              "outlinewidth": 0,
              "ticks": ""
             }
            },
            "type": "scatterternary"
           }
          ],
          "surface": [
           {
            "colorbar": {
             "outlinewidth": 0,
             "ticks": ""
            },
            "colorscale": [
             [
              0,
              "#0d0887"
             ],
             [
              0.1111111111111111,
              "#46039f"
             ],
             [
              0.2222222222222222,
              "#7201a8"
             ],
             [
              0.3333333333333333,
              "#9c179e"
             ],
             [
              0.4444444444444444,
              "#bd3786"
             ],
             [
              0.5555555555555556,
              "#d8576b"
             ],
             [
              0.6666666666666666,
              "#ed7953"
             ],
             [
              0.7777777777777778,
              "#fb9f3a"
             ],
             [
              0.8888888888888888,
              "#fdca26"
             ],
             [
              1,
              "#f0f921"
             ]
            ],
            "type": "surface"
           }
          ],
          "table": [
           {
            "cells": {
             "fill": {
              "color": "#EBF0F8"
             },
             "line": {
              "color": "white"
             }
            },
            "header": {
             "fill": {
              "color": "#C8D4E3"
             },
             "line": {
              "color": "white"
             }
            },
            "type": "table"
           }
          ]
         },
         "layout": {
          "annotationdefaults": {
           "arrowcolor": "#2a3f5f",
           "arrowhead": 0,
           "arrowwidth": 1
          },
          "autotypenumbers": "strict",
          "coloraxis": {
           "colorbar": {
            "outlinewidth": 0,
            "ticks": ""
           }
          },
          "colorscale": {
           "diverging": [
            [
             0,
             "#8e0152"
            ],
            [
             0.1,
             "#c51b7d"
            ],
            [
             0.2,
             "#de77ae"
            ],
            [
             0.3,
             "#f1b6da"
            ],
            [
             0.4,
             "#fde0ef"
            ],
            [
             0.5,
             "#f7f7f7"
            ],
            [
             0.6,
             "#e6f5d0"
            ],
            [
             0.7,
             "#b8e186"
            ],
            [
             0.8,
             "#7fbc41"
            ],
            [
             0.9,
             "#4d9221"
            ],
            [
             1,
             "#276419"
            ]
           ],
           "sequential": [
            [
             0,
             "#0d0887"
            ],
            [
             0.1111111111111111,
             "#46039f"
            ],
            [
             0.2222222222222222,
             "#7201a8"
            ],
            [
             0.3333333333333333,
             "#9c179e"
            ],
            [
             0.4444444444444444,
             "#bd3786"
            ],
            [
             0.5555555555555556,
             "#d8576b"
            ],
            [
             0.6666666666666666,
             "#ed7953"
            ],
            [
             0.7777777777777778,
             "#fb9f3a"
            ],
            [
             0.8888888888888888,
             "#fdca26"
            ],
            [
             1,
             "#f0f921"
            ]
           ],
           "sequentialminus": [
            [
             0,
             "#0d0887"
            ],
            [
             0.1111111111111111,
             "#46039f"
            ],
            [
             0.2222222222222222,
             "#7201a8"
            ],
            [
             0.3333333333333333,
             "#9c179e"
            ],
            [
             0.4444444444444444,
             "#bd3786"
            ],
            [
             0.5555555555555556,
             "#d8576b"
            ],
            [
             0.6666666666666666,
             "#ed7953"
            ],
            [
             0.7777777777777778,
             "#fb9f3a"
            ],
            [
             0.8888888888888888,
             "#fdca26"
            ],
            [
             1,
             "#f0f921"
            ]
           ]
          },
          "colorway": [
           "#636efa",
           "#EF553B",
           "#00cc96",
           "#ab63fa",
           "#FFA15A",
           "#19d3f3",
           "#FF6692",
           "#B6E880",
           "#FF97FF",
           "#FECB52"
          ],
          "font": {
           "color": "#2a3f5f"
          },
          "geo": {
           "bgcolor": "white",
           "lakecolor": "white",
           "landcolor": "#E5ECF6",
           "showlakes": true,
           "showland": true,
           "subunitcolor": "white"
          },
          "hoverlabel": {
           "align": "left"
          },
          "hovermode": "closest",
          "mapbox": {
           "style": "light"
          },
          "paper_bgcolor": "white",
          "plot_bgcolor": "#E5ECF6",
          "polar": {
           "angularaxis": {
            "gridcolor": "white",
            "linecolor": "white",
            "ticks": ""
           },
           "bgcolor": "#E5ECF6",
           "radialaxis": {
            "gridcolor": "white",
            "linecolor": "white",
            "ticks": ""
           }
          },
          "scene": {
           "xaxis": {
            "backgroundcolor": "#E5ECF6",
            "gridcolor": "white",
            "gridwidth": 2,
            "linecolor": "white",
            "showbackground": true,
            "ticks": "",
            "zerolinecolor": "white"
           },
           "yaxis": {
            "backgroundcolor": "#E5ECF6",
            "gridcolor": "white",
            "gridwidth": 2,
            "linecolor": "white",
            "showbackground": true,
            "ticks": "",
            "zerolinecolor": "white"
           },
           "zaxis": {
            "backgroundcolor": "#E5ECF6",
            "gridcolor": "white",
            "gridwidth": 2,
            "linecolor": "white",
            "showbackground": true,
            "ticks": "",
            "zerolinecolor": "white"
           }
          },
          "shapedefaults": {
           "line": {
            "color": "#2a3f5f"
           }
          },
          "ternary": {
           "aaxis": {
            "gridcolor": "white",
            "linecolor": "white",
            "ticks": ""
           },
           "baxis": {
            "gridcolor": "white",
            "linecolor": "white",
            "ticks": ""
           },
           "bgcolor": "#E5ECF6",
           "caxis": {
            "gridcolor": "white",
            "linecolor": "white",
            "ticks": ""
           }
          },
          "title": {
           "x": 0.05
          },
          "xaxis": {
           "automargin": true,
           "gridcolor": "white",
           "linecolor": "white",
           "ticks": "",
           "title": {
            "standoff": 15
           },
           "zerolinecolor": "white",
           "zerolinewidth": 2
          },
          "yaxis": {
           "automargin": true,
           "gridcolor": "white",
           "linecolor": "white",
           "ticks": "",
           "title": {
            "standoff": 15
           },
           "zerolinecolor": "white",
           "zerolinewidth": 2
          }
         }
        },
        "title": {
         "text": "<b>tSNE plot</b> + 90% confidence interval"
        },
        "width": 1200,
        "xaxis": {
         "showticklabels": false
        },
        "yaxis": {
         "showticklabels": false
        }
       }
      }
     },
     "metadata": {},
     "output_type": "display_data"
    }
   ],
   "source": [
    "labels = [\"Group\", \"Recording\"]\n",
    "\n",
    "df_tsne, tsne_embedding = get_tsne_df(\n",
    "    df=df_groupby,\n",
    "    labels=labels,\n",
    "    perplexity=2,\n",
    ")\n",
    "\n",
    "plot_dim_reduction(\n",
    "    df=df_tsne,\n",
    "    labels=labels,\n",
    "    hue_col=\"Group\",\n",
    "    title=\"tSNE plot\",\n",
    ")"
   ]
  },
  {
   "cell_type": "code",
   "execution_count": 62,
   "metadata": {},
   "outputs": [
    {
     "ename": "KeyboardInterrupt",
     "evalue": "",
     "output_type": "error",
     "traceback": [
      "\u001b[1;31m---------------------------------------------------------------------------\u001b[0m",
      "\u001b[1;31mKeyboardInterrupt\u001b[0m                         Traceback (most recent call last)",
      "Cell \u001b[1;32mIn[62], line 3\u001b[0m\n\u001b[0;32m      1\u001b[0m labels \u001b[38;5;241m=\u001b[39m [\u001b[38;5;124m'\u001b[39m\u001b[38;5;124mGroup\u001b[39m\u001b[38;5;124m'\u001b[39m, \u001b[38;5;124m'\u001b[39m\u001b[38;5;124mRecording\u001b[39m\u001b[38;5;124m'\u001b[39m, \u001b[38;5;124m'\u001b[39m\u001b[38;5;124mWindow\u001b[39m\u001b[38;5;124m'\u001b[39m]\n\u001b[1;32m----> 3\u001b[0m df_tsne, tsne_embedding \u001b[38;5;241m=\u001b[39m \u001b[43mget_tsne_df\u001b[49m\u001b[43m(\u001b[49m\n\u001b[0;32m      4\u001b[0m \u001b[43m    \u001b[49m\u001b[43mdf\u001b[49m\u001b[38;5;241;43m=\u001b[39;49m\u001b[43mdf\u001b[49m\u001b[43m,\u001b[49m\n\u001b[0;32m      5\u001b[0m \u001b[43m    \u001b[49m\u001b[43mlabels\u001b[49m\u001b[38;5;241;43m=\u001b[39;49m\u001b[43mlabels\u001b[49m\u001b[43m,\u001b[49m\n\u001b[0;32m      6\u001b[0m \u001b[43m    \u001b[49m\u001b[43mperplexity\u001b[49m\u001b[38;5;241;43m=\u001b[39;49m\u001b[38;5;241;43m30\u001b[39;49m\u001b[43m,\u001b[49m\n\u001b[0;32m      7\u001b[0m \u001b[43m)\u001b[49m\n\u001b[0;32m      9\u001b[0m plot_dim_reduction(df\u001b[38;5;241m=\u001b[39mdf_tsne,\n\u001b[0;32m     10\u001b[0m     labels\u001b[38;5;241m=\u001b[39mlabels,\n\u001b[0;32m     11\u001b[0m     hue_col\u001b[38;5;241m=\u001b[39m\u001b[38;5;124m'\u001b[39m\u001b[38;5;124mGroup\u001b[39m\u001b[38;5;124m'\u001b[39m,\n\u001b[0;32m     12\u001b[0m     title\u001b[38;5;241m=\u001b[39m \u001b[38;5;124m\"\u001b[39m\u001b[38;5;124mtSNE plot\u001b[39m\u001b[38;5;124m\"\u001b[39m,\n\u001b[0;32m     13\u001b[0m )\n",
      "File \u001b[1;32m~\\Documents\\Code\\deegtal_coding_task\\deegtal_coding_task\\dimensionality_reduction.py:93\u001b[0m, in \u001b[0;36mget_tsne_df\u001b[1;34m(df, labels, n_components, random_state, perplexity)\u001b[0m\n\u001b[0;32m     85\u001b[0m \u001b[38;5;66;03m# Calc t-SNE\u001b[39;00m\n\u001b[0;32m     86\u001b[0m tsne \u001b[38;5;241m=\u001b[39m TSNE(\n\u001b[0;32m     87\u001b[0m     perplexity\u001b[38;5;241m=\u001b[39mperplexity,\n\u001b[0;32m     88\u001b[0m     n_components\u001b[38;5;241m=\u001b[39mn_components,\n\u001b[1;32m   (...)\u001b[0m\n\u001b[0;32m     91\u001b[0m     random_state\u001b[38;5;241m=\u001b[39mrandom_state,\n\u001b[0;32m     92\u001b[0m )\n\u001b[1;32m---> 93\u001b[0m embedding \u001b[38;5;241m=\u001b[39m \u001b[43mtsne\u001b[49m\u001b[38;5;241;43m.\u001b[39;49m\u001b[43mfit\u001b[49m\u001b[43m(\u001b[49m\u001b[43mx\u001b[49m\u001b[43m)\u001b[49m\n\u001b[0;32m     95\u001b[0m \u001b[38;5;66;03m# Bundle everything in a df\u001b[39;00m\n\u001b[0;32m     96\u001b[0m df_tsne \u001b[38;5;241m=\u001b[39m bundle_components_and_labels_into_df(\n\u001b[0;32m     97\u001b[0m     labels\u001b[38;5;241m=\u001b[39mdf[labels], components\u001b[38;5;241m=\u001b[39membedding\n\u001b[0;32m     98\u001b[0m )\n",
      "File \u001b[1;32mc:\\Users\\buil003\\Documents\\Code\\deegtal_coding_task\\.venv\\Lib\\site-packages\\openTSNE\\tsne.py:1262\u001b[0m, in \u001b[0;36mTSNE.fit\u001b[1;34m(self, X, affinities, initialization)\u001b[0m\n\u001b[0;32m   1252\u001b[0m     embedding\u001b[38;5;241m.\u001b[39moptimize(\n\u001b[0;32m   1253\u001b[0m         n_iter\u001b[38;5;241m=\u001b[39m\u001b[38;5;28mself\u001b[39m\u001b[38;5;241m.\u001b[39mearly_exaggeration_iter,\n\u001b[0;32m   1254\u001b[0m         exaggeration\u001b[38;5;241m=\u001b[39m\u001b[38;5;28mself\u001b[39m\u001b[38;5;241m.\u001b[39mearly_exaggeration,\n\u001b[1;32m   (...)\u001b[0m\n\u001b[0;32m   1257\u001b[0m         propagate_exception\u001b[38;5;241m=\u001b[39m\u001b[38;5;28;01mTrue\u001b[39;00m,\n\u001b[0;32m   1258\u001b[0m     )\n\u001b[0;32m   1260\u001b[0m     \u001b[38;5;66;03m# Restore actual affinity probabilities and increase momentum to get\u001b[39;00m\n\u001b[0;32m   1261\u001b[0m     \u001b[38;5;66;03m# final, optimized embedding\u001b[39;00m\n\u001b[1;32m-> 1262\u001b[0m     \u001b[43membedding\u001b[49m\u001b[38;5;241;43m.\u001b[39;49m\u001b[43moptimize\u001b[49m\u001b[43m(\u001b[49m\n\u001b[0;32m   1263\u001b[0m \u001b[43m        \u001b[49m\u001b[43mn_iter\u001b[49m\u001b[38;5;241;43m=\u001b[39;49m\u001b[38;5;28;43mself\u001b[39;49m\u001b[38;5;241;43m.\u001b[39;49m\u001b[43mn_iter\u001b[49m\u001b[43m,\u001b[49m\n\u001b[0;32m   1264\u001b[0m \u001b[43m        \u001b[49m\u001b[43mexaggeration\u001b[49m\u001b[38;5;241;43m=\u001b[39;49m\u001b[38;5;28;43mself\u001b[39;49m\u001b[38;5;241;43m.\u001b[39;49m\u001b[43mexaggeration\u001b[49m\u001b[43m,\u001b[49m\n\u001b[0;32m   1265\u001b[0m \u001b[43m        \u001b[49m\u001b[43mmomentum\u001b[49m\u001b[38;5;241;43m=\u001b[39;49m\u001b[38;5;28;43mself\u001b[39;49m\u001b[38;5;241;43m.\u001b[39;49m\u001b[43mfinal_momentum\u001b[49m\u001b[43m,\u001b[49m\n\u001b[0;32m   1266\u001b[0m \u001b[43m        \u001b[49m\u001b[43minplace\u001b[49m\u001b[38;5;241;43m=\u001b[39;49m\u001b[38;5;28;43;01mTrue\u001b[39;49;00m\u001b[43m,\u001b[49m\n\u001b[0;32m   1267\u001b[0m \u001b[43m        \u001b[49m\u001b[43mpropagate_exception\u001b[49m\u001b[38;5;241;43m=\u001b[39;49m\u001b[38;5;28;43;01mTrue\u001b[39;49;00m\u001b[43m,\u001b[49m\n\u001b[0;32m   1268\u001b[0m \u001b[43m    \u001b[49m\u001b[43m)\u001b[49m\n\u001b[0;32m   1270\u001b[0m \u001b[38;5;28;01mexcept\u001b[39;00m OptimizationInterrupt \u001b[38;5;28;01mas\u001b[39;00m ex:\n\u001b[0;32m   1271\u001b[0m     log\u001b[38;5;241m.\u001b[39minfo(\u001b[38;5;124m\"\u001b[39m\u001b[38;5;124mOptimization was interrupted with callback.\u001b[39m\u001b[38;5;124m\"\u001b[39m)\n",
      "File \u001b[1;32mc:\\Users\\buil003\\Documents\\Code\\deegtal_coding_task\\.venv\\Lib\\site-packages\\openTSNE\\tsne.py:679\u001b[0m, in \u001b[0;36mTSNEEmbedding.optimize\u001b[1;34m(self, n_iter, inplace, propagate_exception, **gradient_descent_params)\u001b[0m\n\u001b[0;32m    674\u001b[0m _handle_nice_params(embedding, optim_params)\n\u001b[0;32m    676\u001b[0m \u001b[38;5;28;01mtry\u001b[39;00m:\n\u001b[0;32m    677\u001b[0m     \u001b[38;5;66;03m# Run gradient descent with the embedding optimizer so gains are\u001b[39;00m\n\u001b[0;32m    678\u001b[0m     \u001b[38;5;66;03m# properly updated and kept\u001b[39;00m\n\u001b[1;32m--> 679\u001b[0m     error, embedding \u001b[38;5;241m=\u001b[39m \u001b[43membedding\u001b[49m\u001b[38;5;241;43m.\u001b[39;49m\u001b[43moptimizer\u001b[49m\u001b[43m(\u001b[49m\n\u001b[0;32m    680\u001b[0m \u001b[43m        \u001b[49m\u001b[43membedding\u001b[49m\u001b[38;5;241;43m=\u001b[39;49m\u001b[43membedding\u001b[49m\u001b[43m,\u001b[49m\u001b[43m \u001b[49m\u001b[43mP\u001b[49m\u001b[38;5;241;43m=\u001b[39;49m\u001b[38;5;28;43mself\u001b[39;49m\u001b[38;5;241;43m.\u001b[39;49m\u001b[43maffinities\u001b[49m\u001b[38;5;241;43m.\u001b[39;49m\u001b[43mP\u001b[49m\u001b[43m,\u001b[49m\u001b[43m \u001b[49m\u001b[38;5;241;43m*\u001b[39;49m\u001b[38;5;241;43m*\u001b[39;49m\u001b[43moptim_params\u001b[49m\n\u001b[0;32m    681\u001b[0m \u001b[43m    \u001b[49m\u001b[43m)\u001b[49m\n\u001b[0;32m    683\u001b[0m \u001b[38;5;28;01mexcept\u001b[39;00m OptimizationInterrupt \u001b[38;5;28;01mas\u001b[39;00m ex:\n\u001b[0;32m    684\u001b[0m     log\u001b[38;5;241m.\u001b[39minfo(\u001b[38;5;124m\"\u001b[39m\u001b[38;5;124mOptimization was interrupted with callback.\u001b[39m\u001b[38;5;124m\"\u001b[39m)\n",
      "File \u001b[1;32mc:\\Users\\buil003\\Documents\\Code\\deegtal_coding_task\\.venv\\Lib\\site-packages\\openTSNE\\tsne.py:1790\u001b[0m, in \u001b[0;36mgradient_descent.__call__\u001b[1;34m(self, embedding, P, n_iter, objective_function, learning_rate, momentum, exaggeration, dof, min_gain, max_grad_norm, max_step_norm, theta, n_interpolation_points, min_num_intervals, ints_in_interval, reference_embedding, n_jobs, use_callbacks, callbacks, callbacks_every_iters, verbose)\u001b[0m\n\u001b[0;32m   1786\u001b[0m \u001b[38;5;66;03m# Evaluate error on 50 iterations for logging, or when callbacks\u001b[39;00m\n\u001b[0;32m   1787\u001b[0m should_eval_error \u001b[38;5;241m=\u001b[39m should_call_callback \u001b[38;5;129;01mor\u001b[39;00m \\\n\u001b[0;32m   1788\u001b[0m     (verbose \u001b[38;5;129;01mand\u001b[39;00m (iteration \u001b[38;5;241m+\u001b[39m \u001b[38;5;241m1\u001b[39m) \u001b[38;5;241m%\u001b[39m \u001b[38;5;241m50\u001b[39m \u001b[38;5;241m==\u001b[39m \u001b[38;5;241m0\u001b[39m)\n\u001b[1;32m-> 1790\u001b[0m error, gradient \u001b[38;5;241m=\u001b[39m \u001b[43mobjective_function\u001b[49m\u001b[43m(\u001b[49m\n\u001b[0;32m   1791\u001b[0m \u001b[43m    \u001b[49m\u001b[43membedding\u001b[49m\u001b[43m,\u001b[49m\n\u001b[0;32m   1792\u001b[0m \u001b[43m    \u001b[49m\u001b[43mP\u001b[49m\u001b[43m,\u001b[49m\n\u001b[0;32m   1793\u001b[0m \u001b[43m    \u001b[49m\u001b[43mdof\u001b[49m\u001b[38;5;241;43m=\u001b[39;49m\u001b[43mdof\u001b[49m\u001b[43m,\u001b[49m\n\u001b[0;32m   1794\u001b[0m \u001b[43m    \u001b[49m\u001b[43mbh_params\u001b[49m\u001b[38;5;241;43m=\u001b[39;49m\u001b[43mbh_params\u001b[49m\u001b[43m,\u001b[49m\n\u001b[0;32m   1795\u001b[0m \u001b[43m    \u001b[49m\u001b[43mfft_params\u001b[49m\u001b[38;5;241;43m=\u001b[39;49m\u001b[43mfft_params\u001b[49m\u001b[43m,\u001b[49m\n\u001b[0;32m   1796\u001b[0m \u001b[43m    \u001b[49m\u001b[43mreference_embedding\u001b[49m\u001b[38;5;241;43m=\u001b[39;49m\u001b[43mreference_embedding\u001b[49m\u001b[43m,\u001b[49m\n\u001b[0;32m   1797\u001b[0m \u001b[43m    \u001b[49m\u001b[43mn_jobs\u001b[49m\u001b[38;5;241;43m=\u001b[39;49m\u001b[43mn_jobs\u001b[49m\u001b[43m,\u001b[49m\n\u001b[0;32m   1798\u001b[0m \u001b[43m    \u001b[49m\u001b[43mshould_eval_error\u001b[49m\u001b[38;5;241;43m=\u001b[39;49m\u001b[43mshould_eval_error\u001b[49m\u001b[43m,\u001b[49m\n\u001b[0;32m   1799\u001b[0m \u001b[43m\u001b[49m\u001b[43m)\u001b[49m\n\u001b[0;32m   1801\u001b[0m \u001b[38;5;66;03m# Clip gradients to avoid points shooting off. This can be an issue\u001b[39;00m\n\u001b[0;32m   1802\u001b[0m \u001b[38;5;66;03m# when applying transform and points are initialized so that the new\u001b[39;00m\n\u001b[0;32m   1803\u001b[0m \u001b[38;5;66;03m# points overlap with the reference points, leading to large\u001b[39;00m\n\u001b[0;32m   1804\u001b[0m \u001b[38;5;66;03m# gradients\u001b[39;00m\n\u001b[0;32m   1805\u001b[0m \u001b[38;5;28;01mif\u001b[39;00m max_grad_norm \u001b[38;5;129;01mis\u001b[39;00m \u001b[38;5;129;01mnot\u001b[39;00m \u001b[38;5;28;01mNone\u001b[39;00m:\n",
      "File \u001b[1;32mc:\\Users\\buil003\\Documents\\Code\\deegtal_coding_task\\.venv\\Lib\\site-packages\\openTSNE\\tsne.py:1470\u001b[0m, in \u001b[0;36mkl_divergence_bh\u001b[1;34m(embedding, P, dof, bh_params, reference_embedding, should_eval_error, n_jobs, **_)\u001b[0m\n\u001b[0;32m   1468\u001b[0m \u001b[38;5;66;03m# Compute negative gradient\u001b[39;00m\n\u001b[0;32m   1469\u001b[0m tree \u001b[38;5;241m=\u001b[39m QuadTree(reference_embedding)\n\u001b[1;32m-> 1470\u001b[0m sum_Q \u001b[38;5;241m=\u001b[39m \u001b[43m_tsne\u001b[49m\u001b[38;5;241;43m.\u001b[39;49m\u001b[43mestimate_negative_gradient_bh\u001b[49m\u001b[43m(\u001b[49m\n\u001b[0;32m   1471\u001b[0m \u001b[43m    \u001b[49m\u001b[43mtree\u001b[49m\u001b[43m,\u001b[49m\n\u001b[0;32m   1472\u001b[0m \u001b[43m    \u001b[49m\u001b[43membedding\u001b[49m\u001b[43m,\u001b[49m\n\u001b[0;32m   1473\u001b[0m \u001b[43m    \u001b[49m\u001b[43mgradient\u001b[49m\u001b[43m,\u001b[49m\n\u001b[0;32m   1474\u001b[0m \u001b[43m    \u001b[49m\u001b[38;5;241;43m*\u001b[39;49m\u001b[38;5;241;43m*\u001b[39;49m\u001b[43mbh_params\u001b[49m\u001b[43m,\u001b[49m\n\u001b[0;32m   1475\u001b[0m \u001b[43m    \u001b[49m\u001b[43mdof\u001b[49m\u001b[38;5;241;43m=\u001b[39;49m\u001b[43mdof\u001b[49m\u001b[43m,\u001b[49m\n\u001b[0;32m   1476\u001b[0m \u001b[43m    \u001b[49m\u001b[43mnum_threads\u001b[49m\u001b[38;5;241;43m=\u001b[39;49m\u001b[43mn_jobs\u001b[49m\u001b[43m,\u001b[49m\n\u001b[0;32m   1477\u001b[0m \u001b[43m    \u001b[49m\u001b[43mpairwise_normalization\u001b[49m\u001b[38;5;241;43m=\u001b[39;49m\u001b[43mpairwise_normalization\u001b[49m\u001b[43m,\u001b[49m\n\u001b[0;32m   1478\u001b[0m \u001b[43m\u001b[49m\u001b[43m)\u001b[49m\n\u001b[0;32m   1479\u001b[0m \u001b[38;5;28;01mdel\u001b[39;00m tree\n\u001b[0;32m   1481\u001b[0m \u001b[38;5;66;03m# Compute positive gradient\u001b[39;00m\n",
      "\u001b[1;31mKeyboardInterrupt\u001b[0m: "
     ]
    }
   ],
   "source": [
    "labels = [\"Group\", \"Recording\", \"Window\"]\n",
    "\n",
    "df_tsne, tsne_embedding = get_tsne_df(\n",
    "    df=df,\n",
    "    labels=labels,\n",
    "    perplexity=30,\n",
    ")\n",
    "\n",
    "plot_dim_reduction(\n",
    "    df=df_tsne,\n",
    "    labels=labels,\n",
    "    hue_col=\"Group\",\n",
    "    title=\"tSNE plot\",\n",
    ")"
   ]
  },
  {
   "cell_type": "code",
   "execution_count": null,
   "metadata": {},
   "outputs": [
    {
     "data": {
      "application/vnd.plotly.v1+json": {
       "config": {
        "plotlyServerURL": "https://plot.ly"
       },
       "data": [
        {
         "customdata": [
          [
           "1",
           "1",
           "0"
          ],
          [
           "1",
           "1",
           "1"
          ]
         ],
         "hovertemplate": "%{customdata}",
         "marker": {
          "color": "rgb(48, 18, 59)",
          "size": 10
         },
         "mode": "markers",
         "name": "1-1",
         "text": [
          [
           "1",
           "1",
           "0"
          ],
          [
           "1",
           "1",
           "1"
          ]
         ],
         "type": "scatter",
         "x": [
          0.35231045165407393,
          0.3637079389179789
         ],
         "y": [
          -0.4350013944041534,
          -0.40640091407540413
         ]
        },
        {
         "customdata": [
          [
           "1",
           "2",
           "0"
          ],
          [
           "1",
           "2",
           "1"
          ]
         ],
         "hovertemplate": "%{customdata}",
         "marker": {
          "color": "rgb(68, 96, 208)",
          "size": 10
         },
         "mode": "markers",
         "name": "1-2",
         "text": [
          [
           "1",
           "2",
           "0"
          ],
          [
           "1",
           "2",
           "1"
          ]
         ],
         "type": "scatter",
         "x": [
          1.5371954290007517,
          2.7147496015535406
         ],
         "y": [
          0.6412402216209351,
          -0.43078813005908906
         ]
        },
        {
         "customdata": [
          [
           "1",
           "3",
           "0"
          ],
          [
           "1",
           "3",
           "1"
          ]
         ],
         "hovertemplate": "%{customdata}",
         "marker": {
          "color": "rgb(54, 167, 248)",
          "size": 10
         },
         "mode": "markers",
         "name": "1-3",
         "text": [
          [
           "1",
           "3",
           "0"
          ],
          [
           "1",
           "3",
           "1"
          ]
         ],
         "type": "scatter",
         "x": [
          -2.116891946524772,
          0.7197738120921842
         ],
         "y": [
          -2.1481093002595646,
          2.819272264522206
         ]
        },
        {
         "customdata": [
          [
           "1",
           "4",
           "0"
          ],
          [
           "1",
           "4",
           "1"
          ]
         ],
         "hovertemplate": "%{customdata}",
         "marker": {
          "color": "rgb(33, 226, 181)",
          "size": 10
         },
         "mode": "markers",
         "name": "1-4",
         "text": [
          [
           "1",
           "4",
           "0"
          ],
          [
           "1",
           "4",
           "1"
          ]
         ],
         "type": "scatter",
         "x": [
          -0.3278346037451907,
          0.008288846274940203
         ],
         "y": [
          -0.35607610059644096,
          0.2857155241346498
         ]
        },
        {
         "customdata": [
          [
           "1",
           "5",
           "0"
          ],
          [
           "1",
           "5",
           "1"
          ]
         ],
         "hovertemplate": "%{customdata}",
         "marker": {
          "color": "rgb(112, 252, 97)",
          "size": 10
         },
         "mode": "markers",
         "name": "1-5",
         "text": [
          [
           "1",
           "5",
           "0"
          ],
          [
           "1",
           "5",
           "1"
          ]
         ],
         "type": "scatter",
         "x": [
          0.5200481873704503,
          0.2940573491713991
         ],
         "y": [
          -0.2066796257998718,
          -0.17859139592431814
         ]
        },
        {
         "customdata": [
          [
           "2",
           "1",
           "0"
          ],
          [
           "2",
           "1",
           "1"
          ]
         ],
         "hovertemplate": "%{customdata}",
         "marker": {
          "color": "rgb(199, 236, 54)",
          "size": 10
         },
         "mode": "markers",
         "name": "2-1",
         "text": [
          [
           "2",
           "1",
           "0"
          ],
          [
           "2",
           "1",
           "1"
          ]
         ],
         "type": "scatter",
         "x": [
          1.2599591299109492,
          0.3761182143811025
         ],
         "y": [
          -1.1612981168340306,
          -1.6117360164941736
         ]
        },
        {
         "customdata": [
          [
           "2",
           "2",
           "0"
          ],
          [
           "2",
           "2",
           "1"
          ]
         ],
         "hovertemplate": "%{customdata}",
         "marker": {
          "color": "rgb(247, 184, 54)",
          "size": 10
         },
         "mode": "markers",
         "name": "2-2",
         "text": [
          [
           "2",
           "2",
           "0"
          ],
          [
           "2",
           "2",
           "1"
          ]
         ],
         "type": "scatter",
         "x": [
          -2.7412215341460926,
          -1.035990466519774
         ],
         "y": [
          0.438407173602102,
          2.003442412961778
         ]
        },
        {
         "customdata": [
          [
           "2",
           "3",
           "0"
          ],
          [
           "2",
           "3",
           "1"
          ]
         ],
         "hovertemplate": "%{customdata}",
         "marker": {
          "color": "rgb(244, 105, 24)",
          "size": 10
         },
         "mode": "markers",
         "name": "2-3",
         "text": [
          [
           "2",
           "3",
           "0"
          ],
          [
           "2",
           "3",
           "1"
          ]
         ],
         "type": "scatter",
         "x": [
          -1.9436288338852623,
          -0.9922492549956887
         ],
         "y": [
          0.9606966292534362,
          0.8318141907742777
         ]
        },
        {
         "customdata": [
          [
           "2",
           "4",
           "0"
          ],
          [
           "2",
           "4",
           "1"
          ]
         ],
         "hovertemplate": "%{customdata}",
         "marker": {
          "color": "rgb(199, 42, 4)",
          "size": 10
         },
         "mode": "markers",
         "name": "2-4",
         "text": [
          [
           "2",
           "4",
           "0"
          ],
          [
           "2",
           "4",
           "1"
          ]
         ],
         "type": "scatter",
         "x": [
          3.1732619947029823,
          0.4438496160065055
         ],
         "y": [
          -0.48375903191641806,
          1.3488875455845402
         ]
        },
        {
         "customdata": [
          [
           "2",
           "5",
           "0"
          ],
          [
           "2",
           "5",
           "1"
          ]
         ],
         "hovertemplate": "%{customdata}",
         "marker": {
          "color": "rgb(122, 4, 2)",
          "size": 10
         },
         "mode": "markers",
         "name": "2-5",
         "text": [
          [
           "2",
           "5",
           "0"
          ],
          [
           "2",
           "5",
           "1"
          ]
         ],
         "type": "scatter",
         "x": [
          -1.5916380541253188,
          -1.01386587709476
         ],
         "y": [
          -0.421002315368886,
          -1.490033620721574
         ]
        }
       ],
       "layout": {
        "font": {
         "size": 17
        },
        "height": 700,
        "plot_bgcolor": "white",
        "showlegend": true,
        "template": {
         "data": {
          "bar": [
           {
            "error_x": {
             "color": "#2a3f5f"
            },
            "error_y": {
             "color": "#2a3f5f"
            },
            "marker": {
             "line": {
              "color": "#E5ECF6",
              "width": 0.5
             },
             "pattern": {
              "fillmode": "overlay",
              "size": 10,
              "solidity": 0.2
             }
            },
            "type": "bar"
           }
          ],
          "barpolar": [
           {
            "marker": {
             "line": {
              "color": "#E5ECF6",
              "width": 0.5
             },
             "pattern": {
              "fillmode": "overlay",
              "size": 10,
              "solidity": 0.2
             }
            },
            "type": "barpolar"
           }
          ],
          "carpet": [
           {
            "aaxis": {
             "endlinecolor": "#2a3f5f",
             "gridcolor": "white",
             "linecolor": "white",
             "minorgridcolor": "white",
             "startlinecolor": "#2a3f5f"
            },
            "baxis": {
             "endlinecolor": "#2a3f5f",
             "gridcolor": "white",
             "linecolor": "white",
             "minorgridcolor": "white",
             "startlinecolor": "#2a3f5f"
            },
            "type": "carpet"
           }
          ],
          "choropleth": [
           {
            "colorbar": {
             "outlinewidth": 0,
             "ticks": ""
            },
            "type": "choropleth"
           }
          ],
          "contour": [
           {
            "colorbar": {
             "outlinewidth": 0,
             "ticks": ""
            },
            "colorscale": [
             [
              0,
              "#0d0887"
             ],
             [
              0.1111111111111111,
              "#46039f"
             ],
             [
              0.2222222222222222,
              "#7201a8"
             ],
             [
              0.3333333333333333,
              "#9c179e"
             ],
             [
              0.4444444444444444,
              "#bd3786"
             ],
             [
              0.5555555555555556,
              "#d8576b"
             ],
             [
              0.6666666666666666,
              "#ed7953"
             ],
             [
              0.7777777777777778,
              "#fb9f3a"
             ],
             [
              0.8888888888888888,
              "#fdca26"
             ],
             [
              1,
              "#f0f921"
             ]
            ],
            "type": "contour"
           }
          ],
          "contourcarpet": [
           {
            "colorbar": {
             "outlinewidth": 0,
             "ticks": ""
            },
            "type": "contourcarpet"
           }
          ],
          "heatmap": [
           {
            "colorbar": {
             "outlinewidth": 0,
             "ticks": ""
            },
            "colorscale": [
             [
              0,
              "#0d0887"
             ],
             [
              0.1111111111111111,
              "#46039f"
             ],
             [
              0.2222222222222222,
              "#7201a8"
             ],
             [
              0.3333333333333333,
              "#9c179e"
             ],
             [
              0.4444444444444444,
              "#bd3786"
             ],
             [
              0.5555555555555556,
              "#d8576b"
             ],
             [
              0.6666666666666666,
              "#ed7953"
             ],
             [
              0.7777777777777778,
              "#fb9f3a"
             ],
             [
              0.8888888888888888,
              "#fdca26"
             ],
             [
              1,
              "#f0f921"
             ]
            ],
            "type": "heatmap"
           }
          ],
          "heatmapgl": [
           {
            "colorbar": {
             "outlinewidth": 0,
             "ticks": ""
            },
            "colorscale": [
             [
              0,
              "#0d0887"
             ],
             [
              0.1111111111111111,
              "#46039f"
             ],
             [
              0.2222222222222222,
              "#7201a8"
             ],
             [
              0.3333333333333333,
              "#9c179e"
             ],
             [
              0.4444444444444444,
              "#bd3786"
             ],
             [
              0.5555555555555556,
              "#d8576b"
             ],
             [
              0.6666666666666666,
              "#ed7953"
             ],
             [
              0.7777777777777778,
              "#fb9f3a"
             ],
             [
              0.8888888888888888,
              "#fdca26"
             ],
             [
              1,
              "#f0f921"
             ]
            ],
            "type": "heatmapgl"
           }
          ],
          "histogram": [
           {
            "marker": {
             "pattern": {
              "fillmode": "overlay",
              "size": 10,
              "solidity": 0.2
             }
            },
            "type": "histogram"
           }
          ],
          "histogram2d": [
           {
            "colorbar": {
             "outlinewidth": 0,
             "ticks": ""
            },
            "colorscale": [
             [
              0,
              "#0d0887"
             ],
             [
              0.1111111111111111,
              "#46039f"
             ],
             [
              0.2222222222222222,
              "#7201a8"
             ],
             [
              0.3333333333333333,
              "#9c179e"
             ],
             [
              0.4444444444444444,
              "#bd3786"
             ],
             [
              0.5555555555555556,
              "#d8576b"
             ],
             [
              0.6666666666666666,
              "#ed7953"
             ],
             [
              0.7777777777777778,
              "#fb9f3a"
             ],
             [
              0.8888888888888888,
              "#fdca26"
             ],
             [
              1,
              "#f0f921"
             ]
            ],
            "type": "histogram2d"
           }
          ],
          "histogram2dcontour": [
           {
            "colorbar": {
             "outlinewidth": 0,
             "ticks": ""
            },
            "colorscale": [
             [
              0,
              "#0d0887"
             ],
             [
              0.1111111111111111,
              "#46039f"
             ],
             [
              0.2222222222222222,
              "#7201a8"
             ],
             [
              0.3333333333333333,
              "#9c179e"
             ],
             [
              0.4444444444444444,
              "#bd3786"
             ],
             [
              0.5555555555555556,
              "#d8576b"
             ],
             [
              0.6666666666666666,
              "#ed7953"
             ],
             [
              0.7777777777777778,
              "#fb9f3a"
             ],
             [
              0.8888888888888888,
              "#fdca26"
             ],
             [
              1,
              "#f0f921"
             ]
            ],
            "type": "histogram2dcontour"
           }
          ],
          "mesh3d": [
           {
            "colorbar": {
             "outlinewidth": 0,
             "ticks": ""
            },
            "type": "mesh3d"
           }
          ],
          "parcoords": [
           {
            "line": {
             "colorbar": {
              "outlinewidth": 0,
              "ticks": ""
             }
            },
            "type": "parcoords"
           }
          ],
          "pie": [
           {
            "automargin": true,
            "type": "pie"
           }
          ],
          "scatter": [
           {
            "fillpattern": {
             "fillmode": "overlay",
             "size": 10,
             "solidity": 0.2
            },
            "type": "scatter"
           }
          ],
          "scatter3d": [
           {
            "line": {
             "colorbar": {
              "outlinewidth": 0,
              "ticks": ""
             }
            },
            "marker": {
             "colorbar": {
              "outlinewidth": 0,
              "ticks": ""
             }
            },
            "type": "scatter3d"
           }
          ],
          "scattercarpet": [
           {
            "marker": {
             "colorbar": {
              "outlinewidth": 0,
              "ticks": ""
             }
            },
            "type": "scattercarpet"
           }
          ],
          "scattergeo": [
           {
            "marker": {
             "colorbar": {
              "outlinewidth": 0,
              "ticks": ""
             }
            },
            "type": "scattergeo"
           }
          ],
          "scattergl": [
           {
            "marker": {
             "colorbar": {
              "outlinewidth": 0,
              "ticks": ""
             }
            },
            "type": "scattergl"
           }
          ],
          "scattermapbox": [
           {
            "marker": {
             "colorbar": {
              "outlinewidth": 0,
              "ticks": ""
             }
            },
            "type": "scattermapbox"
           }
          ],
          "scatterpolar": [
           {
            "marker": {
             "colorbar": {
              "outlinewidth": 0,
              "ticks": ""
             }
            },
            "type": "scatterpolar"
           }
          ],
          "scatterpolargl": [
           {
            "marker": {
             "colorbar": {
              "outlinewidth": 0,
              "ticks": ""
             }
            },
            "type": "scatterpolargl"
           }
          ],
          "scatterternary": [
           {
            "marker": {
             "colorbar": {
              "outlinewidth": 0,
              "ticks": ""
             }
            },
            "type": "scatterternary"
           }
          ],
          "surface": [
           {
            "colorbar": {
             "outlinewidth": 0,
             "ticks": ""
            },
            "colorscale": [
             [
              0,
              "#0d0887"
             ],
             [
              0.1111111111111111,
              "#46039f"
             ],
             [
              0.2222222222222222,
              "#7201a8"
             ],
             [
              0.3333333333333333,
              "#9c179e"
             ],
             [
              0.4444444444444444,
              "#bd3786"
             ],
             [
              0.5555555555555556,
              "#d8576b"
             ],
             [
              0.6666666666666666,
              "#ed7953"
             ],
             [
              0.7777777777777778,
              "#fb9f3a"
             ],
             [
              0.8888888888888888,
              "#fdca26"
             ],
             [
              1,
              "#f0f921"
             ]
            ],
            "type": "surface"
           }
          ],
          "table": [
           {
            "cells": {
             "fill": {
              "color": "#EBF0F8"
             },
             "line": {
              "color": "white"
             }
            },
            "header": {
             "fill": {
              "color": "#C8D4E3"
             },
             "line": {
              "color": "white"
             }
            },
            "type": "table"
           }
          ]
         },
         "layout": {
          "annotationdefaults": {
           "arrowcolor": "#2a3f5f",
           "arrowhead": 0,
           "arrowwidth": 1
          },
          "autotypenumbers": "strict",
          "coloraxis": {
           "colorbar": {
            "outlinewidth": 0,
            "ticks": ""
           }
          },
          "colorscale": {
           "diverging": [
            [
             0,
             "#8e0152"
            ],
            [
             0.1,
             "#c51b7d"
            ],
            [
             0.2,
             "#de77ae"
            ],
            [
             0.3,
             "#f1b6da"
            ],
            [
             0.4,
             "#fde0ef"
            ],
            [
             0.5,
             "#f7f7f7"
            ],
            [
             0.6,
             "#e6f5d0"
            ],
            [
             0.7,
             "#b8e186"
            ],
            [
             0.8,
             "#7fbc41"
            ],
            [
             0.9,
             "#4d9221"
            ],
            [
             1,
             "#276419"
            ]
           ],
           "sequential": [
            [
             0,
             "#0d0887"
            ],
            [
             0.1111111111111111,
             "#46039f"
            ],
            [
             0.2222222222222222,
             "#7201a8"
            ],
            [
             0.3333333333333333,
             "#9c179e"
            ],
            [
             0.4444444444444444,
             "#bd3786"
            ],
            [
             0.5555555555555556,
             "#d8576b"
            ],
            [
             0.6666666666666666,
             "#ed7953"
            ],
            [
             0.7777777777777778,
             "#fb9f3a"
            ],
            [
             0.8888888888888888,
             "#fdca26"
            ],
            [
             1,
             "#f0f921"
            ]
           ],
           "sequentialminus": [
            [
             0,
             "#0d0887"
            ],
            [
             0.1111111111111111,
             "#46039f"
            ],
            [
             0.2222222222222222,
             "#7201a8"
            ],
            [
             0.3333333333333333,
             "#9c179e"
            ],
            [
             0.4444444444444444,
             "#bd3786"
            ],
            [
             0.5555555555555556,
             "#d8576b"
            ],
            [
             0.6666666666666666,
             "#ed7953"
            ],
            [
             0.7777777777777778,
             "#fb9f3a"
            ],
            [
             0.8888888888888888,
             "#fdca26"
            ],
            [
             1,
             "#f0f921"
            ]
           ]
          },
          "colorway": [
           "#636efa",
           "#EF553B",
           "#00cc96",
           "#ab63fa",
           "#FFA15A",
           "#19d3f3",
           "#FF6692",
           "#B6E880",
           "#FF97FF",
           "#FECB52"
          ],
          "font": {
           "color": "#2a3f5f"
          },
          "geo": {
           "bgcolor": "white",
           "lakecolor": "white",
           "landcolor": "#E5ECF6",
           "showlakes": true,
           "showland": true,
           "subunitcolor": "white"
          },
          "hoverlabel": {
           "align": "left"
          },
          "hovermode": "closest",
          "mapbox": {
           "style": "light"
          },
          "paper_bgcolor": "white",
          "plot_bgcolor": "#E5ECF6",
          "polar": {
           "angularaxis": {
            "gridcolor": "white",
            "linecolor": "white",
            "ticks": ""
           },
           "bgcolor": "#E5ECF6",
           "radialaxis": {
            "gridcolor": "white",
            "linecolor": "white",
            "ticks": ""
           }
          },
          "scene": {
           "xaxis": {
            "backgroundcolor": "#E5ECF6",
            "gridcolor": "white",
            "gridwidth": 2,
            "linecolor": "white",
            "showbackground": true,
            "ticks": "",
            "zerolinecolor": "white"
           },
           "yaxis": {
            "backgroundcolor": "#E5ECF6",
            "gridcolor": "white",
            "gridwidth": 2,
            "linecolor": "white",
            "showbackground": true,
            "ticks": "",
            "zerolinecolor": "white"
           },
           "zaxis": {
            "backgroundcolor": "#E5ECF6",
            "gridcolor": "white",
            "gridwidth": 2,
            "linecolor": "white",
            "showbackground": true,
            "ticks": "",
            "zerolinecolor": "white"
           }
          },
          "shapedefaults": {
           "line": {
            "color": "#2a3f5f"
           }
          },
          "ternary": {
           "aaxis": {
            "gridcolor": "white",
            "linecolor": "white",
            "ticks": ""
           },
           "baxis": {
            "gridcolor": "white",
            "linecolor": "white",
            "ticks": ""
           },
           "bgcolor": "#E5ECF6",
           "caxis": {
            "gridcolor": "white",
            "linecolor": "white",
            "ticks": ""
           }
          },
          "title": {
           "x": 0.05
          },
          "xaxis": {
           "automargin": true,
           "gridcolor": "white",
           "linecolor": "white",
           "ticks": "",
           "title": {
            "standoff": 15
           },
           "zerolinecolor": "white",
           "zerolinewidth": 2
          },
          "yaxis": {
           "automargin": true,
           "gridcolor": "white",
           "linecolor": "white",
           "ticks": "",
           "title": {
            "standoff": 15
           },
           "zerolinecolor": "white",
           "zerolinewidth": 2
          }
         }
        },
        "title": {
         "text": "<b>tSNE plot</b>"
        },
        "width": 1200,
        "xaxis": {
         "showticklabels": false
        },
        "yaxis": {
         "showticklabels": false
        }
       }
      }
     },
     "metadata": {},
     "output_type": "display_data"
    }
   ],
   "source": [
    "df_temp = df_tsne.copy()\n",
    "df_temp[\"Label\"] = df_temp[\"Group\"].astype(\"str\") + \"-\" + df_temp[\"Recording\"].astype(\"str\")\n",
    "\n",
    "plot_dim_reduction(\n",
    "    df=df_temp, labels=labels, hue_col=\"Label\", title=\"tSNE plot\", plot_ellips=False\n",
    ")"
   ]
  },
  {
   "cell_type": "code",
   "execution_count": 64,
   "metadata": {},
   "outputs": [
    {
     "data": {
      "application/vnd.plotly.v1+json": {
       "config": {
        "plotlyServerURL": "https://plot.ly"
       },
       "data": [
        {
         "customdata": [
          [
           "1",
           "1",
           "0"
          ],
          [
           "1",
           "1",
           "1"
          ],
          [
           "1",
           "1",
           "2"
          ],
          [
           "1",
           "1",
           "3"
          ],
          [
           "1",
           "1",
           "4"
          ],
          [
           "1",
           "1",
           "5"
          ],
          [
           "1",
           "1",
           "6"
          ],
          [
           "1",
           "1",
           "7"
          ],
          [
           "1",
           "1",
           "8"
          ],
          [
           "1",
           "1",
           "9"
          ],
          [
           "1",
           "1",
           "10"
          ],
          [
           "1",
           "1",
           "11"
          ],
          [
           "1",
           "1",
           "12"
          ],
          [
           "1",
           "1",
           "13"
          ],
          [
           "1",
           "1",
           "14"
          ],
          [
           "1",
           "1",
           "15"
          ],
          [
           "1",
           "1",
           "16"
          ],
          [
           "1",
           "1",
           "17"
          ],
          [
           "1",
           "1",
           "18"
          ],
          [
           "1",
           "1",
           "19"
          ],
          [
           "1",
           "1",
           "20"
          ],
          [
           "1",
           "1",
           "21"
          ],
          [
           "1",
           "1",
           "22"
          ],
          [
           "1",
           "1",
           "23"
          ],
          [
           "1",
           "1",
           "24"
          ],
          [
           "1",
           "1",
           "25"
          ],
          [
           "1",
           "1",
           "26"
          ],
          [
           "1",
           "1",
           "27"
          ],
          [
           "1",
           "1",
           "28"
          ],
          [
           "1",
           "1",
           "29"
          ],
          [
           "1",
           "1",
           "30"
          ],
          [
           "1",
           "1",
           "31"
          ],
          [
           "1",
           "1",
           "32"
          ],
          [
           "1",
           "1",
           "33"
          ],
          [
           "1",
           "1",
           "34"
          ],
          [
           "1",
           "1",
           "35"
          ],
          [
           "1",
           "1",
           "36"
          ],
          [
           "1",
           "1",
           "37"
          ],
          [
           "1",
           "1",
           "38"
          ],
          [
           "1",
           "1",
           "39"
          ],
          [
           "1",
           "1",
           "40"
          ],
          [
           "1",
           "1",
           "41"
          ],
          [
           "1",
           "1",
           "42"
          ],
          [
           "1",
           "1",
           "43"
          ],
          [
           "1",
           "1",
           "44"
          ],
          [
           "1",
           "1",
           "45"
          ],
          [
           "1",
           "1",
           "46"
          ],
          [
           "1",
           "1",
           "47"
          ],
          [
           "1",
           "1",
           "48"
          ],
          [
           "1",
           "1",
           "49"
          ],
          [
           "1",
           "1",
           "50"
          ],
          [
           "1",
           "1",
           "51"
          ],
          [
           "1",
           "1",
           "52"
          ],
          [
           "1",
           "1",
           "53"
          ],
          [
           "1",
           "1",
           "54"
          ],
          [
           "1",
           "1",
           "55"
          ],
          [
           "1",
           "1",
           "56"
          ],
          [
           "1",
           "1",
           "57"
          ],
          [
           "1",
           "1",
           "58"
          ],
          [
           "1",
           "1",
           "59"
          ],
          [
           "1",
           "1",
           "60"
          ],
          [
           "1",
           "1",
           "61"
          ],
          [
           "1",
           "1",
           "62"
          ],
          [
           "1",
           "1",
           "63"
          ],
          [
           "1",
           "1",
           "64"
          ],
          [
           "1",
           "1",
           "65"
          ],
          [
           "1",
           "1",
           "66"
          ],
          [
           "1",
           "1",
           "67"
          ],
          [
           "1",
           "1",
           "68"
          ],
          [
           "1",
           "1",
           "69"
          ],
          [
           "1",
           "1",
           "70"
          ],
          [
           "1",
           "1",
           "71"
          ],
          [
           "1",
           "2",
           "0"
          ],
          [
           "1",
           "2",
           "1"
          ],
          [
           "1",
           "2",
           "2"
          ],
          [
           "1",
           "2",
           "3"
          ],
          [
           "1",
           "2",
           "4"
          ],
          [
           "1",
           "2",
           "5"
          ],
          [
           "1",
           "2",
           "6"
          ],
          [
           "1",
           "2",
           "7"
          ],
          [
           "1",
           "2",
           "8"
          ],
          [
           "1",
           "2",
           "9"
          ],
          [
           "1",
           "2",
           "10"
          ],
          [
           "1",
           "2",
           "11"
          ],
          [
           "1",
           "2",
           "12"
          ],
          [
           "1",
           "2",
           "13"
          ],
          [
           "1",
           "2",
           "14"
          ],
          [
           "1",
           "2",
           "15"
          ],
          [
           "1",
           "2",
           "16"
          ],
          [
           "1",
           "2",
           "17"
          ],
          [
           "1",
           "2",
           "18"
          ],
          [
           "1",
           "2",
           "19"
          ],
          [
           "1",
           "2",
           "20"
          ],
          [
           "1",
           "2",
           "21"
          ],
          [
           "1",
           "2",
           "22"
          ],
          [
           "1",
           "2",
           "23"
          ],
          [
           "1",
           "2",
           "24"
          ],
          [
           "1",
           "2",
           "25"
          ],
          [
           "1",
           "2",
           "26"
          ],
          [
           "1",
           "2",
           "27"
          ],
          [
           "1",
           "2",
           "28"
          ],
          [
           "1",
           "2",
           "29"
          ],
          [
           "1",
           "2",
           "30"
          ],
          [
           "1",
           "2",
           "31"
          ],
          [
           "1",
           "2",
           "32"
          ],
          [
           "1",
           "2",
           "33"
          ],
          [
           "1",
           "2",
           "34"
          ],
          [
           "1",
           "2",
           "35"
          ],
          [
           "1",
           "2",
           "36"
          ],
          [
           "1",
           "2",
           "37"
          ],
          [
           "1",
           "2",
           "38"
          ],
          [
           "1",
           "2",
           "39"
          ],
          [
           "1",
           "2",
           "40"
          ],
          [
           "1",
           "2",
           "41"
          ],
          [
           "1",
           "2",
           "42"
          ],
          [
           "1",
           "2",
           "43"
          ],
          [
           "1",
           "2",
           "44"
          ],
          [
           "1",
           "2",
           "45"
          ],
          [
           "1",
           "2",
           "46"
          ],
          [
           "1",
           "2",
           "47"
          ],
          [
           "1",
           "2",
           "48"
          ],
          [
           "1",
           "2",
           "49"
          ],
          [
           "1",
           "2",
           "50"
          ],
          [
           "1",
           "2",
           "51"
          ],
          [
           "1",
           "2",
           "52"
          ],
          [
           "1",
           "2",
           "53"
          ],
          [
           "1",
           "2",
           "54"
          ],
          [
           "1",
           "2",
           "55"
          ],
          [
           "1",
           "2",
           "56"
          ],
          [
           "1",
           "2",
           "57"
          ],
          [
           "1",
           "2",
           "58"
          ],
          [
           "1",
           "2",
           "59"
          ],
          [
           "1",
           "2",
           "60"
          ],
          [
           "1",
           "2",
           "61"
          ],
          [
           "1",
           "2",
           "62"
          ],
          [
           "1",
           "2",
           "63"
          ],
          [
           "1",
           "2",
           "64"
          ],
          [
           "1",
           "2",
           "65"
          ],
          [
           "1",
           "2",
           "66"
          ],
          [
           "1",
           "2",
           "67"
          ],
          [
           "1",
           "2",
           "68"
          ],
          [
           "1",
           "2",
           "69"
          ],
          [
           "1",
           "2",
           "70"
          ],
          [
           "1",
           "2",
           "71"
          ],
          [
           "1",
           "3",
           "0"
          ],
          [
           "1",
           "3",
           "1"
          ],
          [
           "1",
           "3",
           "2"
          ],
          [
           "1",
           "3",
           "3"
          ],
          [
           "1",
           "3",
           "4"
          ],
          [
           "1",
           "3",
           "5"
          ],
          [
           "1",
           "3",
           "6"
          ],
          [
           "1",
           "3",
           "7"
          ],
          [
           "1",
           "3",
           "8"
          ],
          [
           "1",
           "3",
           "9"
          ],
          [
           "1",
           "3",
           "10"
          ],
          [
           "1",
           "3",
           "11"
          ],
          [
           "1",
           "3",
           "12"
          ],
          [
           "1",
           "3",
           "13"
          ],
          [
           "1",
           "3",
           "14"
          ],
          [
           "1",
           "3",
           "15"
          ],
          [
           "1",
           "3",
           "16"
          ],
          [
           "1",
           "3",
           "17"
          ],
          [
           "1",
           "3",
           "18"
          ],
          [
           "1",
           "3",
           "19"
          ],
          [
           "1",
           "3",
           "20"
          ],
          [
           "1",
           "3",
           "21"
          ],
          [
           "1",
           "3",
           "22"
          ],
          [
           "1",
           "3",
           "23"
          ],
          [
           "1",
           "3",
           "24"
          ],
          [
           "1",
           "3",
           "25"
          ],
          [
           "1",
           "3",
           "26"
          ],
          [
           "1",
           "3",
           "27"
          ],
          [
           "1",
           "3",
           "28"
          ],
          [
           "1",
           "3",
           "29"
          ],
          [
           "1",
           "3",
           "30"
          ],
          [
           "1",
           "3",
           "31"
          ],
          [
           "1",
           "3",
           "32"
          ],
          [
           "1",
           "3",
           "33"
          ],
          [
           "1",
           "3",
           "34"
          ],
          [
           "1",
           "3",
           "35"
          ],
          [
           "1",
           "3",
           "36"
          ],
          [
           "1",
           "3",
           "37"
          ],
          [
           "1",
           "3",
           "38"
          ],
          [
           "1",
           "3",
           "39"
          ],
          [
           "1",
           "3",
           "40"
          ],
          [
           "1",
           "3",
           "41"
          ],
          [
           "1",
           "3",
           "42"
          ],
          [
           "1",
           "3",
           "43"
          ],
          [
           "1",
           "3",
           "44"
          ],
          [
           "1",
           "3",
           "45"
          ],
          [
           "1",
           "3",
           "46"
          ],
          [
           "1",
           "3",
           "47"
          ],
          [
           "1",
           "3",
           "48"
          ],
          [
           "1",
           "3",
           "49"
          ],
          [
           "1",
           "3",
           "50"
          ],
          [
           "1",
           "3",
           "51"
          ],
          [
           "1",
           "3",
           "52"
          ],
          [
           "1",
           "3",
           "53"
          ],
          [
           "1",
           "3",
           "54"
          ],
          [
           "1",
           "3",
           "55"
          ],
          [
           "1",
           "3",
           "56"
          ],
          [
           "1",
           "3",
           "57"
          ],
          [
           "1",
           "3",
           "58"
          ],
          [
           "1",
           "3",
           "59"
          ],
          [
           "1",
           "3",
           "60"
          ],
          [
           "1",
           "3",
           "61"
          ],
          [
           "1",
           "3",
           "62"
          ],
          [
           "1",
           "3",
           "63"
          ],
          [
           "1",
           "3",
           "64"
          ],
          [
           "1",
           "3",
           "65"
          ],
          [
           "1",
           "3",
           "66"
          ],
          [
           "1",
           "3",
           "67"
          ],
          [
           "1",
           "3",
           "68"
          ],
          [
           "1",
           "3",
           "69"
          ],
          [
           "1",
           "3",
           "70"
          ],
          [
           "1",
           "3",
           "71"
          ],
          [
           "1",
           "4",
           "0"
          ],
          [
           "1",
           "4",
           "1"
          ],
          [
           "1",
           "4",
           "2"
          ],
          [
           "1",
           "4",
           "3"
          ],
          [
           "1",
           "4",
           "4"
          ],
          [
           "1",
           "4",
           "5"
          ],
          [
           "1",
           "4",
           "6"
          ],
          [
           "1",
           "4",
           "7"
          ],
          [
           "1",
           "4",
           "8"
          ],
          [
           "1",
           "4",
           "9"
          ],
          [
           "1",
           "4",
           "10"
          ],
          [
           "1",
           "4",
           "11"
          ],
          [
           "1",
           "4",
           "12"
          ],
          [
           "1",
           "4",
           "13"
          ],
          [
           "1",
           "4",
           "14"
          ],
          [
           "1",
           "4",
           "15"
          ],
          [
           "1",
           "4",
           "16"
          ],
          [
           "1",
           "4",
           "17"
          ],
          [
           "1",
           "4",
           "18"
          ],
          [
           "1",
           "4",
           "19"
          ],
          [
           "1",
           "4",
           "20"
          ],
          [
           "1",
           "4",
           "21"
          ],
          [
           "1",
           "4",
           "22"
          ],
          [
           "1",
           "4",
           "23"
          ],
          [
           "1",
           "4",
           "24"
          ],
          [
           "1",
           "4",
           "25"
          ],
          [
           "1",
           "4",
           "26"
          ],
          [
           "1",
           "4",
           "27"
          ],
          [
           "1",
           "4",
           "28"
          ],
          [
           "1",
           "4",
           "29"
          ],
          [
           "1",
           "4",
           "30"
          ],
          [
           "1",
           "4",
           "31"
          ],
          [
           "1",
           "4",
           "32"
          ],
          [
           "1",
           "4",
           "33"
          ],
          [
           "1",
           "4",
           "34"
          ],
          [
           "1",
           "4",
           "35"
          ],
          [
           "1",
           "4",
           "36"
          ],
          [
           "1",
           "4",
           "37"
          ],
          [
           "1",
           "4",
           "38"
          ],
          [
           "1",
           "4",
           "39"
          ],
          [
           "1",
           "4",
           "40"
          ],
          [
           "1",
           "4",
           "41"
          ],
          [
           "1",
           "4",
           "42"
          ],
          [
           "1",
           "4",
           "43"
          ],
          [
           "1",
           "4",
           "44"
          ],
          [
           "1",
           "4",
           "45"
          ],
          [
           "1",
           "4",
           "46"
          ],
          [
           "1",
           "4",
           "47"
          ],
          [
           "1",
           "4",
           "48"
          ],
          [
           "1",
           "4",
           "49"
          ],
          [
           "1",
           "4",
           "50"
          ],
          [
           "1",
           "4",
           "51"
          ],
          [
           "1",
           "4",
           "52"
          ],
          [
           "1",
           "4",
           "53"
          ],
          [
           "1",
           "4",
           "54"
          ],
          [
           "1",
           "4",
           "55"
          ],
          [
           "1",
           "4",
           "56"
          ],
          [
           "1",
           "4",
           "57"
          ],
          [
           "1",
           "4",
           "58"
          ],
          [
           "1",
           "4",
           "59"
          ],
          [
           "1",
           "4",
           "60"
          ],
          [
           "1",
           "4",
           "61"
          ],
          [
           "1",
           "4",
           "62"
          ],
          [
           "1",
           "4",
           "63"
          ],
          [
           "1",
           "4",
           "64"
          ],
          [
           "1",
           "4",
           "65"
          ],
          [
           "1",
           "4",
           "66"
          ],
          [
           "1",
           "4",
           "67"
          ],
          [
           "1",
           "4",
           "68"
          ],
          [
           "1",
           "4",
           "69"
          ],
          [
           "1",
           "4",
           "70"
          ],
          [
           "1",
           "4",
           "71"
          ],
          [
           "1",
           "5",
           "0"
          ],
          [
           "1",
           "5",
           "1"
          ],
          [
           "1",
           "5",
           "2"
          ],
          [
           "1",
           "5",
           "3"
          ],
          [
           "1",
           "5",
           "4"
          ],
          [
           "1",
           "5",
           "5"
          ],
          [
           "1",
           "5",
           "6"
          ],
          [
           "1",
           "5",
           "7"
          ],
          [
           "1",
           "5",
           "8"
          ],
          [
           "1",
           "5",
           "9"
          ],
          [
           "1",
           "5",
           "10"
          ],
          [
           "1",
           "5",
           "11"
          ],
          [
           "1",
           "5",
           "12"
          ],
          [
           "1",
           "5",
           "13"
          ],
          [
           "1",
           "5",
           "14"
          ],
          [
           "1",
           "5",
           "15"
          ],
          [
           "1",
           "5",
           "16"
          ],
          [
           "1",
           "5",
           "17"
          ],
          [
           "1",
           "5",
           "18"
          ],
          [
           "1",
           "5",
           "19"
          ],
          [
           "1",
           "5",
           "20"
          ],
          [
           "1",
           "5",
           "21"
          ],
          [
           "1",
           "5",
           "22"
          ],
          [
           "1",
           "5",
           "23"
          ],
          [
           "1",
           "5",
           "24"
          ],
          [
           "1",
           "5",
           "25"
          ],
          [
           "1",
           "5",
           "26"
          ],
          [
           "1",
           "5",
           "27"
          ],
          [
           "1",
           "5",
           "28"
          ],
          [
           "1",
           "5",
           "29"
          ],
          [
           "1",
           "5",
           "30"
          ],
          [
           "1",
           "5",
           "31"
          ],
          [
           "1",
           "5",
           "32"
          ],
          [
           "1",
           "5",
           "33"
          ],
          [
           "1",
           "5",
           "34"
          ],
          [
           "1",
           "5",
           "35"
          ],
          [
           "1",
           "5",
           "36"
          ],
          [
           "1",
           "5",
           "37"
          ],
          [
           "1",
           "5",
           "38"
          ],
          [
           "1",
           "5",
           "39"
          ],
          [
           "1",
           "5",
           "40"
          ],
          [
           "1",
           "5",
           "41"
          ],
          [
           "1",
           "5",
           "42"
          ],
          [
           "1",
           "5",
           "43"
          ],
          [
           "1",
           "5",
           "44"
          ],
          [
           "1",
           "5",
           "45"
          ],
          [
           "1",
           "5",
           "46"
          ],
          [
           "1",
           "5",
           "47"
          ],
          [
           "1",
           "5",
           "48"
          ],
          [
           "1",
           "5",
           "49"
          ],
          [
           "1",
           "5",
           "50"
          ],
          [
           "1",
           "5",
           "51"
          ],
          [
           "1",
           "5",
           "52"
          ],
          [
           "1",
           "5",
           "53"
          ],
          [
           "1",
           "5",
           "54"
          ],
          [
           "1",
           "5",
           "55"
          ],
          [
           "1",
           "5",
           "56"
          ],
          [
           "1",
           "5",
           "57"
          ],
          [
           "1",
           "5",
           "58"
          ],
          [
           "1",
           "5",
           "59"
          ],
          [
           "1",
           "5",
           "60"
          ],
          [
           "1",
           "5",
           "61"
          ],
          [
           "1",
           "5",
           "62"
          ],
          [
           "1",
           "5",
           "63"
          ],
          [
           "1",
           "5",
           "64"
          ],
          [
           "1",
           "5",
           "65"
          ],
          [
           "1",
           "5",
           "66"
          ],
          [
           "1",
           "5",
           "67"
          ],
          [
           "1",
           "5",
           "68"
          ],
          [
           "1",
           "5",
           "69"
          ],
          [
           "1",
           "5",
           "70"
          ],
          [
           "1",
           "5",
           "71"
          ]
         ],
         "hovertemplate": "%{customdata}",
         "marker": {
          "color": "rgb(48, 18, 59)",
          "size": 10
         },
         "mode": "markers",
         "name": "1",
         "text": [
          [
           "1",
           "1",
           "0"
          ],
          [
           "1",
           "1",
           "1"
          ],
          [
           "1",
           "1",
           "2"
          ],
          [
           "1",
           "1",
           "3"
          ],
          [
           "1",
           "1",
           "4"
          ],
          [
           "1",
           "1",
           "5"
          ],
          [
           "1",
           "1",
           "6"
          ],
          [
           "1",
           "1",
           "7"
          ],
          [
           "1",
           "1",
           "8"
          ],
          [
           "1",
           "1",
           "9"
          ],
          [
           "1",
           "1",
           "10"
          ],
          [
           "1",
           "1",
           "11"
          ],
          [
           "1",
           "1",
           "12"
          ],
          [
           "1",
           "1",
           "13"
          ],
          [
           "1",
           "1",
           "14"
          ],
          [
           "1",
           "1",
           "15"
          ],
          [
           "1",
           "1",
           "16"
          ],
          [
           "1",
           "1",
           "17"
          ],
          [
           "1",
           "1",
           "18"
          ],
          [
           "1",
           "1",
           "19"
          ],
          [
           "1",
           "1",
           "20"
          ],
          [
           "1",
           "1",
           "21"
          ],
          [
           "1",
           "1",
           "22"
          ],
          [
           "1",
           "1",
           "23"
          ],
          [
           "1",
           "1",
           "24"
          ],
          [
           "1",
           "1",
           "25"
          ],
          [
           "1",
           "1",
           "26"
          ],
          [
           "1",
           "1",
           "27"
          ],
          [
           "1",
           "1",
           "28"
          ],
          [
           "1",
           "1",
           "29"
          ],
          [
           "1",
           "1",
           "30"
          ],
          [
           "1",
           "1",
           "31"
          ],
          [
           "1",
           "1",
           "32"
          ],
          [
           "1",
           "1",
           "33"
          ],
          [
           "1",
           "1",
           "34"
          ],
          [
           "1",
           "1",
           "35"
          ],
          [
           "1",
           "1",
           "36"
          ],
          [
           "1",
           "1",
           "37"
          ],
          [
           "1",
           "1",
           "38"
          ],
          [
           "1",
           "1",
           "39"
          ],
          [
           "1",
           "1",
           "40"
          ],
          [
           "1",
           "1",
           "41"
          ],
          [
           "1",
           "1",
           "42"
          ],
          [
           "1",
           "1",
           "43"
          ],
          [
           "1",
           "1",
           "44"
          ],
          [
           "1",
           "1",
           "45"
          ],
          [
           "1",
           "1",
           "46"
          ],
          [
           "1",
           "1",
           "47"
          ],
          [
           "1",
           "1",
           "48"
          ],
          [
           "1",
           "1",
           "49"
          ],
          [
           "1",
           "1",
           "50"
          ],
          [
           "1",
           "1",
           "51"
          ],
          [
           "1",
           "1",
           "52"
          ],
          [
           "1",
           "1",
           "53"
          ],
          [
           "1",
           "1",
           "54"
          ],
          [
           "1",
           "1",
           "55"
          ],
          [
           "1",
           "1",
           "56"
          ],
          [
           "1",
           "1",
           "57"
          ],
          [
           "1",
           "1",
           "58"
          ],
          [
           "1",
           "1",
           "59"
          ],
          [
           "1",
           "1",
           "60"
          ],
          [
           "1",
           "1",
           "61"
          ],
          [
           "1",
           "1",
           "62"
          ],
          [
           "1",
           "1",
           "63"
          ],
          [
           "1",
           "1",
           "64"
          ],
          [
           "1",
           "1",
           "65"
          ],
          [
           "1",
           "1",
           "66"
          ],
          [
           "1",
           "1",
           "67"
          ],
          [
           "1",
           "1",
           "68"
          ],
          [
           "1",
           "1",
           "69"
          ],
          [
           "1",
           "1",
           "70"
          ],
          [
           "1",
           "1",
           "71"
          ],
          [
           "1",
           "2",
           "0"
          ],
          [
           "1",
           "2",
           "1"
          ],
          [
           "1",
           "2",
           "2"
          ],
          [
           "1",
           "2",
           "3"
          ],
          [
           "1",
           "2",
           "4"
          ],
          [
           "1",
           "2",
           "5"
          ],
          [
           "1",
           "2",
           "6"
          ],
          [
           "1",
           "2",
           "7"
          ],
          [
           "1",
           "2",
           "8"
          ],
          [
           "1",
           "2",
           "9"
          ],
          [
           "1",
           "2",
           "10"
          ],
          [
           "1",
           "2",
           "11"
          ],
          [
           "1",
           "2",
           "12"
          ],
          [
           "1",
           "2",
           "13"
          ],
          [
           "1",
           "2",
           "14"
          ],
          [
           "1",
           "2",
           "15"
          ],
          [
           "1",
           "2",
           "16"
          ],
          [
           "1",
           "2",
           "17"
          ],
          [
           "1",
           "2",
           "18"
          ],
          [
           "1",
           "2",
           "19"
          ],
          [
           "1",
           "2",
           "20"
          ],
          [
           "1",
           "2",
           "21"
          ],
          [
           "1",
           "2",
           "22"
          ],
          [
           "1",
           "2",
           "23"
          ],
          [
           "1",
           "2",
           "24"
          ],
          [
           "1",
           "2",
           "25"
          ],
          [
           "1",
           "2",
           "26"
          ],
          [
           "1",
           "2",
           "27"
          ],
          [
           "1",
           "2",
           "28"
          ],
          [
           "1",
           "2",
           "29"
          ],
          [
           "1",
           "2",
           "30"
          ],
          [
           "1",
           "2",
           "31"
          ],
          [
           "1",
           "2",
           "32"
          ],
          [
           "1",
           "2",
           "33"
          ],
          [
           "1",
           "2",
           "34"
          ],
          [
           "1",
           "2",
           "35"
          ],
          [
           "1",
           "2",
           "36"
          ],
          [
           "1",
           "2",
           "37"
          ],
          [
           "1",
           "2",
           "38"
          ],
          [
           "1",
           "2",
           "39"
          ],
          [
           "1",
           "2",
           "40"
          ],
          [
           "1",
           "2",
           "41"
          ],
          [
           "1",
           "2",
           "42"
          ],
          [
           "1",
           "2",
           "43"
          ],
          [
           "1",
           "2",
           "44"
          ],
          [
           "1",
           "2",
           "45"
          ],
          [
           "1",
           "2",
           "46"
          ],
          [
           "1",
           "2",
           "47"
          ],
          [
           "1",
           "2",
           "48"
          ],
          [
           "1",
           "2",
           "49"
          ],
          [
           "1",
           "2",
           "50"
          ],
          [
           "1",
           "2",
           "51"
          ],
          [
           "1",
           "2",
           "52"
          ],
          [
           "1",
           "2",
           "53"
          ],
          [
           "1",
           "2",
           "54"
          ],
          [
           "1",
           "2",
           "55"
          ],
          [
           "1",
           "2",
           "56"
          ],
          [
           "1",
           "2",
           "57"
          ],
          [
           "1",
           "2",
           "58"
          ],
          [
           "1",
           "2",
           "59"
          ],
          [
           "1",
           "2",
           "60"
          ],
          [
           "1",
           "2",
           "61"
          ],
          [
           "1",
           "2",
           "62"
          ],
          [
           "1",
           "2",
           "63"
          ],
          [
           "1",
           "2",
           "64"
          ],
          [
           "1",
           "2",
           "65"
          ],
          [
           "1",
           "2",
           "66"
          ],
          [
           "1",
           "2",
           "67"
          ],
          [
           "1",
           "2",
           "68"
          ],
          [
           "1",
           "2",
           "69"
          ],
          [
           "1",
           "2",
           "70"
          ],
          [
           "1",
           "2",
           "71"
          ],
          [
           "1",
           "3",
           "0"
          ],
          [
           "1",
           "3",
           "1"
          ],
          [
           "1",
           "3",
           "2"
          ],
          [
           "1",
           "3",
           "3"
          ],
          [
           "1",
           "3",
           "4"
          ],
          [
           "1",
           "3",
           "5"
          ],
          [
           "1",
           "3",
           "6"
          ],
          [
           "1",
           "3",
           "7"
          ],
          [
           "1",
           "3",
           "8"
          ],
          [
           "1",
           "3",
           "9"
          ],
          [
           "1",
           "3",
           "10"
          ],
          [
           "1",
           "3",
           "11"
          ],
          [
           "1",
           "3",
           "12"
          ],
          [
           "1",
           "3",
           "13"
          ],
          [
           "1",
           "3",
           "14"
          ],
          [
           "1",
           "3",
           "15"
          ],
          [
           "1",
           "3",
           "16"
          ],
          [
           "1",
           "3",
           "17"
          ],
          [
           "1",
           "3",
           "18"
          ],
          [
           "1",
           "3",
           "19"
          ],
          [
           "1",
           "3",
           "20"
          ],
          [
           "1",
           "3",
           "21"
          ],
          [
           "1",
           "3",
           "22"
          ],
          [
           "1",
           "3",
           "23"
          ],
          [
           "1",
           "3",
           "24"
          ],
          [
           "1",
           "3",
           "25"
          ],
          [
           "1",
           "3",
           "26"
          ],
          [
           "1",
           "3",
           "27"
          ],
          [
           "1",
           "3",
           "28"
          ],
          [
           "1",
           "3",
           "29"
          ],
          [
           "1",
           "3",
           "30"
          ],
          [
           "1",
           "3",
           "31"
          ],
          [
           "1",
           "3",
           "32"
          ],
          [
           "1",
           "3",
           "33"
          ],
          [
           "1",
           "3",
           "34"
          ],
          [
           "1",
           "3",
           "35"
          ],
          [
           "1",
           "3",
           "36"
          ],
          [
           "1",
           "3",
           "37"
          ],
          [
           "1",
           "3",
           "38"
          ],
          [
           "1",
           "3",
           "39"
          ],
          [
           "1",
           "3",
           "40"
          ],
          [
           "1",
           "3",
           "41"
          ],
          [
           "1",
           "3",
           "42"
          ],
          [
           "1",
           "3",
           "43"
          ],
          [
           "1",
           "3",
           "44"
          ],
          [
           "1",
           "3",
           "45"
          ],
          [
           "1",
           "3",
           "46"
          ],
          [
           "1",
           "3",
           "47"
          ],
          [
           "1",
           "3",
           "48"
          ],
          [
           "1",
           "3",
           "49"
          ],
          [
           "1",
           "3",
           "50"
          ],
          [
           "1",
           "3",
           "51"
          ],
          [
           "1",
           "3",
           "52"
          ],
          [
           "1",
           "3",
           "53"
          ],
          [
           "1",
           "3",
           "54"
          ],
          [
           "1",
           "3",
           "55"
          ],
          [
           "1",
           "3",
           "56"
          ],
          [
           "1",
           "3",
           "57"
          ],
          [
           "1",
           "3",
           "58"
          ],
          [
           "1",
           "3",
           "59"
          ],
          [
           "1",
           "3",
           "60"
          ],
          [
           "1",
           "3",
           "61"
          ],
          [
           "1",
           "3",
           "62"
          ],
          [
           "1",
           "3",
           "63"
          ],
          [
           "1",
           "3",
           "64"
          ],
          [
           "1",
           "3",
           "65"
          ],
          [
           "1",
           "3",
           "66"
          ],
          [
           "1",
           "3",
           "67"
          ],
          [
           "1",
           "3",
           "68"
          ],
          [
           "1",
           "3",
           "69"
          ],
          [
           "1",
           "3",
           "70"
          ],
          [
           "1",
           "3",
           "71"
          ],
          [
           "1",
           "4",
           "0"
          ],
          [
           "1",
           "4",
           "1"
          ],
          [
           "1",
           "4",
           "2"
          ],
          [
           "1",
           "4",
           "3"
          ],
          [
           "1",
           "4",
           "4"
          ],
          [
           "1",
           "4",
           "5"
          ],
          [
           "1",
           "4",
           "6"
          ],
          [
           "1",
           "4",
           "7"
          ],
          [
           "1",
           "4",
           "8"
          ],
          [
           "1",
           "4",
           "9"
          ],
          [
           "1",
           "4",
           "10"
          ],
          [
           "1",
           "4",
           "11"
          ],
          [
           "1",
           "4",
           "12"
          ],
          [
           "1",
           "4",
           "13"
          ],
          [
           "1",
           "4",
           "14"
          ],
          [
           "1",
           "4",
           "15"
          ],
          [
           "1",
           "4",
           "16"
          ],
          [
           "1",
           "4",
           "17"
          ],
          [
           "1",
           "4",
           "18"
          ],
          [
           "1",
           "4",
           "19"
          ],
          [
           "1",
           "4",
           "20"
          ],
          [
           "1",
           "4",
           "21"
          ],
          [
           "1",
           "4",
           "22"
          ],
          [
           "1",
           "4",
           "23"
          ],
          [
           "1",
           "4",
           "24"
          ],
          [
           "1",
           "4",
           "25"
          ],
          [
           "1",
           "4",
           "26"
          ],
          [
           "1",
           "4",
           "27"
          ],
          [
           "1",
           "4",
           "28"
          ],
          [
           "1",
           "4",
           "29"
          ],
          [
           "1",
           "4",
           "30"
          ],
          [
           "1",
           "4",
           "31"
          ],
          [
           "1",
           "4",
           "32"
          ],
          [
           "1",
           "4",
           "33"
          ],
          [
           "1",
           "4",
           "34"
          ],
          [
           "1",
           "4",
           "35"
          ],
          [
           "1",
           "4",
           "36"
          ],
          [
           "1",
           "4",
           "37"
          ],
          [
           "1",
           "4",
           "38"
          ],
          [
           "1",
           "4",
           "39"
          ],
          [
           "1",
           "4",
           "40"
          ],
          [
           "1",
           "4",
           "41"
          ],
          [
           "1",
           "4",
           "42"
          ],
          [
           "1",
           "4",
           "43"
          ],
          [
           "1",
           "4",
           "44"
          ],
          [
           "1",
           "4",
           "45"
          ],
          [
           "1",
           "4",
           "46"
          ],
          [
           "1",
           "4",
           "47"
          ],
          [
           "1",
           "4",
           "48"
          ],
          [
           "1",
           "4",
           "49"
          ],
          [
           "1",
           "4",
           "50"
          ],
          [
           "1",
           "4",
           "51"
          ],
          [
           "1",
           "4",
           "52"
          ],
          [
           "1",
           "4",
           "53"
          ],
          [
           "1",
           "4",
           "54"
          ],
          [
           "1",
           "4",
           "55"
          ],
          [
           "1",
           "4",
           "56"
          ],
          [
           "1",
           "4",
           "57"
          ],
          [
           "1",
           "4",
           "58"
          ],
          [
           "1",
           "4",
           "59"
          ],
          [
           "1",
           "4",
           "60"
          ],
          [
           "1",
           "4",
           "61"
          ],
          [
           "1",
           "4",
           "62"
          ],
          [
           "1",
           "4",
           "63"
          ],
          [
           "1",
           "4",
           "64"
          ],
          [
           "1",
           "4",
           "65"
          ],
          [
           "1",
           "4",
           "66"
          ],
          [
           "1",
           "4",
           "67"
          ],
          [
           "1",
           "4",
           "68"
          ],
          [
           "1",
           "4",
           "69"
          ],
          [
           "1",
           "4",
           "70"
          ],
          [
           "1",
           "4",
           "71"
          ],
          [
           "1",
           "5",
           "0"
          ],
          [
           "1",
           "5",
           "1"
          ],
          [
           "1",
           "5",
           "2"
          ],
          [
           "1",
           "5",
           "3"
          ],
          [
           "1",
           "5",
           "4"
          ],
          [
           "1",
           "5",
           "5"
          ],
          [
           "1",
           "5",
           "6"
          ],
          [
           "1",
           "5",
           "7"
          ],
          [
           "1",
           "5",
           "8"
          ],
          [
           "1",
           "5",
           "9"
          ],
          [
           "1",
           "5",
           "10"
          ],
          [
           "1",
           "5",
           "11"
          ],
          [
           "1",
           "5",
           "12"
          ],
          [
           "1",
           "5",
           "13"
          ],
          [
           "1",
           "5",
           "14"
          ],
          [
           "1",
           "5",
           "15"
          ],
          [
           "1",
           "5",
           "16"
          ],
          [
           "1",
           "5",
           "17"
          ],
          [
           "1",
           "5",
           "18"
          ],
          [
           "1",
           "5",
           "19"
          ],
          [
           "1",
           "5",
           "20"
          ],
          [
           "1",
           "5",
           "21"
          ],
          [
           "1",
           "5",
           "22"
          ],
          [
           "1",
           "5",
           "23"
          ],
          [
           "1",
           "5",
           "24"
          ],
          [
           "1",
           "5",
           "25"
          ],
          [
           "1",
           "5",
           "26"
          ],
          [
           "1",
           "5",
           "27"
          ],
          [
           "1",
           "5",
           "28"
          ],
          [
           "1",
           "5",
           "29"
          ],
          [
           "1",
           "5",
           "30"
          ],
          [
           "1",
           "5",
           "31"
          ],
          [
           "1",
           "5",
           "32"
          ],
          [
           "1",
           "5",
           "33"
          ],
          [
           "1",
           "5",
           "34"
          ],
          [
           "1",
           "5",
           "35"
          ],
          [
           "1",
           "5",
           "36"
          ],
          [
           "1",
           "5",
           "37"
          ],
          [
           "1",
           "5",
           "38"
          ],
          [
           "1",
           "5",
           "39"
          ],
          [
           "1",
           "5",
           "40"
          ],
          [
           "1",
           "5",
           "41"
          ],
          [
           "1",
           "5",
           "42"
          ],
          [
           "1",
           "5",
           "43"
          ],
          [
           "1",
           "5",
           "44"
          ],
          [
           "1",
           "5",
           "45"
          ],
          [
           "1",
           "5",
           "46"
          ],
          [
           "1",
           "5",
           "47"
          ],
          [
           "1",
           "5",
           "48"
          ],
          [
           "1",
           "5",
           "49"
          ],
          [
           "1",
           "5",
           "50"
          ],
          [
           "1",
           "5",
           "51"
          ],
          [
           "1",
           "5",
           "52"
          ],
          [
           "1",
           "5",
           "53"
          ],
          [
           "1",
           "5",
           "54"
          ],
          [
           "1",
           "5",
           "55"
          ],
          [
           "1",
           "5",
           "56"
          ],
          [
           "1",
           "5",
           "57"
          ],
          [
           "1",
           "5",
           "58"
          ],
          [
           "1",
           "5",
           "59"
          ],
          [
           "1",
           "5",
           "60"
          ],
          [
           "1",
           "5",
           "61"
          ],
          [
           "1",
           "5",
           "62"
          ],
          [
           "1",
           "5",
           "63"
          ],
          [
           "1",
           "5",
           "64"
          ],
          [
           "1",
           "5",
           "65"
          ],
          [
           "1",
           "5",
           "66"
          ],
          [
           "1",
           "5",
           "67"
          ],
          [
           "1",
           "5",
           "68"
          ],
          [
           "1",
           "5",
           "69"
          ],
          [
           "1",
           "5",
           "70"
          ],
          [
           "1",
           "5",
           "71"
          ]
         ],
         "type": "scatter",
         "x": [
          -2.5248442873382854e-9,
          -2.535120579285395e-9,
          -2.5322940595633984e-9,
          -2.5294258584822594e-9,
          -2.529930271246134e-9,
          -2.5291147037292247e-9,
          -2.5315251342295633e-9,
          -2.528959714063482e-9,
          -2.5304075208702224e-9,
          -2.5337298352904706e-9,
          -2.531104055848185e-9,
          -2.5272127291608083e-9,
          -2.5357354174289854e-9,
          -2.5153641316071494e-9,
          -2.5373542352194155e-9,
          -2.5342220710845085e-9,
          -2.531274204117702e-9,
          -2.5287381129757133e-9,
          -2.5342678697566373e-9,
          -2.530543146826071e-9,
          -2.528552644664828e-9,
          -2.5337843133692434e-9,
          -2.5281460735677225e-9,
          -2.533343970023718e-9,
          -2.5149396964334916e-9,
          -2.5375198214920996e-9,
          -2.5329808402528626e-9,
          -2.5328355580161345e-9,
          -2.5328108012162974e-9,
          -2.53267728327001e-9,
          -2.5307520272485284e-9,
          -2.5329689383434666e-9,
          -2.5307660526292402e-9,
          -2.5266111336942685e-9,
          -2.5358412790433562e-9,
          -2.5262510694496946e-9,
          -2.5303720961234876e-9,
          -2.5360934865723762e-9,
          -2.5314893877529902e-9,
          -2.528457068684147e-9,
          -2.5343300581960106e-9,
          -2.5260303804460963e-9,
          -2.527996415579185e-9,
          -2.5346460782137668e-9,
          -2.5326279170313112e-9,
          -2.52659966783152e-9,
          -2.5338921603431976e-9,
          -2.5188045010696105e-9,
          -2.5391140184067422e-9,
          -2.5301017493045792e-9,
          -2.532739218554689e-9,
          -2.5277135860379176e-9,
          -2.5344728462940347e-9,
          -2.5332797685609446e-9,
          -2.5296760057986087e-9,
          -2.532802519006712e-9,
          -2.5286458955395707e-9,
          -2.53153690309965e-9,
          -2.5298457206529957e-9,
          -2.5319413355337963e-9,
          -2.5289887766501372e-9,
          -2.5327473911912415e-9,
          -2.5292492640455255e-9,
          -2.5315103518775298e-9,
          -2.5331154847038396e-9,
          -2.5321536967135963e-9,
          -2.5239644350187324e-9,
          -2.5285567085613276e-9,
          -2.5180085407667296e-9,
          -2.538347061745884e-9,
          -2.527030164545423e-9,
          -2.5331045892258725e-9,
          -2.533332313986412e-9,
          -2.5206850900334766e-9,
          -2.5133323525046313e-9,
          -2.5368835423000506e-9,
          -2.522995154584147e-9,
          -2.5163135679032013e-9,
          -2.5276009260521044e-9,
          -2.048140232091859e-9,
          -2.723196163424636e-9,
          -2.4999869026116102e-9,
          -2.5151680839630743e-9,
          -2.549562282177763e-9,
          -2.5152413651266966e-9,
          -2.5005223834670297e-9,
          -2.5322295177311478e-9,
          -2.5320987409077184e-9,
          -2.52651433946928e-9,
          -2.528731872283348e-9,
          -2.5213758415204278e-9,
          -2.531366572697408e-9,
          -2.5166407027070895e-9,
          -2.5376497533081775e-9,
          -2.523078882361098e-9,
          -2.5255159486337236e-9,
          -2.527620320950632e-9,
          -2.4676065385379035e-9,
          -2.537067418424599e-9,
          -2.4819651197152688e-9,
          -2.5525583806726074e-9,
          -2.510799481649252e-9,
          -2.5087288079575134e-9,
          -2.5465636430382443e-9,
          -2.493320438532427e-9,
          -2.5279382017000333e-9,
          -2.4921929950544716e-9,
          -2.547864857785132e-9,
          -2.5057949135115736e-9,
          -2.5343893781385625e-9,
          -2.5221269806415667e-9,
          -2.4885636789667635e-9,
          -2.5464631768532495e-9,
          -2.4998595123627266e-9,
          -2.5111920222025075e-9,
          -2.5343448292353497e-9,
          -2.488838029878338e-9,
          -2.5125173743659924e-9,
          -2.5552922129516814e-9,
          -2.5131158638062235e-9,
          -2.522273630687374e-9,
          -2.4897325368295213e-9,
          -2.5169049559206046e-9,
          -2.5239548844418027e-9,
          -2.529569560324296e-9,
          -2.518212956667982e-9,
          -2.419337524072798e-9,
          -2.566863410347839e-9,
          -2.496410429360608e-9,
          -2.5249616230880064e-9,
          -2.489134338848632e-9,
          -2.505860309817117e-9,
          -2.5338908337353375e-9,
          -2.4916608492822284e-9,
          -2.4987529852751962e-9,
          -2.5262736606330438e-9,
          -2.523412135659656e-9,
          -2.5262710838619194e-9,
          -2.4933944601620925e-9,
          -2.5212371428384607e-9,
          -2.5355015716615663e-9,
          -2.4725413798007977e-9,
          -2.5520689148320845e-9,
          -2.513432985543983e-9,
          -2.6709391474733247e-9,
          2.070285055794163e-8,
          -1.3080657534209962e-8,
          -2.5996988453170262e-9,
          -2.4625613151371445e-9,
          -2.437069936432002e-9,
          -2.5814435621677995e-9,
          -2.514907430085777e-9,
          9.43483166399798e-10,
          -3.948985851958456e-9,
          -2.5380254549578596e-9,
          6.025284412426449e-10,
          -3.5734916263100766e-9,
          -2.6816353702812444e-9,
          -2.5254679473777735e-9,
          -2.4482085529948985e-9,
          -2.540193284519898e-9,
          -2.489388640286517e-9,
          -2.440323757997464e-9,
          -2.545380145540133e-9,
          -2.520484888310109e-9,
          -2.4827961224876673e-9,
          -2.4372306209447173e-9,
          -2.5217030241559757e-9,
          -2.497610576488648e-9,
          -2.446716935868354e-9,
          -2.5132317207619246e-9,
          -2.5040011768091735e-9,
          -2.4686093674607326e-9,
          -2.2019824790209703e-9,
          -2.55428834336914e-9,
          -2.3955820585249457e-9,
          -2.385300610564378e-9,
          -2.5760149132409518e-9,
          -2.5092089002932876e-9,
          -2.445849676102402e-9,
          -2.255787749137476e-9,
          -2.469717558265654e-9,
          -2.4031293411951454e-9,
          -2.5805379291621417e-9,
          -2.5311693468295047e-9,
          -3.2877217499013633e-9,
          0.0000033610195987833897,
          -0.0000015969065883385128,
          1.454506712556257e-8,
          -1.0181041196037884e-8,
          -4.453595909969229e-9,
          -2.3049002696409308e-9,
          -2.6332213062370925e-9,
          -2.4069421463790585e-9,
          -2.5066361072798478e-9,
          -2.5742430783662224e-9,
          -2.3635220059455624e-9,
          -2.208031715947348e-9,
          -1.6774089549287761e-9,
          -2.6879783415797877e-9,
          -2.5965017286778576e-9,
          -2.388791208584501e-9,
          -2.295170456073455e-9,
          -2.54942071833812e-9,
          -2.476068318212849e-9,
          -2.327395107831951e-9,
          -2.543453375621829e-9,
          -2.5890271493862812e-9,
          -2.520333994309069e-9,
          -1.8081240831252953e-9,
          -2.8422509457319847e-9,
          -2.5876107853411673e-9,
          -2.4679295856734945e-9,
          -2.5392609199797987e-9,
          -2.3724064970440087e-9,
          -2.3474604713344916e-9,
          -2.532687021672638e-9,
          -2.535617458575977e-9,
          -2.5261548613192986e-9,
          -2.5283055195339237e-9,
          -2.5329260120999374e-9,
          -2.516223628409117e-9,
          -2.537998589478436e-9,
          -2.533118132500763e-9,
          -2.5306580214521407e-9,
          -2.531413197816482e-9,
          -2.533233043392235e-9,
          -2.5105635674612893e-9,
          -2.543591695918324e-9,
          -2.509597507446939e-9,
          -2.5386458345344816e-9,
          -2.5164931389274096e-9,
          -2.541718325007784e-9,
          -2.5120188903325895e-9,
          -2.525304599539067e-9,
          -2.5360284295071896e-9,
          -2.531432756863327e-9,
          -2.5310719682066488e-9,
          -2.530167413548783e-9,
          -2.524714542246236e-9,
          -2.532085630724898e-9,
          -2.5320826352390408e-9,
          -2.530893280920006e-9,
          -2.5313485649110728e-9,
          -2.529157433401757e-9,
          -2.522730011454954e-9,
          -2.5366671673035026e-9,
          -2.531849095625249e-9,
          -2.5307250597408488e-9,
          -2.5339409891869697e-9,
          -2.5296285056224463e-9,
          -2.502369743755496e-9,
          -2.550766193113163e-9,
          -2.5327802107018536e-9,
          -2.5286249943139314e-9,
          -2.532061397912626e-9,
          -2.5339317460689936e-9,
          -2.532949967317083e-9,
          -2.532148016923891e-9,
          -2.5296911403943843e-9,
          -2.527024202850632e-9,
          -2.524695607963266e-9,
          -2.536725528110659e-9,
          -2.5312289726075085e-9,
          -2.5320340616592427e-9,
          -2.5264912518232848e-9,
          -2.5342568301558893e-9,
          -2.5325608820901315e-9,
          -2.5260449795411587e-9,
          -2.5330582041051967e-9,
          -2.53210347239705e-9,
          -2.5228568565315318e-9,
          -2.533881686852263e-9,
          -2.5281280691371935e-9,
          -2.5294532105607468e-9,
          -2.5302972859163867e-9,
          -2.4993653987986744e-9,
          -2.546645020723939e-9,
          -2.534029061606647e-9,
          -2.5137954550460246e-9,
          -2.536515917745877e-9,
          -2.5321703227598316e-9,
          -2.525807835781936e-9,
          -2.5364279427706795e-9,
          -2.5103504593528053e-9,
          -2.5156172192322784e-9,
          -2.5449349041507192e-9,
          -2.531570327169142e-9,
          -2.5217394252685395e-9,
          -2.5337039927951143e-9,
          -2.532813191929267e-9,
          -2.5307606139973864e-9,
          -2.522251130590923e-9,
          -2.534677501413263e-9,
          -2.5251183839349824e-9,
          -2.4937612552357525e-9,
          -2.5516984898333776e-9,
          -2.527770773425982e-9,
          -2.534613485571406e-9,
          -2.525907676981182e-9,
          -2.5339230556140674e-9,
          -2.531571796876361e-9,
          -2.527174883030636e-9,
          -2.5331294696161595e-9,
          -2.5264168784566735e-9,
          -2.527058176890033e-9,
          -2.536478354629453e-9,
          -2.53218239026991e-9,
          -2.5147541467502157e-9,
          -2.5333660551923764e-9,
          -2.532003398702777e-9,
          -2.5311445736828644e-9,
          -2.524181616794837e-9,
          -2.5326639650884293e-9,
          -2.5278379189891295e-9,
          -2.531800170932711e-9,
          -2.532098669439223e-9,
          -2.5322464036716106e-9,
          -2.5177122269580617e-9,
          -2.5406896163428077e-9,
          -2.5293346150532257e-9,
          -2.5193752165974325e-9,
          -2.538318455511998e-9,
          -2.5308901129556135e-9,
          -2.529497749083398e-9,
          -2.5341370673519662e-9,
          -2.5242134228723225e-9,
          -2.5348290440082156e-9,
          -2.5278265926201482e-9,
          -2.5297338944310695e-9,
          -2.4989201837705087e-9,
          -2.5418886483468607e-9,
          -2.518964685981766e-9,
          -2.538907317466401e-9,
          -2.5262865667363157e-9,
          -2.5223395546325635e-9,
          -2.5231828355055235e-9,
          -2.535036467023783e-9,
          -2.5281554483128463e-9,
          -2.5141220782502133e-9,
          -2.543821701293108e-9,
          -2.524403834188321e-9,
          -2.5052323904992657e-9,
          -2.545022146830321e-9,
          -2.5332777695280988e-9,
          -2.53133182841329e-9,
          -2.5322106767399497e-9,
          -2.529383306637477e-9,
          -2.5291824367387166e-9,
          -2.5308720055606975e-9,
          -2.5274461951044437e-9,
          -2.5361142273623864e-9,
          -2.531886405001867e-9,
          -2.5315625228052796e-9,
          -2.5305231532150027e-9,
          -2.531531296940666e-9,
          -2.5174738253753208e-9,
          -2.5334547539385382e-9,
          -2.517782964335253e-9,
          -2.540749614804519e-9
         ],
         "y": [
          -7.1411863237185925e-9,
          -7.138932592519151e-9,
          -7.1465880733765745e-9,
          -7.1452384392929795e-9,
          -7.14188156809645e-9,
          -7.138477072786059e-9,
          -7.139670816756956e-9,
          -7.1425355158618804e-9,
          -7.140804968647889e-9,
          -7.1432791854086055e-9,
          -7.147134130481094e-9,
          -7.144209259003264e-9,
          -7.143519107348464e-9,
          -7.14098412391717e-9,
          -7.133706899538976e-9,
          -7.1463647275336625e-9,
          -7.1486139831011015e-9,
          -7.1444159585305635e-9,
          -7.143230865821729e-9,
          -7.146115483250931e-9,
          -7.14438972904993e-9,
          -7.144397246032583e-9,
          -7.145431295629948e-9,
          -7.1443148071184934e-9,
          -7.138944951860218e-9,
          -7.128381266326011e-9,
          -7.142839920281095e-9,
          -7.146805934891224e-9,
          -7.147584392459187e-9,
          -7.148689858753978e-9,
          -7.147750416191105e-9,
          -7.14514450891168e-9,
          -7.145940725415393e-9,
          -7.143674991043371e-9,
          -7.139767398415306e-9,
          -7.144365497087845e-9,
          -7.1410349850803654e-9,
          -7.140425003393503e-9,
          -7.148282822194534e-9,
          -7.145797200133046e-9,
          -7.144650608101611e-9,
          -7.145323927257737e-9,
          -7.137614486408312e-9,
          -7.137666865048566e-9,
          -7.1437421386622546e-9,
          -7.143887911684664e-9,
          -7.137944746525743e-9,
          -7.139702591439508e-9,
          -7.127441159057675e-9,
          -7.144931436558194e-9,
          -7.1437066233491374e-9,
          -7.1434440291345584e-9,
          -7.139896101162076e-9,
          -7.146187684206539e-9,
          -7.147536030414907e-9,
          -7.1459726844643755e-9,
          -7.1453995340866866e-9,
          -7.1446200506099656e-9,
          -7.144634655559335e-9,
          -7.143346312482232e-9,
          -7.14431231611452e-9,
          -7.143480339868666e-9,
          -7.145214158420385e-9,
          -7.141183278577461e-9,
          -7.143337904085984e-9,
          -7.146278923469873e-9,
          -7.142958373706846e-9,
          -7.133677371287713e-9,
          -7.129766438791905e-9,
          -7.128280336466269e-9,
          -7.14146269804142e-9,
          -7.140294618887412e-9,
          -7.1291918178546625e-9,
          -7.132142486047887e-9,
          -7.1182314948574824e-9,
          -7.12039642299502e-9,
          -7.135438786907539e-9,
          -7.12195702562564e-9,
          -7.103674369030591e-9,
          -6.8899805926442795e-9,
          -6.682593146021462e-9,
          -7.0984402568838415e-9,
          -7.070727167509077e-9,
          -7.101222825053333e-9,
          -7.129660346617546e-9,
          -7.109915584118837e-9,
          -7.098783788120546e-9,
          -7.118905367398714e-9,
          -7.125571784164472e-9,
          -7.127218752097315e-9,
          -7.1213264045148944e-9,
          -7.121061745999472e-9,
          -7.12076895544336e-9,
          -7.127019299498916e-9,
          -7.137240697398919e-9,
          -7.13126728441177e-9,
          -7.132043280782352e-9,
          -7.084786451689613e-9,
          -7.0511113563754545e-9,
          -7.0596510276305634e-9,
          -7.0726882274530125e-9,
          -7.118049249916826e-9,
          -7.097277783274839e-9,
          -7.095132118597696e-9,
          -7.113051682719944e-9,
          -7.085802149822445e-9,
          -7.090129006917088e-9,
          -7.075872095149986e-9,
          -7.114003133673621e-9,
          -7.098468111840648e-9,
          -7.12124183146695e-9,
          -7.090802557936142e-9,
          -7.08521865468732e-9,
          -7.107123622738171e-9,
          -7.088846411134037e-9,
          -7.104554637085803e-9,
          -7.0918117297830824e-9,
          -7.0569012207517305e-9,
          -7.0879115168876386e-9,
          -7.1319855663101365e-9,
          -7.1095067301217055e-9,
          -7.0898037980601494e-9,
          -7.072171936579246e-9,
          -7.083497061680519e-9,
          -7.102945777376043e-9,
          -7.1158071140231925e-9,
          -7.039268386254655e-9,
          -7.018646840820892e-9,
          -7.097953558698181e-9,
          -7.0535078439907125e-9,
          -7.070642424607633e-9,
          -7.040594443870624e-9,
          -7.06442476935842e-9,
          -7.082133724727805e-9,
          -7.052082855338123e-9,
          -7.068188919969814e-9,
          -7.109302238366034e-9,
          -7.12570403990247e-9,
          -7.10617005478401e-9,
          -7.088368115798625e-9,
          -7.114067005870851e-9,
          -7.105166152686959e-9,
          -7.0752242365428385e-9,
          -7.1219116158331195e-9,
          -6.3714534850049735e-9,
          4.4244144583858894e-9,
          1.5720385421912344e-8,
          -6.759507701094775e-9,
          -6.981959635616339e-9,
          -6.9484543699634595e-9,
          -6.953653602297214e-9,
          -7.0628280319032386e-9,
          -5.183534727879336e-9,
          -4.026792061221202e-9,
          -7.048213451211882e-9,
          -5.496327882365585e-9,
          -3.7361774477121365e-9,
          -6.7335448191950534e-9,
          -7.096583467786813e-9,
          -7.067467217335282e-9,
          -7.034155151918891e-9,
          -7.058958248268482e-9,
          -7.017697705867411e-9,
          -6.970314794914638e-9,
          -7.023134640371547e-9,
          -7.028066862790853e-9,
          -6.999249734789278e-9,
          -6.937128764955133e-9,
          -6.976150826950046e-9,
          -7.001031784104456e-9,
          -6.989652003222055e-9,
          -7.050134493760119e-9,
          -7.0345277382263775e-9,
          -6.859216510446399e-9,
          -6.749276274404924e-9,
          -6.890064478223285e-9,
          -6.831057409381299e-9,
          -6.8472843031326815e-9,
          -7.002542739679916e-9,
          -6.978850554055445e-9,
          -6.838428044260818e-9,
          -6.629234451689685e-9,
          -6.650649498599265e-9,
          -6.7376484043177985e-9,
          -7.001072857742673e-9,
          -5.6150151921817536e-9,
          0.0000015897917809140492,
          0.0000033536849743379726,
          5.406373695633898e-9,
          1.6492531741907298e-8,
          -2.8726901762917492e-9,
          -6.910220260842458e-9,
          -6.777668897722551e-9,
          -6.998003004107601e-9,
          -6.835432731980195e-9,
          -6.96258622052246e-9,
          -7.003715005139854e-9,
          -6.723865706032509e-9,
          -6.134200188525449e-9,
          -5.814953006867432e-9,
          -6.704756971022832e-9,
          -6.879302924311531e-9,
          -6.6909328077306805e-9,
          -6.606982861513675e-9,
          -6.882276697272844e-9,
          -6.843660851826435e-9,
          -6.690506224222389e-9,
          -6.954503205113149e-9,
          -7.094222984276512e-9,
          -6.30064177436728e-9,
          -6.2075819002485305e-9,
          -6.975671613615441e-9,
          -7.080357358451e-9,
          -7.034646915806359e-9,
          -6.966859116945166e-9,
          -6.591134576249797e-9,
          -7.126093406442111e-9,
          -7.135735699937537e-9,
          -7.142745077070988e-9,
          -7.137971102493008e-9,
          -7.139959102910517e-9,
          -7.136896955638272e-9,
          -7.130309481591027e-9,
          -7.1449797970635475e-9,
          -7.146290531732449e-9,
          -7.1450480116520235e-9,
          -7.145884017014066e-9,
          -7.137639724579944e-9,
          -7.1197209126887345e-9,
          -7.13467067490205e-9,
          -7.1168232393521466e-9,
          -7.131061281973282e-9,
          -7.123878321814935e-9,
          -7.136027030496785e-9,
          -7.11181120931231e-9,
          -7.125287996687034e-9,
          -7.1387112380635e-9,
          -7.139734008759057e-9,
          -7.141020733661465e-9,
          -7.1390579557385015e-9,
          -7.14111707107591e-9,
          -7.1436132336466865e-9,
          -7.14528475231046e-9,
          -7.1447220440206525e-9,
          -7.145705216872667e-9,
          -7.138861486513288e-9,
          -7.136233449014475e-9,
          -7.145939331735839e-9,
          -7.145773209631349e-9,
          -7.144566109723986e-9,
          -7.1464499490231306e-9,
          -7.1300793553146764e-9,
          -7.103292069380277e-9,
          -7.146231293131104e-9,
          -7.145966570172191e-9,
          -7.141528136898649e-9,
          -7.144720755815627e-9,
          -7.148382263578894e-9,
          -7.149137662669352e-9,
          -7.146872904618354e-9,
          -7.142933655279344e-9,
          -7.136683807022706e-9,
          -7.133842354730186e-9,
          -7.1433758641865434e-9,
          -7.145099621001146e-9,
          -7.1427761298862345e-9,
          -7.140061503875101e-9,
          -7.145606507962577e-9,
          -7.1439680687943234e-9,
          -7.140171077623931e-9,
          -7.141884704412441e-9,
          -7.140320928615561e-9,
          -7.135665359417672e-9,
          -7.139564534378752e-9,
          -7.13736552269669e-9,
          -7.138504387860824e-9,
          -7.12617802100852e-9,
          -7.109984640404251e-9,
          -7.1438897398616804e-9,
          -7.1382965707877504e-9,
          -7.135848209029454e-9,
          -7.143544124243767e-9,
          -7.140614147864531e-9,
          -7.140722840204783e-9,
          -7.1372869382968114e-9,
          -7.106020859870883e-9,
          -7.111215476118871e-9,
          -7.143513759227614e-9,
          -7.14204862462218e-9,
          -7.1331682846666e-9,
          -7.1429952675749815e-9,
          -7.145084711998326e-9,
          -7.139318764598234e-9,
          -7.131394869959427e-9,
          -7.137102661555913e-9,
          -7.116162942318853e-9,
          -7.105901443485068e-9,
          -7.145327354961658e-9,
          -7.139424695521333e-9,
          -7.142575711400179e-9,
          -7.137724837744429e-9,
          -7.144643471956476e-9,
          -7.1423401675306956e-9,
          -7.139423312835861e-9,
          -7.142485052114055e-9,
          -7.135742848785263e-9,
          -7.137943443679412e-9,
          -7.145588505187396e-9,
          -7.136817099221583e-9,
          -7.13094205131776e-9,
          -7.140365492728979e-9,
          -7.144257171176555e-9,
          -7.141348917202226e-9,
          -7.134518283950414e-9,
          -7.141188069878993e-9,
          -7.140490141891724e-9,
          -7.1413729167147905e-9,
          -7.140016098955891e-9,
          -7.137006646591084e-9,
          -7.12733848153084e-9,
          -7.1441294185675255e-9,
          -7.134792207167703e-9,
          -7.1248849678924955e-9,
          -7.1409688680459435e-9,
          -7.141678146862833e-9,
          -7.140454186041545e-9,
          -7.140357078557515e-9,
          -7.135039512794173e-9,
          -7.142116686452869e-9,
          -7.136732183986133e-9,
          -7.122962023146086e-9,
          -7.107905112881352e-9,
          -7.131039395203054e-9,
          -7.130365582636514e-9,
          -7.14302544789103e-9,
          -7.1349599949138496e-9,
          -7.124532903093405e-9,
          -7.122384903407024e-9,
          -7.134271296331079e-9,
          -7.1313664081950814e-9,
          -7.12078615893428e-9,
          -7.132446094460892e-9,
          -7.116140625229385e-9,
          -7.114921039165338e-9,
          -7.1441516533458725e-9,
          -7.146418190895736e-9,
          -7.144719397058648e-9,
          -7.1450925288693745e-9,
          -7.1411095822876165e-9,
          -7.13752022501082e-9,
          -7.138452025505453e-9,
          -7.13390618510947e-9,
          -7.143064225954548e-9,
          -7.145499726889278e-9,
          -7.144051917055271e-9,
          -7.143837857433991e-9,
          -7.137635758028012e-9,
          -7.122936396526829e-9,
          -7.125722764530379e-9,
          -7.123092047574545e-9
         ]
        },
        {
         "customdata": [
          [
           "2",
           "1",
           "0"
          ],
          [
           "2",
           "1",
           "1"
          ],
          [
           "2",
           "1",
           "2"
          ],
          [
           "2",
           "1",
           "3"
          ],
          [
           "2",
           "1",
           "4"
          ],
          [
           "2",
           "1",
           "5"
          ],
          [
           "2",
           "1",
           "6"
          ],
          [
           "2",
           "1",
           "7"
          ],
          [
           "2",
           "1",
           "8"
          ],
          [
           "2",
           "1",
           "9"
          ],
          [
           "2",
           "1",
           "10"
          ],
          [
           "2",
           "1",
           "11"
          ],
          [
           "2",
           "1",
           "12"
          ],
          [
           "2",
           "1",
           "13"
          ],
          [
           "2",
           "1",
           "14"
          ],
          [
           "2",
           "1",
           "15"
          ],
          [
           "2",
           "1",
           "16"
          ],
          [
           "2",
           "1",
           "17"
          ],
          [
           "2",
           "1",
           "18"
          ],
          [
           "2",
           "1",
           "19"
          ],
          [
           "2",
           "1",
           "20"
          ],
          [
           "2",
           "1",
           "21"
          ],
          [
           "2",
           "1",
           "22"
          ],
          [
           "2",
           "1",
           "23"
          ],
          [
           "2",
           "1",
           "24"
          ],
          [
           "2",
           "1",
           "25"
          ],
          [
           "2",
           "1",
           "26"
          ],
          [
           "2",
           "1",
           "27"
          ],
          [
           "2",
           "1",
           "28"
          ],
          [
           "2",
           "1",
           "29"
          ],
          [
           "2",
           "1",
           "30"
          ],
          [
           "2",
           "1",
           "31"
          ],
          [
           "2",
           "1",
           "32"
          ],
          [
           "2",
           "1",
           "33"
          ],
          [
           "2",
           "1",
           "34"
          ],
          [
           "2",
           "1",
           "35"
          ],
          [
           "2",
           "1",
           "36"
          ],
          [
           "2",
           "1",
           "37"
          ],
          [
           "2",
           "1",
           "38"
          ],
          [
           "2",
           "1",
           "39"
          ],
          [
           "2",
           "1",
           "40"
          ],
          [
           "2",
           "1",
           "41"
          ],
          [
           "2",
           "1",
           "42"
          ],
          [
           "2",
           "1",
           "43"
          ],
          [
           "2",
           "1",
           "44"
          ],
          [
           "2",
           "1",
           "45"
          ],
          [
           "2",
           "1",
           "46"
          ],
          [
           "2",
           "1",
           "47"
          ],
          [
           "2",
           "1",
           "48"
          ],
          [
           "2",
           "1",
           "49"
          ],
          [
           "2",
           "1",
           "50"
          ],
          [
           "2",
           "1",
           "51"
          ],
          [
           "2",
           "1",
           "52"
          ],
          [
           "2",
           "1",
           "53"
          ],
          [
           "2",
           "1",
           "54"
          ],
          [
           "2",
           "1",
           "55"
          ],
          [
           "2",
           "1",
           "56"
          ],
          [
           "2",
           "1",
           "57"
          ],
          [
           "2",
           "1",
           "58"
          ],
          [
           "2",
           "1",
           "59"
          ],
          [
           "2",
           "1",
           "60"
          ],
          [
           "2",
           "1",
           "61"
          ],
          [
           "2",
           "1",
           "62"
          ],
          [
           "2",
           "1",
           "63"
          ],
          [
           "2",
           "1",
           "64"
          ],
          [
           "2",
           "1",
           "65"
          ],
          [
           "2",
           "1",
           "66"
          ],
          [
           "2",
           "1",
           "67"
          ],
          [
           "2",
           "1",
           "68"
          ],
          [
           "2",
           "1",
           "69"
          ],
          [
           "2",
           "1",
           "70"
          ],
          [
           "2",
           "1",
           "71"
          ],
          [
           "2",
           "2",
           "0"
          ],
          [
           "2",
           "2",
           "1"
          ],
          [
           "2",
           "2",
           "2"
          ],
          [
           "2",
           "2",
           "3"
          ],
          [
           "2",
           "2",
           "4"
          ],
          [
           "2",
           "2",
           "5"
          ],
          [
           "2",
           "2",
           "6"
          ],
          [
           "2",
           "2",
           "7"
          ],
          [
           "2",
           "2",
           "8"
          ],
          [
           "2",
           "2",
           "9"
          ],
          [
           "2",
           "2",
           "10"
          ],
          [
           "2",
           "2",
           "11"
          ],
          [
           "2",
           "2",
           "12"
          ],
          [
           "2",
           "2",
           "13"
          ],
          [
           "2",
           "2",
           "14"
          ],
          [
           "2",
           "2",
           "15"
          ],
          [
           "2",
           "2",
           "16"
          ],
          [
           "2",
           "2",
           "17"
          ],
          [
           "2",
           "2",
           "18"
          ],
          [
           "2",
           "2",
           "19"
          ],
          [
           "2",
           "2",
           "20"
          ],
          [
           "2",
           "2",
           "21"
          ],
          [
           "2",
           "2",
           "22"
          ],
          [
           "2",
           "2",
           "23"
          ],
          [
           "2",
           "2",
           "24"
          ],
          [
           "2",
           "2",
           "25"
          ],
          [
           "2",
           "2",
           "26"
          ],
          [
           "2",
           "2",
           "27"
          ],
          [
           "2",
           "2",
           "28"
          ],
          [
           "2",
           "2",
           "29"
          ],
          [
           "2",
           "2",
           "30"
          ],
          [
           "2",
           "2",
           "31"
          ],
          [
           "2",
           "2",
           "32"
          ],
          [
           "2",
           "2",
           "33"
          ],
          [
           "2",
           "2",
           "34"
          ],
          [
           "2",
           "2",
           "35"
          ],
          [
           "2",
           "2",
           "36"
          ],
          [
           "2",
           "2",
           "37"
          ],
          [
           "2",
           "2",
           "38"
          ],
          [
           "2",
           "2",
           "39"
          ],
          [
           "2",
           "2",
           "40"
          ],
          [
           "2",
           "2",
           "41"
          ],
          [
           "2",
           "2",
           "42"
          ],
          [
           "2",
           "2",
           "43"
          ],
          [
           "2",
           "2",
           "44"
          ],
          [
           "2",
           "2",
           "45"
          ],
          [
           "2",
           "2",
           "46"
          ],
          [
           "2",
           "2",
           "47"
          ],
          [
           "2",
           "2",
           "48"
          ],
          [
           "2",
           "2",
           "49"
          ],
          [
           "2",
           "2",
           "50"
          ],
          [
           "2",
           "2",
           "51"
          ],
          [
           "2",
           "2",
           "52"
          ],
          [
           "2",
           "2",
           "53"
          ],
          [
           "2",
           "2",
           "54"
          ],
          [
           "2",
           "2",
           "55"
          ],
          [
           "2",
           "2",
           "56"
          ],
          [
           "2",
           "2",
           "57"
          ],
          [
           "2",
           "2",
           "58"
          ],
          [
           "2",
           "2",
           "59"
          ],
          [
           "2",
           "2",
           "60"
          ],
          [
           "2",
           "2",
           "61"
          ],
          [
           "2",
           "2",
           "62"
          ],
          [
           "2",
           "2",
           "63"
          ],
          [
           "2",
           "2",
           "64"
          ],
          [
           "2",
           "2",
           "65"
          ],
          [
           "2",
           "2",
           "66"
          ],
          [
           "2",
           "2",
           "67"
          ],
          [
           "2",
           "2",
           "68"
          ],
          [
           "2",
           "2",
           "69"
          ],
          [
           "2",
           "2",
           "70"
          ],
          [
           "2",
           "2",
           "71"
          ],
          [
           "2",
           "3",
           "0"
          ],
          [
           "2",
           "3",
           "1"
          ],
          [
           "2",
           "3",
           "2"
          ],
          [
           "2",
           "3",
           "3"
          ],
          [
           "2",
           "3",
           "4"
          ],
          [
           "2",
           "3",
           "5"
          ],
          [
           "2",
           "3",
           "6"
          ],
          [
           "2",
           "3",
           "7"
          ],
          [
           "2",
           "3",
           "8"
          ],
          [
           "2",
           "3",
           "9"
          ],
          [
           "2",
           "3",
           "10"
          ],
          [
           "2",
           "3",
           "11"
          ],
          [
           "2",
           "3",
           "12"
          ],
          [
           "2",
           "3",
           "13"
          ],
          [
           "2",
           "3",
           "14"
          ],
          [
           "2",
           "3",
           "15"
          ],
          [
           "2",
           "3",
           "16"
          ],
          [
           "2",
           "3",
           "17"
          ],
          [
           "2",
           "3",
           "18"
          ],
          [
           "2",
           "3",
           "19"
          ],
          [
           "2",
           "3",
           "20"
          ],
          [
           "2",
           "3",
           "21"
          ],
          [
           "2",
           "3",
           "22"
          ],
          [
           "2",
           "3",
           "23"
          ],
          [
           "2",
           "3",
           "24"
          ],
          [
           "2",
           "3",
           "25"
          ],
          [
           "2",
           "3",
           "26"
          ],
          [
           "2",
           "3",
           "27"
          ],
          [
           "2",
           "3",
           "28"
          ],
          [
           "2",
           "3",
           "29"
          ],
          [
           "2",
           "3",
           "30"
          ],
          [
           "2",
           "3",
           "31"
          ],
          [
           "2",
           "3",
           "32"
          ],
          [
           "2",
           "3",
           "33"
          ],
          [
           "2",
           "3",
           "34"
          ],
          [
           "2",
           "3",
           "35"
          ],
          [
           "2",
           "3",
           "36"
          ],
          [
           "2",
           "3",
           "37"
          ],
          [
           "2",
           "3",
           "38"
          ],
          [
           "2",
           "3",
           "39"
          ],
          [
           "2",
           "3",
           "40"
          ],
          [
           "2",
           "3",
           "41"
          ],
          [
           "2",
           "3",
           "42"
          ],
          [
           "2",
           "3",
           "43"
          ],
          [
           "2",
           "3",
           "44"
          ],
          [
           "2",
           "3",
           "45"
          ],
          [
           "2",
           "3",
           "46"
          ],
          [
           "2",
           "3",
           "47"
          ],
          [
           "2",
           "3",
           "48"
          ],
          [
           "2",
           "3",
           "49"
          ],
          [
           "2",
           "3",
           "50"
          ],
          [
           "2",
           "3",
           "51"
          ],
          [
           "2",
           "3",
           "52"
          ],
          [
           "2",
           "3",
           "53"
          ],
          [
           "2",
           "3",
           "54"
          ],
          [
           "2",
           "3",
           "55"
          ],
          [
           "2",
           "3",
           "56"
          ],
          [
           "2",
           "3",
           "57"
          ],
          [
           "2",
           "3",
           "58"
          ],
          [
           "2",
           "3",
           "59"
          ],
          [
           "2",
           "3",
           "60"
          ],
          [
           "2",
           "3",
           "61"
          ],
          [
           "2",
           "3",
           "62"
          ],
          [
           "2",
           "3",
           "63"
          ],
          [
           "2",
           "3",
           "64"
          ],
          [
           "2",
           "3",
           "65"
          ],
          [
           "2",
           "3",
           "66"
          ],
          [
           "2",
           "3",
           "67"
          ],
          [
           "2",
           "3",
           "68"
          ],
          [
           "2",
           "3",
           "69"
          ],
          [
           "2",
           "3",
           "70"
          ],
          [
           "2",
           "3",
           "71"
          ],
          [
           "2",
           "4",
           "0"
          ],
          [
           "2",
           "4",
           "1"
          ],
          [
           "2",
           "4",
           "2"
          ],
          [
           "2",
           "4",
           "3"
          ],
          [
           "2",
           "4",
           "4"
          ],
          [
           "2",
           "4",
           "5"
          ],
          [
           "2",
           "4",
           "6"
          ],
          [
           "2",
           "4",
           "7"
          ],
          [
           "2",
           "4",
           "8"
          ],
          [
           "2",
           "4",
           "9"
          ],
          [
           "2",
           "4",
           "10"
          ],
          [
           "2",
           "4",
           "11"
          ],
          [
           "2",
           "4",
           "12"
          ],
          [
           "2",
           "4",
           "13"
          ],
          [
           "2",
           "4",
           "14"
          ],
          [
           "2",
           "4",
           "15"
          ],
          [
           "2",
           "4",
           "16"
          ],
          [
           "2",
           "4",
           "17"
          ],
          [
           "2",
           "4",
           "18"
          ],
          [
           "2",
           "4",
           "19"
          ],
          [
           "2",
           "4",
           "20"
          ],
          [
           "2",
           "4",
           "21"
          ],
          [
           "2",
           "4",
           "22"
          ],
          [
           "2",
           "4",
           "23"
          ],
          [
           "2",
           "4",
           "24"
          ],
          [
           "2",
           "4",
           "25"
          ],
          [
           "2",
           "4",
           "26"
          ],
          [
           "2",
           "4",
           "27"
          ],
          [
           "2",
           "4",
           "28"
          ],
          [
           "2",
           "4",
           "29"
          ],
          [
           "2",
           "4",
           "30"
          ],
          [
           "2",
           "4",
           "31"
          ],
          [
           "2",
           "4",
           "32"
          ],
          [
           "2",
           "4",
           "33"
          ],
          [
           "2",
           "4",
           "34"
          ],
          [
           "2",
           "4",
           "35"
          ],
          [
           "2",
           "4",
           "36"
          ],
          [
           "2",
           "4",
           "37"
          ],
          [
           "2",
           "4",
           "38"
          ],
          [
           "2",
           "4",
           "39"
          ],
          [
           "2",
           "4",
           "40"
          ],
          [
           "2",
           "4",
           "41"
          ],
          [
           "2",
           "4",
           "42"
          ],
          [
           "2",
           "4",
           "43"
          ],
          [
           "2",
           "4",
           "44"
          ],
          [
           "2",
           "4",
           "45"
          ],
          [
           "2",
           "4",
           "46"
          ],
          [
           "2",
           "4",
           "47"
          ],
          [
           "2",
           "4",
           "48"
          ],
          [
           "2",
           "4",
           "49"
          ],
          [
           "2",
           "4",
           "50"
          ],
          [
           "2",
           "4",
           "51"
          ],
          [
           "2",
           "4",
           "52"
          ],
          [
           "2",
           "4",
           "53"
          ],
          [
           "2",
           "4",
           "54"
          ],
          [
           "2",
           "4",
           "55"
          ],
          [
           "2",
           "4",
           "56"
          ],
          [
           "2",
           "4",
           "57"
          ],
          [
           "2",
           "4",
           "58"
          ],
          [
           "2",
           "4",
           "59"
          ],
          [
           "2",
           "4",
           "60"
          ],
          [
           "2",
           "4",
           "61"
          ],
          [
           "2",
           "4",
           "62"
          ],
          [
           "2",
           "4",
           "63"
          ],
          [
           "2",
           "4",
           "64"
          ],
          [
           "2",
           "4",
           "65"
          ],
          [
           "2",
           "4",
           "66"
          ],
          [
           "2",
           "4",
           "67"
          ],
          [
           "2",
           "4",
           "68"
          ],
          [
           "2",
           "4",
           "69"
          ],
          [
           "2",
           "4",
           "70"
          ],
          [
           "2",
           "4",
           "71"
          ],
          [
           "2",
           "5",
           "0"
          ],
          [
           "2",
           "5",
           "1"
          ],
          [
           "2",
           "5",
           "2"
          ],
          [
           "2",
           "5",
           "3"
          ],
          [
           "2",
           "5",
           "4"
          ],
          [
           "2",
           "5",
           "5"
          ],
          [
           "2",
           "5",
           "6"
          ],
          [
           "2",
           "5",
           "7"
          ],
          [
           "2",
           "5",
           "8"
          ],
          [
           "2",
           "5",
           "9"
          ],
          [
           "2",
           "5",
           "10"
          ],
          [
           "2",
           "5",
           "11"
          ],
          [
           "2",
           "5",
           "12"
          ],
          [
           "2",
           "5",
           "13"
          ],
          [
           "2",
           "5",
           "14"
          ],
          [
           "2",
           "5",
           "15"
          ],
          [
           "2",
           "5",
           "16"
          ],
          [
           "2",
           "5",
           "17"
          ],
          [
           "2",
           "5",
           "18"
          ],
          [
           "2",
           "5",
           "19"
          ],
          [
           "2",
           "5",
           "20"
          ],
          [
           "2",
           "5",
           "21"
          ],
          [
           "2",
           "5",
           "22"
          ],
          [
           "2",
           "5",
           "23"
          ],
          [
           "2",
           "5",
           "24"
          ],
          [
           "2",
           "5",
           "25"
          ],
          [
           "2",
           "5",
           "26"
          ],
          [
           "2",
           "5",
           "27"
          ],
          [
           "2",
           "5",
           "28"
          ],
          [
           "2",
           "5",
           "29"
          ],
          [
           "2",
           "5",
           "30"
          ],
          [
           "2",
           "5",
           "31"
          ],
          [
           "2",
           "5",
           "32"
          ],
          [
           "2",
           "5",
           "33"
          ],
          [
           "2",
           "5",
           "34"
          ],
          [
           "2",
           "5",
           "35"
          ],
          [
           "2",
           "5",
           "36"
          ],
          [
           "2",
           "5",
           "37"
          ],
          [
           "2",
           "5",
           "38"
          ],
          [
           "2",
           "5",
           "39"
          ],
          [
           "2",
           "5",
           "40"
          ],
          [
           "2",
           "5",
           "41"
          ],
          [
           "2",
           "5",
           "42"
          ],
          [
           "2",
           "5",
           "43"
          ],
          [
           "2",
           "5",
           "44"
          ],
          [
           "2",
           "5",
           "45"
          ],
          [
           "2",
           "5",
           "46"
          ],
          [
           "2",
           "5",
           "47"
          ],
          [
           "2",
           "5",
           "48"
          ],
          [
           "2",
           "5",
           "49"
          ],
          [
           "2",
           "5",
           "50"
          ],
          [
           "2",
           "5",
           "51"
          ],
          [
           "2",
           "5",
           "52"
          ],
          [
           "2",
           "5",
           "53"
          ],
          [
           "2",
           "5",
           "54"
          ],
          [
           "2",
           "5",
           "55"
          ],
          [
           "2",
           "5",
           "56"
          ],
          [
           "2",
           "5",
           "57"
          ],
          [
           "2",
           "5",
           "58"
          ],
          [
           "2",
           "5",
           "59"
          ],
          [
           "2",
           "5",
           "60"
          ],
          [
           "2",
           "5",
           "61"
          ],
          [
           "2",
           "5",
           "62"
          ],
          [
           "2",
           "5",
           "63"
          ],
          [
           "2",
           "5",
           "64"
          ],
          [
           "2",
           "5",
           "65"
          ],
          [
           "2",
           "5",
           "66"
          ],
          [
           "2",
           "5",
           "67"
          ],
          [
           "2",
           "5",
           "68"
          ],
          [
           "2",
           "5",
           "69"
          ],
          [
           "2",
           "5",
           "70"
          ],
          [
           "2",
           "5",
           "71"
          ]
         ],
         "hovertemplate": "%{customdata}",
         "marker": {
          "color": "rgb(122, 4, 2)",
          "size": 10
         },
         "mode": "markers",
         "name": "2",
         "text": [
          [
           "2",
           "1",
           "0"
          ],
          [
           "2",
           "1",
           "1"
          ],
          [
           "2",
           "1",
           "2"
          ],
          [
           "2",
           "1",
           "3"
          ],
          [
           "2",
           "1",
           "4"
          ],
          [
           "2",
           "1",
           "5"
          ],
          [
           "2",
           "1",
           "6"
          ],
          [
           "2",
           "1",
           "7"
          ],
          [
           "2",
           "1",
           "8"
          ],
          [
           "2",
           "1",
           "9"
          ],
          [
           "2",
           "1",
           "10"
          ],
          [
           "2",
           "1",
           "11"
          ],
          [
           "2",
           "1",
           "12"
          ],
          [
           "2",
           "1",
           "13"
          ],
          [
           "2",
           "1",
           "14"
          ],
          [
           "2",
           "1",
           "15"
          ],
          [
           "2",
           "1",
           "16"
          ],
          [
           "2",
           "1",
           "17"
          ],
          [
           "2",
           "1",
           "18"
          ],
          [
           "2",
           "1",
           "19"
          ],
          [
           "2",
           "1",
           "20"
          ],
          [
           "2",
           "1",
           "21"
          ],
          [
           "2",
           "1",
           "22"
          ],
          [
           "2",
           "1",
           "23"
          ],
          [
           "2",
           "1",
           "24"
          ],
          [
           "2",
           "1",
           "25"
          ],
          [
           "2",
           "1",
           "26"
          ],
          [
           "2",
           "1",
           "27"
          ],
          [
           "2",
           "1",
           "28"
          ],
          [
           "2",
           "1",
           "29"
          ],
          [
           "2",
           "1",
           "30"
          ],
          [
           "2",
           "1",
           "31"
          ],
          [
           "2",
           "1",
           "32"
          ],
          [
           "2",
           "1",
           "33"
          ],
          [
           "2",
           "1",
           "34"
          ],
          [
           "2",
           "1",
           "35"
          ],
          [
           "2",
           "1",
           "36"
          ],
          [
           "2",
           "1",
           "37"
          ],
          [
           "2",
           "1",
           "38"
          ],
          [
           "2",
           "1",
           "39"
          ],
          [
           "2",
           "1",
           "40"
          ],
          [
           "2",
           "1",
           "41"
          ],
          [
           "2",
           "1",
           "42"
          ],
          [
           "2",
           "1",
           "43"
          ],
          [
           "2",
           "1",
           "44"
          ],
          [
           "2",
           "1",
           "45"
          ],
          [
           "2",
           "1",
           "46"
          ],
          [
           "2",
           "1",
           "47"
          ],
          [
           "2",
           "1",
           "48"
          ],
          [
           "2",
           "1",
           "49"
          ],
          [
           "2",
           "1",
           "50"
          ],
          [
           "2",
           "1",
           "51"
          ],
          [
           "2",
           "1",
           "52"
          ],
          [
           "2",
           "1",
           "53"
          ],
          [
           "2",
           "1",
           "54"
          ],
          [
           "2",
           "1",
           "55"
          ],
          [
           "2",
           "1",
           "56"
          ],
          [
           "2",
           "1",
           "57"
          ],
          [
           "2",
           "1",
           "58"
          ],
          [
           "2",
           "1",
           "59"
          ],
          [
           "2",
           "1",
           "60"
          ],
          [
           "2",
           "1",
           "61"
          ],
          [
           "2",
           "1",
           "62"
          ],
          [
           "2",
           "1",
           "63"
          ],
          [
           "2",
           "1",
           "64"
          ],
          [
           "2",
           "1",
           "65"
          ],
          [
           "2",
           "1",
           "66"
          ],
          [
           "2",
           "1",
           "67"
          ],
          [
           "2",
           "1",
           "68"
          ],
          [
           "2",
           "1",
           "69"
          ],
          [
           "2",
           "1",
           "70"
          ],
          [
           "2",
           "1",
           "71"
          ],
          [
           "2",
           "2",
           "0"
          ],
          [
           "2",
           "2",
           "1"
          ],
          [
           "2",
           "2",
           "2"
          ],
          [
           "2",
           "2",
           "3"
          ],
          [
           "2",
           "2",
           "4"
          ],
          [
           "2",
           "2",
           "5"
          ],
          [
           "2",
           "2",
           "6"
          ],
          [
           "2",
           "2",
           "7"
          ],
          [
           "2",
           "2",
           "8"
          ],
          [
           "2",
           "2",
           "9"
          ],
          [
           "2",
           "2",
           "10"
          ],
          [
           "2",
           "2",
           "11"
          ],
          [
           "2",
           "2",
           "12"
          ],
          [
           "2",
           "2",
           "13"
          ],
          [
           "2",
           "2",
           "14"
          ],
          [
           "2",
           "2",
           "15"
          ],
          [
           "2",
           "2",
           "16"
          ],
          [
           "2",
           "2",
           "17"
          ],
          [
           "2",
           "2",
           "18"
          ],
          [
           "2",
           "2",
           "19"
          ],
          [
           "2",
           "2",
           "20"
          ],
          [
           "2",
           "2",
           "21"
          ],
          [
           "2",
           "2",
           "22"
          ],
          [
           "2",
           "2",
           "23"
          ],
          [
           "2",
           "2",
           "24"
          ],
          [
           "2",
           "2",
           "25"
          ],
          [
           "2",
           "2",
           "26"
          ],
          [
           "2",
           "2",
           "27"
          ],
          [
           "2",
           "2",
           "28"
          ],
          [
           "2",
           "2",
           "29"
          ],
          [
           "2",
           "2",
           "30"
          ],
          [
           "2",
           "2",
           "31"
          ],
          [
           "2",
           "2",
           "32"
          ],
          [
           "2",
           "2",
           "33"
          ],
          [
           "2",
           "2",
           "34"
          ],
          [
           "2",
           "2",
           "35"
          ],
          [
           "2",
           "2",
           "36"
          ],
          [
           "2",
           "2",
           "37"
          ],
          [
           "2",
           "2",
           "38"
          ],
          [
           "2",
           "2",
           "39"
          ],
          [
           "2",
           "2",
           "40"
          ],
          [
           "2",
           "2",
           "41"
          ],
          [
           "2",
           "2",
           "42"
          ],
          [
           "2",
           "2",
           "43"
          ],
          [
           "2",
           "2",
           "44"
          ],
          [
           "2",
           "2",
           "45"
          ],
          [
           "2",
           "2",
           "46"
          ],
          [
           "2",
           "2",
           "47"
          ],
          [
           "2",
           "2",
           "48"
          ],
          [
           "2",
           "2",
           "49"
          ],
          [
           "2",
           "2",
           "50"
          ],
          [
           "2",
           "2",
           "51"
          ],
          [
           "2",
           "2",
           "52"
          ],
          [
           "2",
           "2",
           "53"
          ],
          [
           "2",
           "2",
           "54"
          ],
          [
           "2",
           "2",
           "55"
          ],
          [
           "2",
           "2",
           "56"
          ],
          [
           "2",
           "2",
           "57"
          ],
          [
           "2",
           "2",
           "58"
          ],
          [
           "2",
           "2",
           "59"
          ],
          [
           "2",
           "2",
           "60"
          ],
          [
           "2",
           "2",
           "61"
          ],
          [
           "2",
           "2",
           "62"
          ],
          [
           "2",
           "2",
           "63"
          ],
          [
           "2",
           "2",
           "64"
          ],
          [
           "2",
           "2",
           "65"
          ],
          [
           "2",
           "2",
           "66"
          ],
          [
           "2",
           "2",
           "67"
          ],
          [
           "2",
           "2",
           "68"
          ],
          [
           "2",
           "2",
           "69"
          ],
          [
           "2",
           "2",
           "70"
          ],
          [
           "2",
           "2",
           "71"
          ],
          [
           "2",
           "3",
           "0"
          ],
          [
           "2",
           "3",
           "1"
          ],
          [
           "2",
           "3",
           "2"
          ],
          [
           "2",
           "3",
           "3"
          ],
          [
           "2",
           "3",
           "4"
          ],
          [
           "2",
           "3",
           "5"
          ],
          [
           "2",
           "3",
           "6"
          ],
          [
           "2",
           "3",
           "7"
          ],
          [
           "2",
           "3",
           "8"
          ],
          [
           "2",
           "3",
           "9"
          ],
          [
           "2",
           "3",
           "10"
          ],
          [
           "2",
           "3",
           "11"
          ],
          [
           "2",
           "3",
           "12"
          ],
          [
           "2",
           "3",
           "13"
          ],
          [
           "2",
           "3",
           "14"
          ],
          [
           "2",
           "3",
           "15"
          ],
          [
           "2",
           "3",
           "16"
          ],
          [
           "2",
           "3",
           "17"
          ],
          [
           "2",
           "3",
           "18"
          ],
          [
           "2",
           "3",
           "19"
          ],
          [
           "2",
           "3",
           "20"
          ],
          [
           "2",
           "3",
           "21"
          ],
          [
           "2",
           "3",
           "22"
          ],
          [
           "2",
           "3",
           "23"
          ],
          [
           "2",
           "3",
           "24"
          ],
          [
           "2",
           "3",
           "25"
          ],
          [
           "2",
           "3",
           "26"
          ],
          [
           "2",
           "3",
           "27"
          ],
          [
           "2",
           "3",
           "28"
          ],
          [
           "2",
           "3",
           "29"
          ],
          [
           "2",
           "3",
           "30"
          ],
          [
           "2",
           "3",
           "31"
          ],
          [
           "2",
           "3",
           "32"
          ],
          [
           "2",
           "3",
           "33"
          ],
          [
           "2",
           "3",
           "34"
          ],
          [
           "2",
           "3",
           "35"
          ],
          [
           "2",
           "3",
           "36"
          ],
          [
           "2",
           "3",
           "37"
          ],
          [
           "2",
           "3",
           "38"
          ],
          [
           "2",
           "3",
           "39"
          ],
          [
           "2",
           "3",
           "40"
          ],
          [
           "2",
           "3",
           "41"
          ],
          [
           "2",
           "3",
           "42"
          ],
          [
           "2",
           "3",
           "43"
          ],
          [
           "2",
           "3",
           "44"
          ],
          [
           "2",
           "3",
           "45"
          ],
          [
           "2",
           "3",
           "46"
          ],
          [
           "2",
           "3",
           "47"
          ],
          [
           "2",
           "3",
           "48"
          ],
          [
           "2",
           "3",
           "49"
          ],
          [
           "2",
           "3",
           "50"
          ],
          [
           "2",
           "3",
           "51"
          ],
          [
           "2",
           "3",
           "52"
          ],
          [
           "2",
           "3",
           "53"
          ],
          [
           "2",
           "3",
           "54"
          ],
          [
           "2",
           "3",
           "55"
          ],
          [
           "2",
           "3",
           "56"
          ],
          [
           "2",
           "3",
           "57"
          ],
          [
           "2",
           "3",
           "58"
          ],
          [
           "2",
           "3",
           "59"
          ],
          [
           "2",
           "3",
           "60"
          ],
          [
           "2",
           "3",
           "61"
          ],
          [
           "2",
           "3",
           "62"
          ],
          [
           "2",
           "3",
           "63"
          ],
          [
           "2",
           "3",
           "64"
          ],
          [
           "2",
           "3",
           "65"
          ],
          [
           "2",
           "3",
           "66"
          ],
          [
           "2",
           "3",
           "67"
          ],
          [
           "2",
           "3",
           "68"
          ],
          [
           "2",
           "3",
           "69"
          ],
          [
           "2",
           "3",
           "70"
          ],
          [
           "2",
           "3",
           "71"
          ],
          [
           "2",
           "4",
           "0"
          ],
          [
           "2",
           "4",
           "1"
          ],
          [
           "2",
           "4",
           "2"
          ],
          [
           "2",
           "4",
           "3"
          ],
          [
           "2",
           "4",
           "4"
          ],
          [
           "2",
           "4",
           "5"
          ],
          [
           "2",
           "4",
           "6"
          ],
          [
           "2",
           "4",
           "7"
          ],
          [
           "2",
           "4",
           "8"
          ],
          [
           "2",
           "4",
           "9"
          ],
          [
           "2",
           "4",
           "10"
          ],
          [
           "2",
           "4",
           "11"
          ],
          [
           "2",
           "4",
           "12"
          ],
          [
           "2",
           "4",
           "13"
          ],
          [
           "2",
           "4",
           "14"
          ],
          [
           "2",
           "4",
           "15"
          ],
          [
           "2",
           "4",
           "16"
          ],
          [
           "2",
           "4",
           "17"
          ],
          [
           "2",
           "4",
           "18"
          ],
          [
           "2",
           "4",
           "19"
          ],
          [
           "2",
           "4",
           "20"
          ],
          [
           "2",
           "4",
           "21"
          ],
          [
           "2",
           "4",
           "22"
          ],
          [
           "2",
           "4",
           "23"
          ],
          [
           "2",
           "4",
           "24"
          ],
          [
           "2",
           "4",
           "25"
          ],
          [
           "2",
           "4",
           "26"
          ],
          [
           "2",
           "4",
           "27"
          ],
          [
           "2",
           "4",
           "28"
          ],
          [
           "2",
           "4",
           "29"
          ],
          [
           "2",
           "4",
           "30"
          ],
          [
           "2",
           "4",
           "31"
          ],
          [
           "2",
           "4",
           "32"
          ],
          [
           "2",
           "4",
           "33"
          ],
          [
           "2",
           "4",
           "34"
          ],
          [
           "2",
           "4",
           "35"
          ],
          [
           "2",
           "4",
           "36"
          ],
          [
           "2",
           "4",
           "37"
          ],
          [
           "2",
           "4",
           "38"
          ],
          [
           "2",
           "4",
           "39"
          ],
          [
           "2",
           "4",
           "40"
          ],
          [
           "2",
           "4",
           "41"
          ],
          [
           "2",
           "4",
           "42"
          ],
          [
           "2",
           "4",
           "43"
          ],
          [
           "2",
           "4",
           "44"
          ],
          [
           "2",
           "4",
           "45"
          ],
          [
           "2",
           "4",
           "46"
          ],
          [
           "2",
           "4",
           "47"
          ],
          [
           "2",
           "4",
           "48"
          ],
          [
           "2",
           "4",
           "49"
          ],
          [
           "2",
           "4",
           "50"
          ],
          [
           "2",
           "4",
           "51"
          ],
          [
           "2",
           "4",
           "52"
          ],
          [
           "2",
           "4",
           "53"
          ],
          [
           "2",
           "4",
           "54"
          ],
          [
           "2",
           "4",
           "55"
          ],
          [
           "2",
           "4",
           "56"
          ],
          [
           "2",
           "4",
           "57"
          ],
          [
           "2",
           "4",
           "58"
          ],
          [
           "2",
           "4",
           "59"
          ],
          [
           "2",
           "4",
           "60"
          ],
          [
           "2",
           "4",
           "61"
          ],
          [
           "2",
           "4",
           "62"
          ],
          [
           "2",
           "4",
           "63"
          ],
          [
           "2",
           "4",
           "64"
          ],
          [
           "2",
           "4",
           "65"
          ],
          [
           "2",
           "4",
           "66"
          ],
          [
           "2",
           "4",
           "67"
          ],
          [
           "2",
           "4",
           "68"
          ],
          [
           "2",
           "4",
           "69"
          ],
          [
           "2",
           "4",
           "70"
          ],
          [
           "2",
           "4",
           "71"
          ],
          [
           "2",
           "5",
           "0"
          ],
          [
           "2",
           "5",
           "1"
          ],
          [
           "2",
           "5",
           "2"
          ],
          [
           "2",
           "5",
           "3"
          ],
          [
           "2",
           "5",
           "4"
          ],
          [
           "2",
           "5",
           "5"
          ],
          [
           "2",
           "5",
           "6"
          ],
          [
           "2",
           "5",
           "7"
          ],
          [
           "2",
           "5",
           "8"
          ],
          [
           "2",
           "5",
           "9"
          ],
          [
           "2",
           "5",
           "10"
          ],
          [
           "2",
           "5",
           "11"
          ],
          [
           "2",
           "5",
           "12"
          ],
          [
           "2",
           "5",
           "13"
          ],
          [
           "2",
           "5",
           "14"
          ],
          [
           "2",
           "5",
           "15"
          ],
          [
           "2",
           "5",
           "16"
          ],
          [
           "2",
           "5",
           "17"
          ],
          [
           "2",
           "5",
           "18"
          ],
          [
           "2",
           "5",
           "19"
          ],
          [
           "2",
           "5",
           "20"
          ],
          [
           "2",
           "5",
           "21"
          ],
          [
           "2",
           "5",
           "22"
          ],
          [
           "2",
           "5",
           "23"
          ],
          [
           "2",
           "5",
           "24"
          ],
          [
           "2",
           "5",
           "25"
          ],
          [
           "2",
           "5",
           "26"
          ],
          [
           "2",
           "5",
           "27"
          ],
          [
           "2",
           "5",
           "28"
          ],
          [
           "2",
           "5",
           "29"
          ],
          [
           "2",
           "5",
           "30"
          ],
          [
           "2",
           "5",
           "31"
          ],
          [
           "2",
           "5",
           "32"
          ],
          [
           "2",
           "5",
           "33"
          ],
          [
           "2",
           "5",
           "34"
          ],
          [
           "2",
           "5",
           "35"
          ],
          [
           "2",
           "5",
           "36"
          ],
          [
           "2",
           "5",
           "37"
          ],
          [
           "2",
           "5",
           "38"
          ],
          [
           "2",
           "5",
           "39"
          ],
          [
           "2",
           "5",
           "40"
          ],
          [
           "2",
           "5",
           "41"
          ],
          [
           "2",
           "5",
           "42"
          ],
          [
           "2",
           "5",
           "43"
          ],
          [
           "2",
           "5",
           "44"
          ],
          [
           "2",
           "5",
           "45"
          ],
          [
           "2",
           "5",
           "46"
          ],
          [
           "2",
           "5",
           "47"
          ],
          [
           "2",
           "5",
           "48"
          ],
          [
           "2",
           "5",
           "49"
          ],
          [
           "2",
           "5",
           "50"
          ],
          [
           "2",
           "5",
           "51"
          ],
          [
           "2",
           "5",
           "52"
          ],
          [
           "2",
           "5",
           "53"
          ],
          [
           "2",
           "5",
           "54"
          ],
          [
           "2",
           "5",
           "55"
          ],
          [
           "2",
           "5",
           "56"
          ],
          [
           "2",
           "5",
           "57"
          ],
          [
           "2",
           "5",
           "58"
          ],
          [
           "2",
           "5",
           "59"
          ],
          [
           "2",
           "5",
           "60"
          ],
          [
           "2",
           "5",
           "61"
          ],
          [
           "2",
           "5",
           "62"
          ],
          [
           "2",
           "5",
           "63"
          ],
          [
           "2",
           "5",
           "64"
          ],
          [
           "2",
           "5",
           "65"
          ],
          [
           "2",
           "5",
           "66"
          ],
          [
           "2",
           "5",
           "67"
          ],
          [
           "2",
           "5",
           "68"
          ],
          [
           "2",
           "5",
           "69"
          ],
          [
           "2",
           "5",
           "70"
          ],
          [
           "2",
           "5",
           "71"
          ]
         ],
         "type": "scatter",
         "x": [
          -2.5271447788837187e-9,
          -2.5324331737778997e-9,
          -2.5301517984242968e-9,
          -2.5122106571469718e-9,
          -2.5180179977319793e-9,
          -2.54163811103654e-9,
          -2.5223080207368666e-9,
          -2.524662462495219e-9,
          -2.5116576858209506e-9,
          -2.543466393833928e-9,
          -2.5280994534863035e-9,
          -2.5155153069835676e-9,
          -2.5390702597699726e-9,
          -2.5318192929206635e-9,
          -2.530868775409099e-9,
          -2.5250545593398033e-9,
          -2.5357715046051873e-9,
          -2.517678105056772e-9,
          -2.5243568980137243e-9,
          -2.5161747648255907e-9,
          -2.543515022310782e-9,
          -2.5123682110614574e-9,
          -2.530827477107556e-9,
          -2.5266406013467754e-9,
          -2.5382952085453295e-9,
          -2.5303016801982064e-9,
          -2.525390946821278e-9,
          -2.5314357541743645e-9,
          -2.521151291536714e-9,
          -2.510027188219421e-9,
          -2.5359628461759503e-9,
          -2.5336303796434555e-9,
          -2.53214192730032e-9,
          -2.5228395068714284e-9,
          -2.520796796793572e-9,
          -2.5296302723295125e-9,
          -2.514372264648924e-9,
          -2.544082245033456e-9,
          -2.5229676067923647e-9,
          -2.53379599816851e-9,
          -2.5332151059351774e-9,
          -2.5310590118882532e-9,
          -2.5210956350078284e-9,
          -2.5298666414578537e-9,
          -2.529745133858943e-9,
          -2.5203205462156243e-9,
          -2.5340405420161477e-9,
          -2.531500492449027e-9,
          -2.53284182477578e-9,
          -2.5175569288499657e-9,
          -2.5345828523937215e-9,
          -2.5299442150755744e-9,
          -2.532896689305134e-9,
          -2.529337394379606e-9,
          -2.527020892199721e-9,
          -2.5238248757154202e-9,
          -2.5324041019506008e-9,
          -2.53019528530539e-9,
          -2.517098831575797e-9,
          -2.522276122348263e-9,
          -2.5337038537236524e-9,
          -2.5336016168495513e-9,
          -2.5285313468413113e-9,
          -2.5327271091792275e-9,
          -2.531076718650631e-9,
          -2.522425017778928e-9,
          -2.5237276074403225e-9,
          -2.516226343780311e-9,
          -2.5316201586586943e-9,
          -2.5263826632227746e-9,
          -2.5219696965679466e-9,
          -2.5363501055615988e-9,
          -2.390163810592014e-9,
          -2.3964258275201688e-9,
          -2.543760848364774e-9,
          -2.4159244798641453e-9,
          -2.0063344493587653e-9,
          -2.6117942562739175e-9,
          -2.5278307278811873e-9,
          -2.263697440207132e-9,
          -2.5473758799951815e-9,
          -2.333228669754358e-9,
          -2.5150170600684587e-9,
          -2.2230721432282778e-9,
          -2.4730080354237236e-9,
          -2.5088259505822763e-9,
          -2.367348062020932e-9,
          -2.4980335449414934e-9,
          -2.4563795774558393e-9,
          -2.5071502249015192e-9,
          -2.4975374392514928e-9,
          -2.4873411820228376e-9,
          -2.4747491415193627e-9,
          -2.414950993908567e-9,
          -2.4195494710831578e-9,
          -2.4619751439233595e-9,
          -2.476274335155613e-9,
          -2.2750711644648135e-9,
          -2.421988167657575e-9,
          -2.0617943477691505e-9,
          -2.645154777844182e-9,
          -2.543675830381445e-9,
          -2.424778233440888e-9,
          -2.390945738656571e-9,
          -2.5263851433674778e-9,
          -2.4204743418510345e-9,
          -2.446357246928332e-9,
          -2.207527167509813e-9,
          -2.309978919882689e-9,
          -2.5810370675584164e-9,
          -2.4665385346318164e-9,
          -2.431757505819774e-9,
          -2.4722106268471914e-9,
          -2.2882689989339574e-9,
          -2.5903002585579036e-9,
          -2.3990978766933263e-9,
          -2.408307575377574e-9,
          -2.4222616863051936e-9,
          -2.437907785719531e-9,
          -2.4760723528277037e-9,
          -2.506930126421655e-9,
          -2.4378248416961965e-9,
          -2.504959502901343e-9,
          -2.3787892616649167e-9,
          -2.456899105019455e-9,
          -2.524474211566071e-9,
          -2.2088595551560955e-9,
          -2.583867368697975e-9,
          -2.5535459096801635e-9,
          -1.5944872510019627e-9,
          -2.8634264147093777e-9,
          -2.363399790439393e-9,
          -2.484105821970811e-9,
          -2.381406079057259e-9,
          -2.3299465268027077e-9,
          -2.643128218134724e-9,
          -2.487493224038732e-9,
          -2.5451487153848357e-9,
          -2.3323400437817312e-9,
          -2.6264850197434953e-9,
          -2.447176426086464e-9,
          -2.514685356728947e-9,
          -2.5263105558455414e-9,
          -2.446086907809911e-9,
          -2.653271452213856e-9,
          -2.5404631135807856e-9,
          -2.5312351182129017e-9,
          -2.516423118225587e-9,
          -2.535728980851196e-9,
          -2.506422686462158e-9,
          -2.5385385983156698e-9,
          -2.527761498076546e-9,
          -2.5325083302111107e-9,
          -2.531059172222074e-9,
          -2.5273150450143335e-9,
          -2.5239518851147136e-9,
          -2.533240308559483e-9,
          -2.53022091386862e-9,
          -2.5298433913784895e-9,
          -2.5290969857000173e-9,
          -2.5305048125751084e-9,
          -2.5297505471065194e-9,
          -2.509672432253263e-9,
          -2.5214999818327216e-9,
          -2.4724597502783143e-9,
          -2.5392882901263554e-9,
          -2.541525186966144e-9,
          -2.4975396394532333e-9,
          -2.54061701266218e-9,
          -2.528478311418196e-9,
          -1.8386156508316044e-9,
          -2.4850376057239765e-9,
          -2.635342335302967e-9,
          -2.3514707244506265e-9,
          -2.4824018140610424e-9,
          -2.561604927623024e-9,
          -2.2442864825602224e-9,
          -2.51599006770002e-9,
          -2.5327672906941115e-9,
          -2.4665332849786044e-9,
          -2.52812078954898e-9,
          -2.5332807948486943e-9,
          -2.435051787086737e-9,
          -2.576893263016633e-9,
          -2.4887194725041114e-9,
          -2.526824094542946e-9,
          -2.52383009185153e-9,
          -2.525713198884404e-9,
          -2.530319017432947e-9,
          -2.5316550651594603e-9,
          -2.5263859949180293e-9,
          -2.511080768759644e-9,
          -1.9418991165303307e-10,
          -3.721619988101224e-9,
          -2.5450583725857536e-9,
          -2.5147249378937792e-9,
          -2.5262311701200048e-9,
          -2.5338336101781584e-9,
          -2.516102910170514e-9,
          -2.521410469292415e-9,
          -2.5259101720982195e-9,
          -2.5180962866240716e-9,
          -2.51026226635035e-9,
          -2.5053181597999967e-9,
          -2.2196755963475912e-9,
          -2.5371867489359486e-9,
          -2.59912915378217e-9,
          -2.487479331695435e-9,
          -2.543354246655146e-9,
          -2.518555049315222e-9,
          -2.523614178783841e-9,
          -2.526243623557363e-9,
          -2.519514645077394e-9,
          -2.5316569396536693e-9,
          -2.4817330196001964e-9,
          -2.5207940034242994e-9,
          -2.4844646366849007e-9,
          -2.562306659984666e-9,
          -2.5274446591152304e-9,
          -2.521630650889911e-9,
          -2.5309799879418175e-9,
          -2.518578107413377e-9,
          -2.536786458017498e-9,
          -2.514989608538588e-9,
          -2.531355597304631e-9,
          -2.518159652608595e-9,
          -2.523236390583614e-9,
          -2.5049605774861718e-9,
          -2.5374111837286354e-9,
          -2.5042366851332526e-9,
          -2.5204474117950065e-9,
          -2.4779289860696354e-9,
          -2.543257690983006e-9,
          -2.503613098644911e-9,
          -2.515437856644208e-9,
          -2.5404984009895537e-9,
          -2.528432963734736e-9,
          -2.532554669597097e-9,
          -2.515495799732356e-9,
          -2.4495442786736658e-9,
          -2.543986140980363e-9,
          -2.5171882491756007e-9,
          -2.5349614184527713e-9,
          -2.5269269455613053e-9,
          -2.5251904463163275e-9,
          -2.51471857963721e-9,
          -2.5297543818649436e-9,
          -2.518550626541107e-9,
          -2.5352244540588123e-9,
          -2.5294630268271686e-9,
          -2.519248825429771e-9,
          -2.5370700586133314e-9,
          -2.516612071075796e-9,
          -2.5262165800025465e-9,
          -2.5216372754054247e-9,
          -2.5381684818329284e-9,
          -2.478828427453247e-9,
          -2.528141059477471e-9,
          -2.5406774039852527e-9,
          -2.530543718902042e-9,
          -2.519829984089483e-9,
          -2.5235325646986672e-9,
          -2.5337857226164055e-9,
          -2.5253936132660654e-9,
          -2.530029631891058e-9,
          -2.515552894856142e-9,
          -2.5360878619791513e-9,
          -2.5240689509667326e-9,
          -2.5340765588104063e-9,
          -2.509522587901255e-9,
          -2.3651323689327526e-9,
          -2.6115499698348e-9,
          -2.5183961558808517e-9,
          -2.5363154576154044e-9,
          -2.5224738004784117e-9,
          -2.5246044556769276e-9,
          -2.5328109869978015e-9,
          -2.522679320978593e-9,
          -2.5302332290177354e-9,
          -2.531610020786605e-9,
          -2.5202201748308737e-9,
          -2.517347466735963e-9,
          -2.5325488783875515e-9,
          -2.526665037477645e-9,
          -2.5243836114174626e-9,
          -2.518663483949891e-9,
          -2.5379241069848847e-9,
          -2.5189803058899e-9,
          -2.628965749268288e-9,
          -2.4359934126534114e-9,
          -1.5799672109788254e-9,
          -2.9538199515595072e-9,
          -2.424879648045113e-9,
          -2.516464586627274e-9,
          -1.993064591349558e-9,
          -2.574002882060464e-9,
          -2.5531495676604333e-9,
          -2.332882684984416e-9,
          -2.3906287254863438e-9,
          -2.5148063552293763e-9,
          -2.3996016719890456e-9,
          -2.5766122941802452e-9,
          -2.2428556513659996e-9,
          -2.683555695757233e-9,
          -2.1633376711208904e-9,
          -2.5330589115353567e-9,
          -1.8795265825794057e-9,
          -2.7234565081079616e-9,
          -2.430540316913703e-9,
          -2.401835641526875e-9,
          -1.6371022536194592e-9,
          -2.775854085257061e-9,
          -2.33693915752167e-9,
          -2.6164140483337755e-9,
          -2.365232124985832e-9,
          -2.4466716112302816e-9,
          -2.398831041826633e-9,
          -2.375329913792043e-9,
          -2.347622799532791e-9,
          -2.6629032055539034e-9,
          -2.4933583687004944e-9,
          -1.4190566825123805e-10,
          -2.5729071645513373e-9,
          -2.4908679632905478e-9,
          -2.4738457066985847e-9,
          -2.3954616125549192e-9,
          -2.6003961401082312e-9,
          -2.189626117415127e-9,
          -2.063036560537407e-9,
          -2.4707555139831608e-9,
          -2.658854479253619e-9,
          -2.237612419600613e-9,
          -2.3900504332222846e-9,
          -2.569900001728103e-9,
          -2.477887134134938e-9,
          -2.4421391230908826e-9,
          -2.338008154704524e-9,
          -2.435413902392295e-9,
          -2.4194460205618893e-9,
          -2.4801367828890216e-9,
          -2.28865644180218e-9,
          -1.6086260032596039e-9,
          -2.7385449302913853e-9,
          -2.481482685212506e-9,
          -2.5568657098584944e-9,
          -2.3665541437568253e-9,
          -2.26359737461761e-9,
          -2.544494075505637e-9,
          -1.6940215476695042e-9,
          -1.8376342081985242e-9,
          -2.7323700199068978e-9,
          -2.3294997611597726e-9,
          -1.6846444029931814e-9,
          -2.919970888141908e-9,
          -1.7000772070249795e-9,
          -2.7246860266316e-9,
          -2.137138889513024e-9,
          -2.501555440297905e-9,
          -2.309419712023956e-9,
          -2.4504992780566457e-9
         ],
         "y": [
          -7.138444982509587e-9,
          -7.137861982995544e-9,
          -7.1411218432476155e-9,
          -7.13276067507951e-9,
          -7.115496836585084e-9,
          -7.117819794200534e-9,
          -7.138594129428442e-9,
          -7.129808853406789e-9,
          -7.118265989142567e-9,
          -7.1074761254667924e-9,
          -7.1365334507426095e-9,
          -7.128509444642178e-9,
          -7.12242363027215e-9,
          -7.1415703237700125e-9,
          -7.143947668382411e-9,
          -7.139123116164295e-9,
          -7.133672980294709e-9,
          -7.135705531254545e-9,
          -7.121359421665322e-9,
          -7.117414011430185e-9,
          -7.11653481013811e-9,
          -7.132541116567359e-9,
          -7.121158945713331e-9,
          -7.131368276450606e-9,
          -7.132063376791629e-9,
          -7.144652745430445e-9,
          -7.1413773579247555e-9,
          -7.1403048572909115e-9,
          -7.1385071983942906e-9,
          -7.121248634143874e-9,
          -7.110695250229033e-9,
          -7.129312816477395e-9,
          -7.140206845274145e-9,
          -7.140044438394255e-9,
          -7.125584198332237e-9,
          -7.121261512368791e-9,
          -7.114010609222629e-9,
          -7.117682181688565e-9,
          -7.139021079710719e-9,
          -7.132528650292464e-9,
          -7.140604415567286e-9,
          -7.143534895281315e-9,
          -7.115594973155008e-9,
          -7.106832214424899e-9,
          -7.128111119118646e-9,
          -7.12341013127135e-9,
          -7.126929319962795e-9,
          -7.14048662622094e-9,
          -7.1421752281305316e-9,
          -7.137326311777472e-9,
          -7.129513670055229e-9,
          -7.138368555859478e-9,
          -7.138545238870264e-9,
          -7.141253649871906e-9,
          -7.137429043111764e-9,
          -7.133284560843975e-9,
          -7.130559176125801e-9,
          -7.138881124460886e-9,
          -7.13308204653751e-9,
          -7.1231728597907786e-9,
          -7.125806539695669e-9,
          -7.139989636831077e-9,
          -7.143277726713786e-9,
          -7.139076236949253e-9,
          -7.143607947418203e-9,
          -7.139089567040092e-9,
          -7.1291406252666535e-9,
          -7.111675464558331e-9,
          -7.109251736257948e-9,
          -7.1240988901059544e-9,
          -7.126677455644562e-9,
          -7.129654645768727e-9,
          -6.861786777883795e-9,
          -6.860255311326765e-9,
          -6.920990622263917e-9,
          -6.949328825448752e-9,
          -6.7248644935957796e-9,
          -6.629642094699735e-9,
          -6.909045802874907e-9,
          -6.944914295772139e-9,
          -6.822298075531947e-9,
          -6.908957419962974e-9,
          -6.796347474033272e-9,
          -6.8143740272352715e-9,
          -6.700959840263223e-9,
          -6.9245827785400035e-9,
          -6.933325249596693e-9,
          -6.903005558833733e-9,
          -6.906432081691238e-9,
          -6.966449752631983e-9,
          -6.997068542072656e-9,
          -7.017751454987659e-9,
          -6.992383149202987e-9,
          -6.963843061681416e-9,
          -6.8926883920123974e-9,
          -6.878233699212057e-9,
          -6.8358317594918025e-9,
          -6.804563761744366e-9,
          -6.7014653616577676e-9,
          -6.657213344440228e-9,
          -6.530304467426779e-9,
          -7.0095071617464995e-9,
          -7.043266980002396e-9,
          -6.930541999944166e-9,
          -6.909585418784299e-9,
          -6.978775901906977e-9,
          -6.916749465234987e-9,
          -6.79850014057795e-9,
          -6.4920881376176376e-9,
          -6.620042343644385e-9,
          -6.892937714773133e-9,
          -6.955249560199937e-9,
          -6.892706120275316e-9,
          -6.8799067963956815e-9,
          -6.805472949026153e-9,
          -6.959682288343526e-9,
          -6.87327630495511e-9,
          -6.763225183761349e-9,
          -6.733733376515692e-9,
          -6.873182185446199e-9,
          -6.9456895622598e-9,
          -6.9422167967706925e-9,
          -6.916968203317925e-9,
          -6.946761166705622e-9,
          -6.901450103566119e-9,
          -6.955851421020239e-9,
          -6.840849375088681e-9,
          -6.716680702987324e-9,
          -7.004019451658087e-9,
          -6.622499861371526e-9,
          -6.191439649453593e-9,
          -6.9188194386076245e-9,
          -6.9112377024054606e-9,
          -6.892020773571209e-9,
          -6.716197752310607e-9,
          -6.813555183062146e-9,
          -7.063823177639389e-9,
          -7.0184372235556065e-9,
          -6.995595477075584e-9,
          -6.769995067705332e-9,
          -7.008369506979301e-9,
          -7.028755472553101e-9,
          -7.058855548027622e-9,
          -7.053300662002128e-9,
          -6.796608754881581e-9,
          -7.099633135107608e-9,
          -7.133054403739832e-9,
          -7.132459472685525e-9,
          -7.131118373647103e-9,
          -7.129788220007278e-9,
          -7.116914612357946e-9,
          -7.137465866467439e-9,
          -7.137678875534721e-9,
          -7.141202432591003e-9,
          -7.1398122648229015e-9,
          -7.134497018829214e-9,
          -7.132377119482269e-9,
          -7.137876328258301e-9,
          -7.139902589662917e-9,
          -7.139521764749193e-9,
          -7.137349567579178e-9,
          -7.139488118851588e-9,
          -7.129446534512021e-9,
          -7.114873860116261e-9,
          -7.090771984726913e-9,
          -7.050154909866033e-9,
          -7.113832365756693e-9,
          -7.121677380748209e-9,
          -7.1028182437547284e-9,
          -7.12985506893166e-9,
          -6.781816203652186e-9,
          -6.209019727224978e-9,
          -6.638304932142279e-9,
          -6.887315230878524e-9,
          -6.771022674042519e-9,
          -6.8736518166462115e-9,
          -6.890441123929307e-9,
          -6.7029009691034934e-9,
          -6.908212148539288e-9,
          -6.9933625707902855e-9,
          -6.989037084912716e-9,
          -7.056567569079345e-9,
          -7.064922427531896e-9,
          -7.014708471330382e-9,
          -7.104985242326424e-9,
          -7.075325577147958e-9,
          -7.09904674118616e-9,
          -7.115763740704857e-9,
          -7.121692177800211e-9,
          -7.131650910431071e-9,
          -7.135264441611374e-9,
          -7.0915646052032275e-9,
          -5.939488276032001e-9,
          -4.499466549741625e-9,
          -7.090967301916568e-9,
          -7.123183470692004e-9,
          -7.1166721952081045e-9,
          -7.129858661212522e-9,
          -7.125340255518985e-9,
          -7.108732727579715e-9,
          -7.1104440187040655e-9,
          -7.117746380406082e-9,
          -7.105314588237651e-9,
          -7.093419650322968e-9,
          -6.8700997887222154e-9,
          -6.769874686164287e-9,
          -6.98521462497721e-9,
          -7.109876290731121e-9,
          -7.0778519754434715e-9,
          -7.120738470964948e-9,
          -7.113552754968348e-9,
          -7.124700575053597e-9,
          -7.125442389330364e-9,
          -7.123352507811137e-9,
          -7.110583593398918e-9,
          -7.061907878864821e-9,
          -7.090834465752356e-9,
          -7.075556460153661e-9,
          -7.1399124790771165e-9,
          -7.132757249005651e-9,
          -7.1287272056473486e-9,
          -7.13055663923425e-9,
          -7.124725477919323e-9,
          -7.128653806474527e-9,
          -7.11740341393867e-9,
          -7.123707578651112e-9,
          -7.11750775571689e-9,
          -7.103831404923891e-9,
          -7.097957719026509e-9,
          -7.113058257954562e-9,
          -7.083742978324691e-9,
          -7.068018999171569e-9,
          -7.064495576063655e-9,
          -7.10382958731785e-9,
          -7.071648282024555e-9,
          -7.105249785039393e-9,
          -7.136359878096234e-9,
          -7.137207706407983e-9,
          -7.13116017265515e-9,
          -7.0803766785246034e-9,
          -7.030802171882607e-9,
          -7.100761919891438e-9,
          -7.106375168826644e-9,
          -7.12914308583675e-9,
          -7.126641013993996e-9,
          -7.120219225551274e-9,
          -7.1041811122287025e-9,
          -7.118579525193282e-9,
          -7.116922258548741e-9,
          -7.136278039254176e-9,
          -7.133308397149096e-9,
          -7.1235155342878375e-9,
          -7.132341282059119e-9,
          -7.11555759519601e-9,
          -7.119826077136563e-9,
          -7.123646405999869e-9,
          -7.113450303496675e-9,
          -7.071372766752211e-9,
          -7.104374232749544e-9,
          -7.133312053932394e-9,
          -7.130137719618959e-9,
          -7.121004290737842e-9,
          -7.125446788310078e-9,
          -7.1353888570415526e-9,
          -7.1334935375848555e-9,
          -7.130286923675454e-9,
          -7.1161084903774895e-9,
          -7.13150423996227e-9,
          -7.131830102436482e-9,
          -7.125199225749934e-9,
          -7.034798627184225e-9,
          -6.966998471536454e-9,
          -7.134989720933327e-9,
          -7.1309282919027924e-9,
          -7.138137179130668e-9,
          -7.130873887809948e-9,
          -7.133168987212808e-9,
          -7.13564832151945e-9,
          -7.128074844892206e-9,
          -7.131477182057398e-9,
          -7.131966554337199e-9,
          -7.119045190327408e-9,
          -7.120885866082739e-9,
          -7.131498342258849e-9,
          -7.125548107634681e-9,
          -7.12379257193732e-9,
          -7.117711128242538e-9,
          -7.131905567239859e-9,
          -6.778603927212199e-9,
          -6.979743804613954e-9,
          -6.5072936918571564e-9,
          -5.935382065291973e-9,
          -6.897275372532969e-9,
          -6.924795945098431e-9,
          -6.750125114050607e-9,
          -6.239699026117575e-9,
          -6.653592777109219e-9,
          -6.844922034671958e-9,
          -6.797642043369551e-9,
          -6.736135007742511e-9,
          -6.859818545669353e-9,
          -6.871092058764251e-9,
          -6.9320605131592325e-9,
          -6.753567503136605e-9,
          -6.933084290568719e-9,
          -6.632641604868665e-9,
          -6.589359070468094e-9,
          -6.4016608622213564e-9,
          -6.920763334962135e-9,
          -6.8644638126005515e-9,
          -6.429683181402953e-9,
          -5.834257666171096e-9,
          -6.532414510010893e-9,
          -6.5866271826498486e-9,
          -6.840734444822284e-9,
          -6.7784984756093675e-9,
          -6.836219700939084e-9,
          -6.756779503283836e-9,
          -6.665495018566038e-9,
          -6.777961581122741e-9,
          -7.059171651870212e-9,
          -5.904579950839262e-9,
          -4.193375451617622e-9,
          -5.506464960189813e-9,
          -6.138717224296807e-9,
          -6.569977599149309e-9,
          -6.7457029404763405e-9,
          -6.851676577042325e-9,
          -6.341487128318098e-9,
          -6.240661989473187e-9,
          -6.6799651860251605e-9,
          -6.890793586497296e-9,
          -6.6383294357512726e-9,
          -6.68120119481783e-9,
          -6.885544195922291e-9,
          -6.929691966510088e-9,
          -6.8600917703690175e-9,
          -6.795214271663345e-9,
          -6.8350583176724e-9,
          -6.778508590811066e-9,
          -6.763683296116139e-9,
          -6.2106347200739855e-9,
          -5.75851713513281e-9,
          -6.69668003139589e-9,
          -6.824419840285121e-9,
          -6.916954673739556e-9,
          -6.5806436321695884e-9,
          -6.6145569528433525e-9,
          -6.398091898445279e-9,
          -5.48991094077818e-9,
          -5.722730393903001e-9,
          -6.607128666310731e-9,
          -6.325997609342245e-9,
          -5.997131751022705e-9,
          -6.59482155641719e-9,
          -6.283840559309351e-9,
          -6.759743244532542e-9,
          -6.5333578338779624e-9,
          -6.671038980775471e-9,
          -6.6547070744325834e-9
         ]
        }
       ],
       "layout": {
        "font": {
         "size": 17
        },
        "height": 700,
        "plot_bgcolor": "white",
        "shapes": [
         {
          "line": {
           "color": "rgb(48, 18, 59)",
           "dash": "dot",
           "width": 3
          },
          "opacity": 0.5,
          "path": "M 2.7453831801127804e-07, 2.78296624907866e-07L2.5671917229586564e-07, 2.949766462554823e-07L2.378762324845531e-07, 3.1049681234318827e-07L2.1808537244546242e-07, 3.247946289398945e-07L1.9742628298691025e-07, 3.378125237844914e-07L1.7598215097064945e-07, 3.494980784090246e-07L1.538393243477365e-07, 3.5980423920936484e-07L1.3108696446580935e-07, 3.686895069134643e-07L1.0781668704780877e-07, 3.7611810368427854e-07L8.412219328779778e-08, 3.8206011718448846e-07L6.009889254932389e-08, 3.864916210229252e-07L3.584351818558666e-08, 3.8939477109770304e-07L1.1453738028365615e-08, 3.9075787744811983e-07L-1.2972238885867052e-08, 3.9057545132600213e-07L-3.733605776907404e-08, 3.8884822729695754e-07L-6.153961412167073e-08, 3.8558316028253813e-07L-8.548544876471963e-08, 3.807933975552258e-07L-1.090771402736463e-07, 3.7449822579900675e-07L-1.322196932332848e-07, 3.6672299344870146e-07L-1.5481992075088654e-07, 3.574990086207648e-07L-1.7678681968684762e-07, 3.46863413046551e-07L-1.9803193709223304e-07, 3.3485903251567006e-07L-2.1846972637758308e-07, 3.2153420443164873e-07L-2.3801789177883603e-07, 3.069425831742662e-07L-2.5659771973332427e-07, 2.911429240523042e-07L-2.7413439583150947e-07, 2.741988467166556e-07L-2.905573060682048e-07, 2.561785789864446e-07L-3.0580032118025094e-07, 2.3715468211967948e-07L-3.1980206292571893e-07, 2.1720375863467693e-07L-3.325061512324273e-07, 1.9640614385875682e-07L-3.438614312205936e-07, 1.7484558244623336e-07L-3.5382217918548094e-07, 1.5260889116824887e-07L-3.6234828671061854e-07, 1.2978560933227827e-07L-3.6940542217023937e-07, 1.0646763823893972e-07L-3.7496516897061926e-07, 8.274887112789385e-08L-3.7900513997367125e-07, 5.8724815102905347e-08L-3.8150906764204863e-07, 3.449220655844637e-08L-3.8246686954277647e-07, 1.0148621656376947e-08L-3.818746889456507e-07, -1.4207916578818628e-08L-3.7973491035292956e-07, -3.847933296415585e-08L-3.7605614989778446e-07, -6.256789507229593e-08L-3.7085322065017264e-07, -8.637660676553749e-08L-3.641470729698328e-07, -1.0980959876502809e-07L-3.5596471014658054e-07, -1.3277251468251454e-07L-3.4633907966759125e-07, -1.5517289096021485e-07L-3.3530894054949745e-07, -1.769205291889323e-07L-3.2291870726950884e-07, -1.97927859305213e-07L-3.0921827092398826e-07, -2.1811029220508509e-07L-2.942627983346155e-07, -2.373865603545247e-07L-2.7811250991106736e-07, -2.556790450251327e-07L-2.608324371646814e-07, -2.7291408883735907e-07L-2.424921608495136e-07, -2.8902229235277316e-07L-2.2316553078519869e-07, -3.039387935211087e-07L-2.0293036848979226e-07, -3.176035288568468e-07L-1.818681538199832e-07, -3.299614752936737e-07L-1.600636968804697e-07, -3.4096287174294836e-07L-1.3760479652359966e-07, -3.505634194640441e-07L-1.1458188681438149e-07, -3.587244604397412e-07L-9.108767288442154e-08, -3.654131330384195e-07L-6.721675764107956e-08, -3.706025043362491e-07L-4.3065260834949346e-08, -3.7427167856657015e-07L-1.8730432019549324e-08, -3.7640588125976924e-07L5.689741038307517e-09, -3.7699651873485436e-07L3.009692692066469e-08, -3.760412127031751e-07L5.439284650433856e-08, -3.735438098449519e-07L7.847966869625867e-08, -3.695143663200519e-07L1.0226040436475241e-07, -3.6396910727538294e-07L1.2563929688054474e-07, -3.569303615119533e-07L1.4852220769490916e-07, -3.4842647157467095e-07L1.708169954023771e-07, -3.3849167962691816e-07L1.9243388676165727e-07, -3.271659895694455e-07L2.1328583818079232e-07, -3.1449500595878317e-07L2.3328888621098405e-07, -3.005297503737862e-07L2.523624856377661e-07, -2.853264559697456e-07L2.704298338081549e-07, -2.6894634104731817e-07L2.8741817988782603e-07, -2.514553625480375e-07L3.0325911780304764e-07, -2.329239504689879e-07L3.178888616877955e-07, -2.134267242660655e-07L3.312485027269229e-07, -1.9304219238776464e-07L3.432842463611669e-07, -1.7185243614936623e-07L3.539476288988533e-07, -1.4994277922044967e-07L3.6319571266207746e-07, -1.274014440565905e-07L3.70991258881578e-07, -1.0431919665867034e-07L3.773028776441187e-07, -8.078898109022496e-08L3.821051542885894e-07, -5.6905545224505584e-08L3.853787517418764e-07, -3.276505922823316e-08L3.8711048838243093e-07, -8.464728318281275e-09L3.872933911180073e-07, 1.589759864942636e-08L3.859267234638438e-07, 4.022382318272232e-08L3.830159885082267e-07, 6.441599216120072e-08L3.7857290675349673e-07, 8.837669225885985e-08L3.7261536892172197e-07, 1.1200944219318655e-07L3.6516736391507526e-07, 1.3521908122122718e-07L3.562588822209913e-07, 1.5791215231831349e-07L3.4592579515105924e-07, 1.799972784965151e-07L3.342097103999108e-07, 2.0138553074752014e-07L3.211578045057197e-07, 2.2199078612836473e-07L3.0682263288693334e-07, 2.4173007454812586e-07L2.9126191822015085e-07, 2.6052391285919646e-07L2.7453831801127815e-07, 2.782966249078659e-07 Z",
          "type": "path"
         },
         {
          "fillcolor": "rgb(48, 18, 59)",
          "line": {
           "color": "rgb(48, 18, 59)",
           "dash": "dot"
          },
          "opacity": 0.03,
          "path": "M 2.7453831801127804e-07, 2.78296624907866e-07L2.5671917229586564e-07, 2.949766462554823e-07L2.378762324845531e-07, 3.1049681234318827e-07L2.1808537244546242e-07, 3.247946289398945e-07L1.9742628298691025e-07, 3.378125237844914e-07L1.7598215097064945e-07, 3.494980784090246e-07L1.538393243477365e-07, 3.5980423920936484e-07L1.3108696446580935e-07, 3.686895069134643e-07L1.0781668704780877e-07, 3.7611810368427854e-07L8.412219328779778e-08, 3.8206011718448846e-07L6.009889254932389e-08, 3.864916210229252e-07L3.584351818558666e-08, 3.8939477109770304e-07L1.1453738028365615e-08, 3.9075787744811983e-07L-1.2972238885867052e-08, 3.9057545132600213e-07L-3.733605776907404e-08, 3.8884822729695754e-07L-6.153961412167073e-08, 3.8558316028253813e-07L-8.548544876471963e-08, 3.807933975552258e-07L-1.090771402736463e-07, 3.7449822579900675e-07L-1.322196932332848e-07, 3.6672299344870146e-07L-1.5481992075088654e-07, 3.574990086207648e-07L-1.7678681968684762e-07, 3.46863413046551e-07L-1.9803193709223304e-07, 3.3485903251567006e-07L-2.1846972637758308e-07, 3.2153420443164873e-07L-2.3801789177883603e-07, 3.069425831742662e-07L-2.5659771973332427e-07, 2.911429240523042e-07L-2.7413439583150947e-07, 2.741988467166556e-07L-2.905573060682048e-07, 2.561785789864446e-07L-3.0580032118025094e-07, 2.3715468211967948e-07L-3.1980206292571893e-07, 2.1720375863467693e-07L-3.325061512324273e-07, 1.9640614385875682e-07L-3.438614312205936e-07, 1.7484558244623336e-07L-3.5382217918548094e-07, 1.5260889116824887e-07L-3.6234828671061854e-07, 1.2978560933227827e-07L-3.6940542217023937e-07, 1.0646763823893972e-07L-3.7496516897061926e-07, 8.274887112789385e-08L-3.7900513997367125e-07, 5.8724815102905347e-08L-3.8150906764204863e-07, 3.449220655844637e-08L-3.8246686954277647e-07, 1.0148621656376947e-08L-3.818746889456507e-07, -1.4207916578818628e-08L-3.7973491035292956e-07, -3.847933296415585e-08L-3.7605614989778446e-07, -6.256789507229593e-08L-3.7085322065017264e-07, -8.637660676553749e-08L-3.641470729698328e-07, -1.0980959876502809e-07L-3.5596471014658054e-07, -1.3277251468251454e-07L-3.4633907966759125e-07, -1.5517289096021485e-07L-3.3530894054949745e-07, -1.769205291889323e-07L-3.2291870726950884e-07, -1.97927859305213e-07L-3.0921827092398826e-07, -2.1811029220508509e-07L-2.942627983346155e-07, -2.373865603545247e-07L-2.7811250991106736e-07, -2.556790450251327e-07L-2.608324371646814e-07, -2.7291408883735907e-07L-2.424921608495136e-07, -2.8902229235277316e-07L-2.2316553078519869e-07, -3.039387935211087e-07L-2.0293036848979226e-07, -3.176035288568468e-07L-1.818681538199832e-07, -3.299614752936737e-07L-1.600636968804697e-07, -3.4096287174294836e-07L-1.3760479652359966e-07, -3.505634194640441e-07L-1.1458188681438149e-07, -3.587244604397412e-07L-9.108767288442154e-08, -3.654131330384195e-07L-6.721675764107956e-08, -3.706025043362491e-07L-4.3065260834949346e-08, -3.7427167856657015e-07L-1.8730432019549324e-08, -3.7640588125976924e-07L5.689741038307517e-09, -3.7699651873485436e-07L3.009692692066469e-08, -3.760412127031751e-07L5.439284650433856e-08, -3.735438098449519e-07L7.847966869625867e-08, -3.695143663200519e-07L1.0226040436475241e-07, -3.6396910727538294e-07L1.2563929688054474e-07, -3.569303615119533e-07L1.4852220769490916e-07, -3.4842647157467095e-07L1.708169954023771e-07, -3.3849167962691816e-07L1.9243388676165727e-07, -3.271659895694455e-07L2.1328583818079232e-07, -3.1449500595878317e-07L2.3328888621098405e-07, -3.005297503737862e-07L2.523624856377661e-07, -2.853264559697456e-07L2.704298338081549e-07, -2.6894634104731817e-07L2.8741817988782603e-07, -2.514553625480375e-07L3.0325911780304764e-07, -2.329239504689879e-07L3.178888616877955e-07, -2.134267242660655e-07L3.312485027269229e-07, -1.9304219238776464e-07L3.432842463611669e-07, -1.7185243614936623e-07L3.539476288988533e-07, -1.4994277922044967e-07L3.6319571266207746e-07, -1.274014440565905e-07L3.70991258881578e-07, -1.0431919665867034e-07L3.773028776441187e-07, -8.078898109022496e-08L3.821051542885894e-07, -5.6905545224505584e-08L3.853787517418764e-07, -3.276505922823316e-08L3.8711048838243093e-07, -8.464728318281275e-09L3.872933911180073e-07, 1.589759864942636e-08L3.859267234638438e-07, 4.022382318272232e-08L3.830159885082267e-07, 6.441599216120072e-08L3.7857290675349673e-07, 8.837669225885985e-08L3.7261536892172197e-07, 1.1200944219318655e-07L3.6516736391507526e-07, 1.3521908122122718e-07L3.562588822209913e-07, 1.5791215231831349e-07L3.4592579515105924e-07, 1.799972784965151e-07L3.342097103999108e-07, 2.0138553074752014e-07L3.211578045057197e-07, 2.2199078612836473e-07L3.0682263288693334e-07, 2.4173007454812586e-07L2.9126191822015085e-07, 2.6052391285919646e-07L2.7453831801127815e-07, 2.782966249078659e-07 Z",
          "type": "path"
         },
         {
          "line": {
           "color": "rgb(122, 4, 2)",
           "dash": "dot",
           "width": 3
          },
          "opacity": 0.5,
          "path": "M -2.089068947030619e-09, -6.418362217303523e-09L-2.109673522328578e-09, -6.392250067260146e-09L-2.1317065904514042e-09, -6.36831016669192e-09L-2.155079432010201e-09, -6.3466389131289945e-09L-2.1796979328213103e-09, -6.3273235690607335e-09L-2.205462962870912e-09, -6.31044191056047e-09L-2.2322707754766037e-09, -6.296061914108709e-09L-2.2600134250386717e-09, -6.28424148287583e-09L-2.2885792016989253e-09, -6.27502821356646e-09L-2.3178530811568666e-09, -6.268459204764344e-09L-2.347717187831952e-09, -6.264560907549435e-09L-2.3780512695069513e-09, -6.26334901898874e-09L-2.408733181541184e-09, -6.264828418929763e-09L-2.439639378703878e-09, -6.268993150351086e-09L-2.4706454126472087e-09, -6.275826443349193e-09L-2.5016264330158734e-09, -6.285300782664948e-09L-2.5324576901754053e-09, -6.297378018477835e-09L-2.5630150375349227e-09, -6.312009520021821e-09L-2.5931754314416344e-09, -6.329136371404286e-09L-2.6228174266342014e-09, -6.348689608839528e-09L-2.65182166525994e-09, -6.370590498341588e-09L-2.680071357486771e-09, -6.394750852758225e-09L-2.7074527517746484e-09, -6.4210733868694486e-09L-2.733855592912868e-09, -6.449452109120768e-09L-2.7591735659788845e-09, -6.47977274841377e-09L-2.7833047244309816e-09, -6.5119132142355015e-09L-2.8061519006110152e-09, -6.5457440882738775e-09L-2.8276230970042764e-09, -6.58112914553954e-09L-2.8476318566810148e-09, -6.617925902895817e-09L-2.8660976114279786e-09, -6.65598619278802e-09L-2.8829460061681752e-09, -6.695156759861895e-09L-2.898109198362522e-09, -6.735279878068843e-09L-2.9115261311878066e-09, -6.776193985773051e-09L-2.923142779390964e-09, -6.817734336303172e-09L-2.932912366829704e-09, -6.859733661329029e-09L-2.9407955548235257e-09, -6.902022844392143e-09L-2.9467606005567005e-09, -6.944431601878024e-09L-2.9507834848953854e-09, -6.98678916868818e-09L-2.9528480091042017e-09, -7.028924985850909e-09L-2.952945860072821e-09, -7.0706693873020685e-09L-2.951076643789928e-09, -7.111854283070443e-09L-2.9472478869297674e-09, -7.152313836116723e-09L-2.941475006544877e-09, -7.191885130100741e-09L-2.933781247987066e-09, -7.230408825388064e-09L-2.9241975913065824e-09, -7.267729800654466e-09L-2.9127626265063863e-09, -7.303697777504759e-09L-2.8995223981538283e-09, -7.338167925590837e-09L-2.884530219975429e-09, -7.371001445792382e-09L-2.8678464601813156e-09, -7.4020661291119296e-09L-2.849538298383751e-09, -7.431236889033837e-09L-2.829679455088542e-09, -7.45839626520354e-09L-2.8083498948485835e-09, -7.48343489639893e-09L-2.785635504274826e-09, -7.506251960889417e-09L-2.7616277462012084e-09, -7.526755582409437e-09L-2.7364232913961034e-09, -7.544863200111754e-09L-2.7101236293032567e-09, -7.56050190101085e-09L-2.6828346593796137e-09, -7.57360871357779e-09L-2.6546662646755857e-09, -7.584130861304333e-09L-2.625731869374786e-09, -7.592025975215309e-09L-2.5961479820748763e-09, -7.597262264473533e-09L-2.566033726648565e-09, -7.599818644390276e-09L-2.535510362573815e-09, -7.59968482132587e-09L-2.504700796664724e-09, -7.596861334138567e-09L-2.4737290881691637e-09, -7.591359552014735e-09L-2.442719949225974e-09, -7.583201628689169e-09L-2.411798242693197e-09, -7.572420413239811e-09L-2.381088479369416e-09, -7.559059317816115e-09L-2.3507143166327176e-09, -7.543172142833634e-09L-2.32079806051607e-09, -7.524822860338745e-09L-2.2914601732240986e-09, -7.504085356415792e-09L-2.2628187880743037e-09, -7.481043133673896e-09L-2.234989233815886e-09, -7.45578897501143e-09L-2.2080835702415757e-09, -7.428424570012032e-09L-2.1822101369624e-09, -7.399060105476538e-09L-2.157473117162307e-09, -7.3678138217396254e-09L-2.133972118089256e-09, -7.334811536557725e-09L-2.1118017699719816e-09, -7.300186138485311e-09L-2.091051344977466e-09, -7.264077051779603e-09L-2.0718043977434298e-09, -7.226629674988288e-09L-2.0541384289332935e-09, -7.187994795480886e-09L-2.038124573168362e-09, -7.148327982281234e-09L-2.0238273125938103e-09, -7.107788959645931e-09L-2.0113042172318434e-09, -7.066540963911136e-09L-2.000605713167535e-09, -7.024750086197449e-09L-1.991774879500782e-09, -6.982584603619594e-09L-1.9848472748819723e-09, -6.940214301693864e-09L-1.9798507943298512e-09, -6.897809790671785e-09L-1.9768055569081254e-09, -6.855541818552831e-09L-1.9757238247130947e-09, -6.813580583542511e-09L-1.976609953498518e-09, -6.772095048724252e-09L-1.9794603751365297e-09, -6.731252261704708e-09L-1.984263611985232e-09, -6.691216681971999e-09L-1.9910003231051083e-09, -6.652149518675399e-09L-1.9996433821381586e-09, -6.614208081492994e-09L-2.0101579865361704e-09, -6.577545147201122e-09L-2.0225017976982973e-09, -6.542308344496223e-09L-2.036625111453661e-09, -6.5086395595461794e-09L-2.0524710582025037e-09, -6.476674364664797e-09L-2.069975831909996e-09, -6.4465414724099465e-09L-2.089068947030619e-09, -6.418362217303523e-09 Z",
          "type": "path"
         },
         {
          "fillcolor": "rgb(122, 4, 2)",
          "line": {
           "color": "rgb(122, 4, 2)",
           "dash": "dot"
          },
          "opacity": 0.03,
          "path": "M -2.089068947030619e-09, -6.418362217303523e-09L-2.109673522328578e-09, -6.392250067260146e-09L-2.1317065904514042e-09, -6.36831016669192e-09L-2.155079432010201e-09, -6.3466389131289945e-09L-2.1796979328213103e-09, -6.3273235690607335e-09L-2.205462962870912e-09, -6.31044191056047e-09L-2.2322707754766037e-09, -6.296061914108709e-09L-2.2600134250386717e-09, -6.28424148287583e-09L-2.2885792016989253e-09, -6.27502821356646e-09L-2.3178530811568666e-09, -6.268459204764344e-09L-2.347717187831952e-09, -6.264560907549435e-09L-2.3780512695069513e-09, -6.26334901898874e-09L-2.408733181541184e-09, -6.264828418929763e-09L-2.439639378703878e-09, -6.268993150351086e-09L-2.4706454126472087e-09, -6.275826443349193e-09L-2.5016264330158734e-09, -6.285300782664948e-09L-2.5324576901754053e-09, -6.297378018477835e-09L-2.5630150375349227e-09, -6.312009520021821e-09L-2.5931754314416344e-09, -6.329136371404286e-09L-2.6228174266342014e-09, -6.348689608839528e-09L-2.65182166525994e-09, -6.370590498341588e-09L-2.680071357486771e-09, -6.394750852758225e-09L-2.7074527517746484e-09, -6.4210733868694486e-09L-2.733855592912868e-09, -6.449452109120768e-09L-2.7591735659788845e-09, -6.47977274841377e-09L-2.7833047244309816e-09, -6.5119132142355015e-09L-2.8061519006110152e-09, -6.5457440882738775e-09L-2.8276230970042764e-09, -6.58112914553954e-09L-2.8476318566810148e-09, -6.617925902895817e-09L-2.8660976114279786e-09, -6.65598619278802e-09L-2.8829460061681752e-09, -6.695156759861895e-09L-2.898109198362522e-09, -6.735279878068843e-09L-2.9115261311878066e-09, -6.776193985773051e-09L-2.923142779390964e-09, -6.817734336303172e-09L-2.932912366829704e-09, -6.859733661329029e-09L-2.9407955548235257e-09, -6.902022844392143e-09L-2.9467606005567005e-09, -6.944431601878024e-09L-2.9507834848953854e-09, -6.98678916868818e-09L-2.9528480091042017e-09, -7.028924985850909e-09L-2.952945860072821e-09, -7.0706693873020685e-09L-2.951076643789928e-09, -7.111854283070443e-09L-2.9472478869297674e-09, -7.152313836116723e-09L-2.941475006544877e-09, -7.191885130100741e-09L-2.933781247987066e-09, -7.230408825388064e-09L-2.9241975913065824e-09, -7.267729800654466e-09L-2.9127626265063863e-09, -7.303697777504759e-09L-2.8995223981538283e-09, -7.338167925590837e-09L-2.884530219975429e-09, -7.371001445792382e-09L-2.8678464601813156e-09, -7.4020661291119296e-09L-2.849538298383751e-09, -7.431236889033837e-09L-2.829679455088542e-09, -7.45839626520354e-09L-2.8083498948485835e-09, -7.48343489639893e-09L-2.785635504274826e-09, -7.506251960889417e-09L-2.7616277462012084e-09, -7.526755582409437e-09L-2.7364232913961034e-09, -7.544863200111754e-09L-2.7101236293032567e-09, -7.56050190101085e-09L-2.6828346593796137e-09, -7.57360871357779e-09L-2.6546662646755857e-09, -7.584130861304333e-09L-2.625731869374786e-09, -7.592025975215309e-09L-2.5961479820748763e-09, -7.597262264473533e-09L-2.566033726648565e-09, -7.599818644390276e-09L-2.535510362573815e-09, -7.59968482132587e-09L-2.504700796664724e-09, -7.596861334138567e-09L-2.4737290881691637e-09, -7.591359552014735e-09L-2.442719949225974e-09, -7.583201628689169e-09L-2.411798242693197e-09, -7.572420413239811e-09L-2.381088479369416e-09, -7.559059317816115e-09L-2.3507143166327176e-09, -7.543172142833634e-09L-2.32079806051607e-09, -7.524822860338745e-09L-2.2914601732240986e-09, -7.504085356415792e-09L-2.2628187880743037e-09, -7.481043133673896e-09L-2.234989233815886e-09, -7.45578897501143e-09L-2.2080835702415757e-09, -7.428424570012032e-09L-2.1822101369624e-09, -7.399060105476538e-09L-2.157473117162307e-09, -7.3678138217396254e-09L-2.133972118089256e-09, -7.334811536557725e-09L-2.1118017699719816e-09, -7.300186138485311e-09L-2.091051344977466e-09, -7.264077051779603e-09L-2.0718043977434298e-09, -7.226629674988288e-09L-2.0541384289332935e-09, -7.187994795480886e-09L-2.038124573168362e-09, -7.148327982281234e-09L-2.0238273125938103e-09, -7.107788959645931e-09L-2.0113042172318434e-09, -7.066540963911136e-09L-2.000605713167535e-09, -7.024750086197449e-09L-1.991774879500782e-09, -6.982584603619594e-09L-1.9848472748819723e-09, -6.940214301693864e-09L-1.9798507943298512e-09, -6.897809790671785e-09L-1.9768055569081254e-09, -6.855541818552831e-09L-1.9757238247130947e-09, -6.813580583542511e-09L-1.976609953498518e-09, -6.772095048724252e-09L-1.9794603751365297e-09, -6.731252261704708e-09L-1.984263611985232e-09, -6.691216681971999e-09L-1.9910003231051083e-09, -6.652149518675399e-09L-1.9996433821381586e-09, -6.614208081492994e-09L-2.0101579865361704e-09, -6.577545147201122e-09L-2.0225017976982973e-09, -6.542308344496223e-09L-2.036625111453661e-09, -6.5086395595461794e-09L-2.0524710582025037e-09, -6.476674364664797e-09L-2.069975831909996e-09, -6.4465414724099465e-09L-2.089068947030619e-09, -6.418362217303523e-09 Z",
          "type": "path"
         }
        ],
        "showlegend": true,
        "template": {
         "data": {
          "bar": [
           {
            "error_x": {
             "color": "#2a3f5f"
            },
            "error_y": {
             "color": "#2a3f5f"
            },
            "marker": {
             "line": {
              "color": "#E5ECF6",
              "width": 0.5
             },
             "pattern": {
              "fillmode": "overlay",
              "size": 10,
              "solidity": 0.2
             }
            },
            "type": "bar"
           }
          ],
          "barpolar": [
           {
            "marker": {
             "line": {
              "color": "#E5ECF6",
              "width": 0.5
             },
             "pattern": {
              "fillmode": "overlay",
              "size": 10,
              "solidity": 0.2
             }
            },
            "type": "barpolar"
           }
          ],
          "carpet": [
           {
            "aaxis": {
             "endlinecolor": "#2a3f5f",
             "gridcolor": "white",
             "linecolor": "white",
             "minorgridcolor": "white",
             "startlinecolor": "#2a3f5f"
            },
            "baxis": {
             "endlinecolor": "#2a3f5f",
             "gridcolor": "white",
             "linecolor": "white",
             "minorgridcolor": "white",
             "startlinecolor": "#2a3f5f"
            },
            "type": "carpet"
           }
          ],
          "choropleth": [
           {
            "colorbar": {
             "outlinewidth": 0,
             "ticks": ""
            },
            "type": "choropleth"
           }
          ],
          "contour": [
           {
            "colorbar": {
             "outlinewidth": 0,
             "ticks": ""
            },
            "colorscale": [
             [
              0,
              "#0d0887"
             ],
             [
              0.1111111111111111,
              "#46039f"
             ],
             [
              0.2222222222222222,
              "#7201a8"
             ],
             [
              0.3333333333333333,
              "#9c179e"
             ],
             [
              0.4444444444444444,
              "#bd3786"
             ],
             [
              0.5555555555555556,
              "#d8576b"
             ],
             [
              0.6666666666666666,
              "#ed7953"
             ],
             [
              0.7777777777777778,
              "#fb9f3a"
             ],
             [
              0.8888888888888888,
              "#fdca26"
             ],
             [
              1,
              "#f0f921"
             ]
            ],
            "type": "contour"
           }
          ],
          "contourcarpet": [
           {
            "colorbar": {
             "outlinewidth": 0,
             "ticks": ""
            },
            "type": "contourcarpet"
           }
          ],
          "heatmap": [
           {
            "colorbar": {
             "outlinewidth": 0,
             "ticks": ""
            },
            "colorscale": [
             [
              0,
              "#0d0887"
             ],
             [
              0.1111111111111111,
              "#46039f"
             ],
             [
              0.2222222222222222,
              "#7201a8"
             ],
             [
              0.3333333333333333,
              "#9c179e"
             ],
             [
              0.4444444444444444,
              "#bd3786"
             ],
             [
              0.5555555555555556,
              "#d8576b"
             ],
             [
              0.6666666666666666,
              "#ed7953"
             ],
             [
              0.7777777777777778,
              "#fb9f3a"
             ],
             [
              0.8888888888888888,
              "#fdca26"
             ],
             [
              1,
              "#f0f921"
             ]
            ],
            "type": "heatmap"
           }
          ],
          "heatmapgl": [
           {
            "colorbar": {
             "outlinewidth": 0,
             "ticks": ""
            },
            "colorscale": [
             [
              0,
              "#0d0887"
             ],
             [
              0.1111111111111111,
              "#46039f"
             ],
             [
              0.2222222222222222,
              "#7201a8"
             ],
             [
              0.3333333333333333,
              "#9c179e"
             ],
             [
              0.4444444444444444,
              "#bd3786"
             ],
             [
              0.5555555555555556,
              "#d8576b"
             ],
             [
              0.6666666666666666,
              "#ed7953"
             ],
             [
              0.7777777777777778,
              "#fb9f3a"
             ],
             [
              0.8888888888888888,
              "#fdca26"
             ],
             [
              1,
              "#f0f921"
             ]
            ],
            "type": "heatmapgl"
           }
          ],
          "histogram": [
           {
            "marker": {
             "pattern": {
              "fillmode": "overlay",
              "size": 10,
              "solidity": 0.2
             }
            },
            "type": "histogram"
           }
          ],
          "histogram2d": [
           {
            "colorbar": {
             "outlinewidth": 0,
             "ticks": ""
            },
            "colorscale": [
             [
              0,
              "#0d0887"
             ],
             [
              0.1111111111111111,
              "#46039f"
             ],
             [
              0.2222222222222222,
              "#7201a8"
             ],
             [
              0.3333333333333333,
              "#9c179e"
             ],
             [
              0.4444444444444444,
              "#bd3786"
             ],
             [
              0.5555555555555556,
              "#d8576b"
             ],
             [
              0.6666666666666666,
              "#ed7953"
             ],
             [
              0.7777777777777778,
              "#fb9f3a"
             ],
             [
              0.8888888888888888,
              "#fdca26"
             ],
             [
              1,
              "#f0f921"
             ]
            ],
            "type": "histogram2d"
           }
          ],
          "histogram2dcontour": [
           {
            "colorbar": {
             "outlinewidth": 0,
             "ticks": ""
            },
            "colorscale": [
             [
              0,
              "#0d0887"
             ],
             [
              0.1111111111111111,
              "#46039f"
             ],
             [
              0.2222222222222222,
              "#7201a8"
             ],
             [
              0.3333333333333333,
              "#9c179e"
             ],
             [
              0.4444444444444444,
              "#bd3786"
             ],
             [
              0.5555555555555556,
              "#d8576b"
             ],
             [
              0.6666666666666666,
              "#ed7953"
             ],
             [
              0.7777777777777778,
              "#fb9f3a"
             ],
             [
              0.8888888888888888,
              "#fdca26"
             ],
             [
              1,
              "#f0f921"
             ]
            ],
            "type": "histogram2dcontour"
           }
          ],
          "mesh3d": [
           {
            "colorbar": {
             "outlinewidth": 0,
             "ticks": ""
            },
            "type": "mesh3d"
           }
          ],
          "parcoords": [
           {
            "line": {
             "colorbar": {
              "outlinewidth": 0,
              "ticks": ""
             }
            },
            "type": "parcoords"
           }
          ],
          "pie": [
           {
            "automargin": true,
            "type": "pie"
           }
          ],
          "scatter": [
           {
            "fillpattern": {
             "fillmode": "overlay",
             "size": 10,
             "solidity": 0.2
            },
            "type": "scatter"
           }
          ],
          "scatter3d": [
           {
            "line": {
             "colorbar": {
              "outlinewidth": 0,
              "ticks": ""
             }
            },
            "marker": {
             "colorbar": {
              "outlinewidth": 0,
              "ticks": ""
             }
            },
            "type": "scatter3d"
           }
          ],
          "scattercarpet": [
           {
            "marker": {
             "colorbar": {
              "outlinewidth": 0,
              "ticks": ""
             }
            },
            "type": "scattercarpet"
           }
          ],
          "scattergeo": [
           {
            "marker": {
             "colorbar": {
              "outlinewidth": 0,
              "ticks": ""
             }
            },
            "type": "scattergeo"
           }
          ],
          "scattergl": [
           {
            "marker": {
             "colorbar": {
              "outlinewidth": 0,
              "ticks": ""
             }
            },
            "type": "scattergl"
           }
          ],
          "scattermapbox": [
           {
            "marker": {
             "colorbar": {
              "outlinewidth": 0,
              "ticks": ""
             }
            },
            "type": "scattermapbox"
           }
          ],
          "scatterpolar": [
           {
            "marker": {
             "colorbar": {
              "outlinewidth": 0,
              "ticks": ""
             }
            },
            "type": "scatterpolar"
           }
          ],
          "scatterpolargl": [
           {
            "marker": {
             "colorbar": {
              "outlinewidth": 0,
              "ticks": ""
             }
            },
            "type": "scatterpolargl"
           }
          ],
          "scatterternary": [
           {
            "marker": {
             "colorbar": {
              "outlinewidth": 0,
              "ticks": ""
             }
            },
            "type": "scatterternary"
           }
          ],
          "surface": [
           {
            "colorbar": {
             "outlinewidth": 0,
             "ticks": ""
            },
            "colorscale": [
             [
              0,
              "#0d0887"
             ],
             [
              0.1111111111111111,
              "#46039f"
             ],
             [
              0.2222222222222222,
              "#7201a8"
             ],
             [
              0.3333333333333333,
              "#9c179e"
             ],
             [
              0.4444444444444444,
              "#bd3786"
             ],
             [
              0.5555555555555556,
              "#d8576b"
             ],
             [
              0.6666666666666666,
              "#ed7953"
             ],
             [
              0.7777777777777778,
              "#fb9f3a"
             ],
             [
              0.8888888888888888,
              "#fdca26"
             ],
             [
              1,
              "#f0f921"
             ]
            ],
            "type": "surface"
           }
          ],
          "table": [
           {
            "cells": {
             "fill": {
              "color": "#EBF0F8"
             },
             "line": {
              "color": "white"
             }
            },
            "header": {
             "fill": {
              "color": "#C8D4E3"
             },
             "line": {
              "color": "white"
             }
            },
            "type": "table"
           }
          ]
         },
         "layout": {
          "annotationdefaults": {
           "arrowcolor": "#2a3f5f",
           "arrowhead": 0,
           "arrowwidth": 1
          },
          "autotypenumbers": "strict",
          "coloraxis": {
           "colorbar": {
            "outlinewidth": 0,
            "ticks": ""
           }
          },
          "colorscale": {
           "diverging": [
            [
             0,
             "#8e0152"
            ],
            [
             0.1,
             "#c51b7d"
            ],
            [
             0.2,
             "#de77ae"
            ],
            [
             0.3,
             "#f1b6da"
            ],
            [
             0.4,
             "#fde0ef"
            ],
            [
             0.5,
             "#f7f7f7"
            ],
            [
             0.6,
             "#e6f5d0"
            ],
            [
             0.7,
             "#b8e186"
            ],
            [
             0.8,
             "#7fbc41"
            ],
            [
             0.9,
             "#4d9221"
            ],
            [
             1,
             "#276419"
            ]
           ],
           "sequential": [
            [
             0,
             "#0d0887"
            ],
            [
             0.1111111111111111,
             "#46039f"
            ],
            [
             0.2222222222222222,
             "#7201a8"
            ],
            [
             0.3333333333333333,
             "#9c179e"
            ],
            [
             0.4444444444444444,
             "#bd3786"
            ],
            [
             0.5555555555555556,
             "#d8576b"
            ],
            [
             0.6666666666666666,
             "#ed7953"
            ],
            [
             0.7777777777777778,
             "#fb9f3a"
            ],
            [
             0.8888888888888888,
             "#fdca26"
            ],
            [
             1,
             "#f0f921"
            ]
           ],
           "sequentialminus": [
            [
             0,
             "#0d0887"
            ],
            [
             0.1111111111111111,
             "#46039f"
            ],
            [
             0.2222222222222222,
             "#7201a8"
            ],
            [
             0.3333333333333333,
             "#9c179e"
            ],
            [
             0.4444444444444444,
             "#bd3786"
            ],
            [
             0.5555555555555556,
             "#d8576b"
            ],
            [
             0.6666666666666666,
             "#ed7953"
            ],
            [
             0.7777777777777778,
             "#fb9f3a"
            ],
            [
             0.8888888888888888,
             "#fdca26"
            ],
            [
             1,
             "#f0f921"
            ]
           ]
          },
          "colorway": [
           "#636efa",
           "#EF553B",
           "#00cc96",
           "#ab63fa",
           "#FFA15A",
           "#19d3f3",
           "#FF6692",
           "#B6E880",
           "#FF97FF",
           "#FECB52"
          ],
          "font": {
           "color": "#2a3f5f"
          },
          "geo": {
           "bgcolor": "white",
           "lakecolor": "white",
           "landcolor": "#E5ECF6",
           "showlakes": true,
           "showland": true,
           "subunitcolor": "white"
          },
          "hoverlabel": {
           "align": "left"
          },
          "hovermode": "closest",
          "mapbox": {
           "style": "light"
          },
          "paper_bgcolor": "white",
          "plot_bgcolor": "#E5ECF6",
          "polar": {
           "angularaxis": {
            "gridcolor": "white",
            "linecolor": "white",
            "ticks": ""
           },
           "bgcolor": "#E5ECF6",
           "radialaxis": {
            "gridcolor": "white",
            "linecolor": "white",
            "ticks": ""
           }
          },
          "scene": {
           "xaxis": {
            "backgroundcolor": "#E5ECF6",
            "gridcolor": "white",
            "gridwidth": 2,
            "linecolor": "white",
            "showbackground": true,
            "ticks": "",
            "zerolinecolor": "white"
           },
           "yaxis": {
            "backgroundcolor": "#E5ECF6",
            "gridcolor": "white",
            "gridwidth": 2,
            "linecolor": "white",
            "showbackground": true,
            "ticks": "",
            "zerolinecolor": "white"
           },
           "zaxis": {
            "backgroundcolor": "#E5ECF6",
            "gridcolor": "white",
            "gridwidth": 2,
            "linecolor": "white",
            "showbackground": true,
            "ticks": "",
            "zerolinecolor": "white"
           }
          },
          "shapedefaults": {
           "line": {
            "color": "#2a3f5f"
           }
          },
          "ternary": {
           "aaxis": {
            "gridcolor": "white",
            "linecolor": "white",
            "ticks": ""
           },
           "baxis": {
            "gridcolor": "white",
            "linecolor": "white",
            "ticks": ""
           },
           "bgcolor": "#E5ECF6",
           "caxis": {
            "gridcolor": "white",
            "linecolor": "white",
            "ticks": ""
           }
          },
          "title": {
           "x": 0.05
          },
          "xaxis": {
           "automargin": true,
           "gridcolor": "white",
           "linecolor": "white",
           "ticks": "",
           "title": {
            "standoff": 15
           },
           "zerolinecolor": "white",
           "zerolinewidth": 2
          },
          "yaxis": {
           "automargin": true,
           "gridcolor": "white",
           "linecolor": "white",
           "ticks": "",
           "title": {
            "standoff": 15
           },
           "zerolinecolor": "white",
           "zerolinewidth": 2
          }
         }
        },
        "title": {
         "text": "<b>PCA plot</b> + 90% confidence interval"
        },
        "width": 1200,
        "xaxis": {
         "showticklabels": false
        },
        "yaxis": {
         "showticklabels": false
        }
       }
      }
     },
     "metadata": {},
     "output_type": "display_data"
    }
   ],
   "source": [
    "labels = [\"Group\", \"Recording\", \"Window\"]\n",
    "\n",
    "df_pca, pca_embedding = get_pca_df(\n",
    "    df=df,\n",
    "    labels=labels,\n",
    ")\n",
    "\n",
    "plot_dim_reduction(\n",
    "    df=df_pca,\n",
    "    labels=labels,\n",
    "    hue_col=\"Group\",\n",
    "    title=\"PCA plot\",\n",
    ")"
   ]
  }
 ],
 "metadata": {
  "kernelspec": {
   "display_name": ".venv",
   "language": "python",
   "name": "python3"
  },
  "language_info": {
   "codemirror_mode": {
    "name": "ipython",
    "version": 3
   },
   "file_extension": ".py",
   "mimetype": "text/x-python",
   "name": "python",
   "nbconvert_exporter": "python",
   "pygments_lexer": "ipython3",
   "version": "3.12.7"
  }
 },
 "nbformat": 4,
 "nbformat_minor": 2
}
